{
 "cells": [
  {
   "cell_type": "markdown",
   "metadata": {},
   "source": [
    "# Project: Hospital Appointment Attendance\n",
    "\n",
    "## Table of Contents\n",
    "<ul>\n",
    "<li><a href=\"#intro\">Introduction</a></li>\n",
    "<li><a href=\"#wrangling\">Data Wrangling</a></li>\n",
    "<li><a href=\"#eda\">Exploratory Data Analysis</a></li>\n",
    "<li><a href=\"#scheduleDate\">Schedule Date</a></li>\n",
    "<li><a href=\"#nb_age\">Age</a></li>\n",
    "<li><a href=\"#conclusions\">Conclusions</a></li>\n",
    "</ul>"
   ]
  },
  {
   "cell_type": "markdown",
   "metadata": {},
   "source": [
    "<a id='intro'></a>\n",
    "## Introduction\n",
    "\n",
    "> The dataset explored in this project includes information about hospital appointments that were scheduled in Brazil. The dataset is supplemented with information on the patient's health history and general background, as well as whether or not they attended their appointment."
   ]
  },
  {
   "cell_type": "code",
   "execution_count": 1,
   "metadata": {},
   "outputs": [],
   "source": [
    "import pandas as pd\n",
    "import numpy as np\n",
    "import matplotlib.pyplot as plt\n",
    "import datetime\n",
    "import seaborn as sns\n",
    "%matplotlib inline"
   ]
  },
  {
   "cell_type": "markdown",
   "metadata": {},
   "source": [
    "<a id='wrangling'></a>\n",
    "## Data Wrangling\n"
   ]
  },
  {
   "cell_type": "code",
   "execution_count": 4,
   "metadata": {},
   "outputs": [
    {
     "data": {
      "text/html": [
       "<div>\n",
       "<style scoped>\n",
       "    .dataframe tbody tr th:only-of-type {\n",
       "        vertical-align: middle;\n",
       "    }\n",
       "\n",
       "    .dataframe tbody tr th {\n",
       "        vertical-align: top;\n",
       "    }\n",
       "\n",
       "    .dataframe thead th {\n",
       "        text-align: right;\n",
       "    }\n",
       "</style>\n",
       "<table border=\"1\" class=\"dataframe\">\n",
       "  <thead>\n",
       "    <tr style=\"text-align: right;\">\n",
       "      <th></th>\n",
       "      <th>PatientId</th>\n",
       "      <th>AppointmentID</th>\n",
       "      <th>Gender</th>\n",
       "      <th>ScheduledDay</th>\n",
       "      <th>AppointmentDay</th>\n",
       "      <th>Age</th>\n",
       "      <th>Neighbourhood</th>\n",
       "      <th>Scholarship</th>\n",
       "      <th>Hipertension</th>\n",
       "      <th>Diabetes</th>\n",
       "      <th>Alcoholism</th>\n",
       "      <th>Handcap</th>\n",
       "      <th>SMS_received</th>\n",
       "      <th>No-show</th>\n",
       "    </tr>\n",
       "  </thead>\n",
       "  <tbody>\n",
       "    <tr>\n",
       "      <td>0</td>\n",
       "      <td>2.987250e+13</td>\n",
       "      <td>5642903</td>\n",
       "      <td>F</td>\n",
       "      <td>2016-04-29T18:38:08Z</td>\n",
       "      <td>2016-04-29T00:00:00Z</td>\n",
       "      <td>62</td>\n",
       "      <td>JARDIM DA PENHA</td>\n",
       "      <td>0</td>\n",
       "      <td>1</td>\n",
       "      <td>0</td>\n",
       "      <td>0</td>\n",
       "      <td>0</td>\n",
       "      <td>0</td>\n",
       "      <td>No</td>\n",
       "    </tr>\n",
       "    <tr>\n",
       "      <td>1</td>\n",
       "      <td>5.589978e+14</td>\n",
       "      <td>5642503</td>\n",
       "      <td>M</td>\n",
       "      <td>2016-04-29T16:08:27Z</td>\n",
       "      <td>2016-04-29T00:00:00Z</td>\n",
       "      <td>56</td>\n",
       "      <td>JARDIM DA PENHA</td>\n",
       "      <td>0</td>\n",
       "      <td>0</td>\n",
       "      <td>0</td>\n",
       "      <td>0</td>\n",
       "      <td>0</td>\n",
       "      <td>0</td>\n",
       "      <td>No</td>\n",
       "    </tr>\n",
       "    <tr>\n",
       "      <td>2</td>\n",
       "      <td>4.262962e+12</td>\n",
       "      <td>5642549</td>\n",
       "      <td>F</td>\n",
       "      <td>2016-04-29T16:19:04Z</td>\n",
       "      <td>2016-04-29T00:00:00Z</td>\n",
       "      <td>62</td>\n",
       "      <td>MATA DA PRAIA</td>\n",
       "      <td>0</td>\n",
       "      <td>0</td>\n",
       "      <td>0</td>\n",
       "      <td>0</td>\n",
       "      <td>0</td>\n",
       "      <td>0</td>\n",
       "      <td>No</td>\n",
       "    </tr>\n",
       "    <tr>\n",
       "      <td>3</td>\n",
       "      <td>8.679512e+11</td>\n",
       "      <td>5642828</td>\n",
       "      <td>F</td>\n",
       "      <td>2016-04-29T17:29:31Z</td>\n",
       "      <td>2016-04-29T00:00:00Z</td>\n",
       "      <td>8</td>\n",
       "      <td>PONTAL DE CAMBURI</td>\n",
       "      <td>0</td>\n",
       "      <td>0</td>\n",
       "      <td>0</td>\n",
       "      <td>0</td>\n",
       "      <td>0</td>\n",
       "      <td>0</td>\n",
       "      <td>No</td>\n",
       "    </tr>\n",
       "    <tr>\n",
       "      <td>4</td>\n",
       "      <td>8.841186e+12</td>\n",
       "      <td>5642494</td>\n",
       "      <td>F</td>\n",
       "      <td>2016-04-29T16:07:23Z</td>\n",
       "      <td>2016-04-29T00:00:00Z</td>\n",
       "      <td>56</td>\n",
       "      <td>JARDIM DA PENHA</td>\n",
       "      <td>0</td>\n",
       "      <td>1</td>\n",
       "      <td>1</td>\n",
       "      <td>0</td>\n",
       "      <td>0</td>\n",
       "      <td>0</td>\n",
       "      <td>No</td>\n",
       "    </tr>\n",
       "  </tbody>\n",
       "</table>\n",
       "</div>"
      ],
      "text/plain": [
       "      PatientId  AppointmentID Gender          ScheduledDay  \\\n",
       "0  2.987250e+13        5642903      F  2016-04-29T18:38:08Z   \n",
       "1  5.589978e+14        5642503      M  2016-04-29T16:08:27Z   \n",
       "2  4.262962e+12        5642549      F  2016-04-29T16:19:04Z   \n",
       "3  8.679512e+11        5642828      F  2016-04-29T17:29:31Z   \n",
       "4  8.841186e+12        5642494      F  2016-04-29T16:07:23Z   \n",
       "\n",
       "         AppointmentDay  Age      Neighbourhood  Scholarship  Hipertension  \\\n",
       "0  2016-04-29T00:00:00Z   62    JARDIM DA PENHA            0             1   \n",
       "1  2016-04-29T00:00:00Z   56    JARDIM DA PENHA            0             0   \n",
       "2  2016-04-29T00:00:00Z   62      MATA DA PRAIA            0             0   \n",
       "3  2016-04-29T00:00:00Z    8  PONTAL DE CAMBURI            0             0   \n",
       "4  2016-04-29T00:00:00Z   56    JARDIM DA PENHA            0             1   \n",
       "\n",
       "   Diabetes  Alcoholism  Handcap  SMS_received No-show  \n",
       "0         0           0        0             0      No  \n",
       "1         0           0        0             0      No  \n",
       "2         0           0        0             0      No  \n",
       "3         0           0        0             0      No  \n",
       "4         1           0        0             0      No  "
      ]
     },
     "execution_count": 4,
     "metadata": {},
     "output_type": "execute_result"
    }
   ],
   "source": [
    "df = pd.read_csv('noshowappointments-kagglev2-may-2016.csv')\n",
    "df.head()"
   ]
  },
  {
   "cell_type": "markdown",
   "metadata": {},
   "source": [
    "Here we have a DataFrame, which includes a patient identifier, appointment information, information of patient health, as well as whether or not they attended their scheduled appointment."
   ]
  },
  {
   "cell_type": "markdown",
   "metadata": {},
   "source": [
    "Next, I want to see if the dataset requires any rough cleaning. I would drop rows with null values, but it doesn't appear that this dataset has any."
   ]
  },
  {
   "cell_type": "code",
   "execution_count": 5,
   "metadata": {},
   "outputs": [
    {
     "data": {
      "text/html": [
       "<div>\n",
       "<style scoped>\n",
       "    .dataframe tbody tr th:only-of-type {\n",
       "        vertical-align: middle;\n",
       "    }\n",
       "\n",
       "    .dataframe tbody tr th {\n",
       "        vertical-align: top;\n",
       "    }\n",
       "\n",
       "    .dataframe thead th {\n",
       "        text-align: right;\n",
       "    }\n",
       "</style>\n",
       "<table border=\"1\" class=\"dataframe\">\n",
       "  <thead>\n",
       "    <tr style=\"text-align: right;\">\n",
       "      <th></th>\n",
       "      <th>PatientId</th>\n",
       "      <th>AppointmentID</th>\n",
       "      <th>Gender</th>\n",
       "      <th>ScheduledDay</th>\n",
       "      <th>AppointmentDay</th>\n",
       "      <th>Age</th>\n",
       "      <th>Neighbourhood</th>\n",
       "      <th>Scholarship</th>\n",
       "      <th>Hipertension</th>\n",
       "      <th>Diabetes</th>\n",
       "      <th>Alcoholism</th>\n",
       "      <th>Handcap</th>\n",
       "      <th>SMS_received</th>\n",
       "      <th>No-show</th>\n",
       "    </tr>\n",
       "  </thead>\n",
       "  <tbody>\n",
       "  </tbody>\n",
       "</table>\n",
       "</div>"
      ],
      "text/plain": [
       "Empty DataFrame\n",
       "Columns: [PatientId, AppointmentID, Gender, ScheduledDay, AppointmentDay, Age, Neighbourhood, Scholarship, Hipertension, Diabetes, Alcoholism, Handcap, SMS_received, No-show]\n",
       "Index: []"
      ]
     },
     "execution_count": 5,
     "metadata": {},
     "output_type": "execute_result"
    }
   ],
   "source": [
    "df[df.isna().any(axis=1)]"
   ]
  },
  {
   "cell_type": "markdown",
   "metadata": {},
   "source": [
    "### Data Cleaning"
   ]
  },
  {
   "cell_type": "markdown",
   "metadata": {
    "collapsed": true
   },
   "source": [
    "> The data doesn't contain any null cells, which is great. The only things that I want to do to make analysis a little easier is:\n",
    "1. Expand the patient ID to make it easier to query\n",
    "2. Rename the entries in the No-Show column from 'No' and 'Yes' to 'Attended' and 'Missed'\n",
    "3. Split the 'ScheduledDay' and 'Appointment Day' columns into 'Date' and 'Time' columns"
   ]
  },
  {
   "cell_type": "markdown",
   "metadata": {},
   "source": [
    "#### 1. Change the Patient ID to an object"
   ]
  },
  {
   "cell_type": "code",
   "execution_count": 6,
   "metadata": {},
   "outputs": [
    {
     "data": {
      "text/plain": [
       "dtype('float64')"
      ]
     },
     "execution_count": 6,
     "metadata": {},
     "output_type": "execute_result"
    }
   ],
   "source": [
    "df['PatientId'].dtypes"
   ]
  },
  {
   "cell_type": "code",
   "execution_count": 7,
   "metadata": {},
   "outputs": [
    {
     "data": {
      "text/html": [
       "<div>\n",
       "<style scoped>\n",
       "    .dataframe tbody tr th:only-of-type {\n",
       "        vertical-align: middle;\n",
       "    }\n",
       "\n",
       "    .dataframe tbody tr th {\n",
       "        vertical-align: top;\n",
       "    }\n",
       "\n",
       "    .dataframe thead th {\n",
       "        text-align: right;\n",
       "    }\n",
       "</style>\n",
       "<table border=\"1\" class=\"dataframe\">\n",
       "  <thead>\n",
       "    <tr style=\"text-align: right;\">\n",
       "      <th></th>\n",
       "      <th>PatientId</th>\n",
       "      <th>AppointmentID</th>\n",
       "      <th>Gender</th>\n",
       "      <th>ScheduledDay</th>\n",
       "      <th>AppointmentDay</th>\n",
       "      <th>Age</th>\n",
       "      <th>Neighbourhood</th>\n",
       "      <th>Scholarship</th>\n",
       "      <th>Hipertension</th>\n",
       "      <th>Diabetes</th>\n",
       "      <th>Alcoholism</th>\n",
       "      <th>Handcap</th>\n",
       "      <th>SMS_received</th>\n",
       "      <th>No-show</th>\n",
       "    </tr>\n",
       "  </thead>\n",
       "  <tbody>\n",
       "    <tr>\n",
       "      <td>0</td>\n",
       "      <td>29872499824296.0</td>\n",
       "      <td>5642903</td>\n",
       "      <td>F</td>\n",
       "      <td>2016-04-29T18:38:08Z</td>\n",
       "      <td>2016-04-29T00:00:00Z</td>\n",
       "      <td>62</td>\n",
       "      <td>JARDIM DA PENHA</td>\n",
       "      <td>0</td>\n",
       "      <td>1</td>\n",
       "      <td>0</td>\n",
       "      <td>0</td>\n",
       "      <td>0</td>\n",
       "      <td>0</td>\n",
       "      <td>No</td>\n",
       "    </tr>\n",
       "  </tbody>\n",
       "</table>\n",
       "</div>"
      ],
      "text/plain": [
       "          PatientId  AppointmentID Gender          ScheduledDay  \\\n",
       "0  29872499824296.0        5642903      F  2016-04-29T18:38:08Z   \n",
       "\n",
       "         AppointmentDay  Age    Neighbourhood  Scholarship  Hipertension  \\\n",
       "0  2016-04-29T00:00:00Z   62  JARDIM DA PENHA            0             1   \n",
       "\n",
       "   Diabetes  Alcoholism  Handcap  SMS_received No-show  \n",
       "0         0           0        0             0      No  "
      ]
     },
     "execution_count": 7,
     "metadata": {},
     "output_type": "execute_result"
    }
   ],
   "source": [
    "df['PatientId'] = df['PatientId'].astype(str)\n",
    "df.head(1)"
   ]
  },
  {
   "cell_type": "markdown",
   "metadata": {},
   "source": [
    "#### 2. Change 'No-Show' entries"
   ]
  },
  {
   "cell_type": "code",
   "execution_count": 8,
   "metadata": {},
   "outputs": [
    {
     "data": {
      "text/plain": [
       "0    Attended\n",
       "1    Attended\n",
       "2    Attended\n",
       "Name: No-show, dtype: object"
      ]
     },
     "execution_count": 8,
     "metadata": {},
     "output_type": "execute_result"
    }
   ],
   "source": [
    "df['No-show'].replace({'No': 'Attended', 'Yes': 'Missed'}, inplace = True)\n",
    "df['No-show'][0:3]"
   ]
  },
  {
   "cell_type": "markdown",
   "metadata": {},
   "source": [
    "#### 3. Split the Date/Time columns into two separate Date and Time columns"
   ]
  },
  {
   "cell_type": "code",
   "execution_count": 9,
   "metadata": {},
   "outputs": [
    {
     "data": {
      "text/html": [
       "<div>\n",
       "<style scoped>\n",
       "    .dataframe tbody tr th:only-of-type {\n",
       "        vertical-align: middle;\n",
       "    }\n",
       "\n",
       "    .dataframe tbody tr th {\n",
       "        vertical-align: top;\n",
       "    }\n",
       "\n",
       "    .dataframe thead th {\n",
       "        text-align: right;\n",
       "    }\n",
       "</style>\n",
       "<table border=\"1\" class=\"dataframe\">\n",
       "  <thead>\n",
       "    <tr style=\"text-align: right;\">\n",
       "      <th></th>\n",
       "      <th>PatientId</th>\n",
       "      <th>AppointmentID</th>\n",
       "      <th>Gender</th>\n",
       "      <th>ScheduledDay</th>\n",
       "      <th>AppointmentDay</th>\n",
       "      <th>Age</th>\n",
       "      <th>Neighbourhood</th>\n",
       "      <th>Scholarship</th>\n",
       "      <th>Hipertension</th>\n",
       "      <th>Diabetes</th>\n",
       "      <th>Alcoholism</th>\n",
       "      <th>Handcap</th>\n",
       "      <th>SMS_received</th>\n",
       "      <th>No-show</th>\n",
       "      <th>Scheduled Date</th>\n",
       "      <th>Scheduled Time</th>\n",
       "      <th>Appointment Date</th>\n",
       "      <th>Appointment Time</th>\n",
       "    </tr>\n",
       "  </thead>\n",
       "  <tbody>\n",
       "    <tr>\n",
       "      <td>0</td>\n",
       "      <td>29872499824296.0</td>\n",
       "      <td>5642903</td>\n",
       "      <td>F</td>\n",
       "      <td>2016-04-29T18:38:08Z</td>\n",
       "      <td>2016-04-29T00:00:00Z</td>\n",
       "      <td>62</td>\n",
       "      <td>JARDIM DA PENHA</td>\n",
       "      <td>0</td>\n",
       "      <td>1</td>\n",
       "      <td>0</td>\n",
       "      <td>0</td>\n",
       "      <td>0</td>\n",
       "      <td>0</td>\n",
       "      <td>Attended</td>\n",
       "      <td>2016-04-29</td>\n",
       "      <td>18:38:08Z</td>\n",
       "      <td>2016-04-29</td>\n",
       "      <td>00:00:00Z</td>\n",
       "    </tr>\n",
       "  </tbody>\n",
       "</table>\n",
       "</div>"
      ],
      "text/plain": [
       "          PatientId  AppointmentID Gender          ScheduledDay  \\\n",
       "0  29872499824296.0        5642903      F  2016-04-29T18:38:08Z   \n",
       "\n",
       "         AppointmentDay  Age    Neighbourhood  Scholarship  Hipertension  \\\n",
       "0  2016-04-29T00:00:00Z   62  JARDIM DA PENHA            0             1   \n",
       "\n",
       "   Diabetes  Alcoholism  Handcap  SMS_received   No-show Scheduled Date  \\\n",
       "0         0           0        0             0  Attended     2016-04-29   \n",
       "\n",
       "  Scheduled Time Appointment Date Appointment Time  \n",
       "0      18:38:08Z       2016-04-29        00:00:00Z  "
      ]
     },
     "execution_count": 9,
     "metadata": {},
     "output_type": "execute_result"
    }
   ],
   "source": [
    "df[['Scheduled Date', 'Scheduled Time']] = df['ScheduledDay'].str.split('T', expand=True)\n",
    "df[['Appointment Date', 'Appointment Time']] = df['AppointmentDay'].str.split('T', expand=True)\n",
    "df.head(1)\n",
    "\n",
    "#If you scroll to the right, you should see the added Date and Time columns inserted into the DataFrame"
   ]
  },
  {
   "cell_type": "code",
   "execution_count": 10,
   "metadata": {},
   "outputs": [
    {
     "data": {
      "text/plain": [
       "array(['00:00:00Z'], dtype=object)"
      ]
     },
     "execution_count": 10,
     "metadata": {},
     "output_type": "execute_result"
    }
   ],
   "source": [
    "df['Appointment Time'].unique()"
   ]
  },
  {
   "cell_type": "markdown",
   "metadata": {},
   "source": [
    "It doesn't appear that any time information was kept for the appointments, so we might as well drop that column. While we're at it, we can drop the ScheduledDay and Appointment Day columns, since we now have that information in other columns."
   ]
  },
  {
   "cell_type": "code",
   "execution_count": 11,
   "metadata": {},
   "outputs": [
    {
     "data": {
      "text/html": [
       "<div>\n",
       "<style scoped>\n",
       "    .dataframe tbody tr th:only-of-type {\n",
       "        vertical-align: middle;\n",
       "    }\n",
       "\n",
       "    .dataframe tbody tr th {\n",
       "        vertical-align: top;\n",
       "    }\n",
       "\n",
       "    .dataframe thead th {\n",
       "        text-align: right;\n",
       "    }\n",
       "</style>\n",
       "<table border=\"1\" class=\"dataframe\">\n",
       "  <thead>\n",
       "    <tr style=\"text-align: right;\">\n",
       "      <th></th>\n",
       "      <th>PatientId</th>\n",
       "      <th>AppointmentID</th>\n",
       "      <th>Gender</th>\n",
       "      <th>Age</th>\n",
       "      <th>Neighbourhood</th>\n",
       "      <th>Scholarship</th>\n",
       "      <th>Hipertension</th>\n",
       "      <th>Diabetes</th>\n",
       "      <th>Alcoholism</th>\n",
       "      <th>Handcap</th>\n",
       "      <th>SMS_received</th>\n",
       "      <th>No-show</th>\n",
       "      <th>Scheduled Date</th>\n",
       "      <th>Scheduled Time</th>\n",
       "      <th>Appointment Date</th>\n",
       "    </tr>\n",
       "  </thead>\n",
       "  <tbody>\n",
       "    <tr>\n",
       "      <td>0</td>\n",
       "      <td>29872499824296.0</td>\n",
       "      <td>5642903</td>\n",
       "      <td>F</td>\n",
       "      <td>62</td>\n",
       "      <td>JARDIM DA PENHA</td>\n",
       "      <td>0</td>\n",
       "      <td>1</td>\n",
       "      <td>0</td>\n",
       "      <td>0</td>\n",
       "      <td>0</td>\n",
       "      <td>0</td>\n",
       "      <td>Attended</td>\n",
       "      <td>2016-04-29</td>\n",
       "      <td>18:38:08Z</td>\n",
       "      <td>2016-04-29</td>\n",
       "    </tr>\n",
       "  </tbody>\n",
       "</table>\n",
       "</div>"
      ],
      "text/plain": [
       "          PatientId  AppointmentID Gender  Age    Neighbourhood  Scholarship  \\\n",
       "0  29872499824296.0        5642903      F   62  JARDIM DA PENHA            0   \n",
       "\n",
       "   Hipertension  Diabetes  Alcoholism  Handcap  SMS_received   No-show  \\\n",
       "0             1         0           0        0             0  Attended   \n",
       "\n",
       "  Scheduled Date Scheduled Time Appointment Date  \n",
       "0     2016-04-29      18:38:08Z       2016-04-29  "
      ]
     },
     "execution_count": 11,
     "metadata": {},
     "output_type": "execute_result"
    }
   ],
   "source": [
    "df.drop(columns=['Appointment Time', 'ScheduledDay', 'AppointmentDay'], inplace=True)\n",
    "df.head(1)"
   ]
  },
  {
   "cell_type": "markdown",
   "metadata": {},
   "source": [
    "The very last thing I want to do for this step is make a 'Day' column that gives me the actual day of the week associated with each scheduled date and appointment date."
   ]
  },
  {
   "cell_type": "code",
   "execution_count": 12,
   "metadata": {},
   "outputs": [
    {
     "data": {
      "text/html": [
       "<div>\n",
       "<style scoped>\n",
       "    .dataframe tbody tr th:only-of-type {\n",
       "        vertical-align: middle;\n",
       "    }\n",
       "\n",
       "    .dataframe tbody tr th {\n",
       "        vertical-align: top;\n",
       "    }\n",
       "\n",
       "    .dataframe thead th {\n",
       "        text-align: right;\n",
       "    }\n",
       "</style>\n",
       "<table border=\"1\" class=\"dataframe\">\n",
       "  <thead>\n",
       "    <tr style=\"text-align: right;\">\n",
       "      <th></th>\n",
       "      <th>PatientId</th>\n",
       "      <th>AppointmentID</th>\n",
       "      <th>Gender</th>\n",
       "      <th>Age</th>\n",
       "      <th>Neighbourhood</th>\n",
       "      <th>Scholarship</th>\n",
       "      <th>Hipertension</th>\n",
       "      <th>Diabetes</th>\n",
       "      <th>Alcoholism</th>\n",
       "      <th>Handcap</th>\n",
       "      <th>SMS_received</th>\n",
       "      <th>No-show</th>\n",
       "      <th>Scheduled Date</th>\n",
       "      <th>Scheduled Time</th>\n",
       "      <th>Appointment Date</th>\n",
       "      <th>scheduledDow</th>\n",
       "    </tr>\n",
       "  </thead>\n",
       "  <tbody>\n",
       "    <tr>\n",
       "      <td>72318</td>\n",
       "      <td>58714322393649.0</td>\n",
       "      <td>5697832</td>\n",
       "      <td>F</td>\n",
       "      <td>46</td>\n",
       "      <td>CARATOÍRA</td>\n",
       "      <td>1</td>\n",
       "      <td>0</td>\n",
       "      <td>0</td>\n",
       "      <td>0</td>\n",
       "      <td>0</td>\n",
       "      <td>0</td>\n",
       "      <td>Attended</td>\n",
       "      <td>2016-05-14</td>\n",
       "      <td>2020-04-29 09:47:12+00:00</td>\n",
       "      <td>2016-05-14</td>\n",
       "      <td>5</td>\n",
       "    </tr>\n",
       "  </tbody>\n",
       "</table>\n",
       "</div>"
      ],
      "text/plain": [
       "              PatientId  AppointmentID Gender  Age Neighbourhood  Scholarship  \\\n",
       "72318  58714322393649.0        5697832      F   46     CARATOÍRA            1   \n",
       "\n",
       "       Hipertension  Diabetes  Alcoholism  Handcap  SMS_received   No-show  \\\n",
       "72318             0         0           0        0             0  Attended   \n",
       "\n",
       "      Scheduled Date            Scheduled Time Appointment Date  scheduledDow  \n",
       "72318     2016-05-14 2020-04-29 09:47:12+00:00       2016-05-14             5  "
      ]
     },
     "execution_count": 12,
     "metadata": {},
     "output_type": "execute_result"
    }
   ],
   "source": [
    "# Step 1: Use the pandas to_datetime function\n",
    "df['Scheduled Date'] = pd.to_datetime(df['Scheduled Date'])\n",
    "df['Scheduled Time'] = pd.to_datetime(df['Scheduled Time'])\n",
    "\n",
    "# Step 2: Create a scheduledDow (scheduled Day of Week) column that uses the date given in the format YYYY-DD-MM and \n",
    "# changes it to a numeric value that codes for days of the week, where 0 is Monday and 6 is Sunday. \n",
    "# Change the data type to string.\n",
    "df['scheduledDow'] = df['Scheduled Date'].dt.dayofweek\n",
    "df.head(1)\n",
    "\n",
    "# Step 3: Sort values to get back a DataFrame where the first days listed are Monday (0) and the last are Saturday (5)\n",
    "# (There are no appointments scheduled on Sunday)\n",
    "df = df.sort_values('scheduledDow')\n",
    "df.tail(1)"
   ]
  },
  {
   "cell_type": "code",
   "execution_count": 13,
   "metadata": {},
   "outputs": [
    {
     "data": {
      "text/html": [
       "<div>\n",
       "<style scoped>\n",
       "    .dataframe tbody tr th:only-of-type {\n",
       "        vertical-align: middle;\n",
       "    }\n",
       "\n",
       "    .dataframe tbody tr th {\n",
       "        vertical-align: top;\n",
       "    }\n",
       "\n",
       "    .dataframe thead th {\n",
       "        text-align: right;\n",
       "    }\n",
       "</style>\n",
       "<table border=\"1\" class=\"dataframe\">\n",
       "  <thead>\n",
       "    <tr style=\"text-align: right;\">\n",
       "      <th></th>\n",
       "      <th>PatientId</th>\n",
       "      <th>AppointmentID</th>\n",
       "      <th>Gender</th>\n",
       "      <th>Age</th>\n",
       "      <th>Neighbourhood</th>\n",
       "      <th>Scholarship</th>\n",
       "      <th>Hipertension</th>\n",
       "      <th>Diabetes</th>\n",
       "      <th>Alcoholism</th>\n",
       "      <th>Handcap</th>\n",
       "      <th>SMS_received</th>\n",
       "      <th>No-show</th>\n",
       "      <th>Scheduled Date</th>\n",
       "      <th>Scheduled Time</th>\n",
       "      <th>Appointment Date</th>\n",
       "      <th>scheduledDow</th>\n",
       "      <th>Scheduled Day</th>\n",
       "    </tr>\n",
       "  </thead>\n",
       "  <tbody>\n",
       "    <tr>\n",
       "      <td>24654</td>\n",
       "      <td>18961433933.0</td>\n",
       "      <td>5697881</td>\n",
       "      <td>F</td>\n",
       "      <td>53</td>\n",
       "      <td>REDENÇÃO</td>\n",
       "      <td>0</td>\n",
       "      <td>0</td>\n",
       "      <td>0</td>\n",
       "      <td>0</td>\n",
       "      <td>1</td>\n",
       "      <td>0</td>\n",
       "      <td>Attended</td>\n",
       "      <td>2016-05-16</td>\n",
       "      <td>2020-04-29 06:58:16+00:00</td>\n",
       "      <td>2016-05-16</td>\n",
       "      <td>0</td>\n",
       "      <td>Monday</td>\n",
       "    </tr>\n",
       "  </tbody>\n",
       "</table>\n",
       "</div>"
      ],
      "text/plain": [
       "           PatientId  AppointmentID Gender  Age Neighbourhood  Scholarship  \\\n",
       "24654  18961433933.0        5697881      F   53      REDENÇÃO            0   \n",
       "\n",
       "       Hipertension  Diabetes  Alcoholism  Handcap  SMS_received   No-show  \\\n",
       "24654             0         0           0        1             0  Attended   \n",
       "\n",
       "      Scheduled Date            Scheduled Time Appointment Date  scheduledDow  \\\n",
       "24654     2016-05-16 2020-04-29 06:58:16+00:00       2016-05-16             0   \n",
       "\n",
       "      Scheduled Day  \n",
       "24654        Monday  "
      ]
     },
     "execution_count": 13,
     "metadata": {},
     "output_type": "execute_result"
    }
   ],
   "source": [
    "# Step 4: Convert the numeric values to actual days of the week, because no one in their right mind refers to Friday\n",
    "# as '4'\n",
    "\n",
    "# Step 4a: Create a dictionary\n",
    "day_map = {0: 'Monday', 1: 'Tuesday', 2: 'Wednesday',\n",
    "             3: 'Thursday', 4: 'Friday', 5: 'Saturday',\n",
    "             6: 'Sunday'}\n",
    "\n",
    "# Step 4b: Use that dictionary to replace the numbers in a newly created 'Scheduled Day' column to the names of the\n",
    "# days of the week\n",
    "df['Scheduled Day'] = df['scheduledDow']\n",
    "df.replace({\"Scheduled Day\": day_map}, inplace=True)\n",
    "df.head(1)"
   ]
  },
  {
   "cell_type": "code",
   "execution_count": 14,
   "metadata": {},
   "outputs": [
    {
     "data": {
      "text/html": [
       "<div>\n",
       "<style scoped>\n",
       "    .dataframe tbody tr th:only-of-type {\n",
       "        vertical-align: middle;\n",
       "    }\n",
       "\n",
       "    .dataframe tbody tr th {\n",
       "        vertical-align: top;\n",
       "    }\n",
       "\n",
       "    .dataframe thead th {\n",
       "        text-align: right;\n",
       "    }\n",
       "</style>\n",
       "<table border=\"1\" class=\"dataframe\">\n",
       "  <thead>\n",
       "    <tr style=\"text-align: right;\">\n",
       "      <th></th>\n",
       "      <th>Appointment Day</th>\n",
       "      <th>appointmentDow</th>\n",
       "    </tr>\n",
       "  </thead>\n",
       "  <tbody>\n",
       "    <tr>\n",
       "      <td>24654</td>\n",
       "      <td>Monday</td>\n",
       "      <td>0</td>\n",
       "    </tr>\n",
       "  </tbody>\n",
       "</table>\n",
       "</div>"
      ],
      "text/plain": [
       "      Appointment Day  appointmentDow\n",
       "24654          Monday               0"
      ]
     },
     "execution_count": 14,
     "metadata": {},
     "output_type": "execute_result"
    }
   ],
   "source": [
    "# And repeat for the appointments:\n",
    "\n",
    "df['Appointment Date'] = pd.to_datetime(df['Appointment Date'])\n",
    "\n",
    "df['appointmentDow'] = df['Appointment Date'].dt.dayofweek\n",
    "df.head(1)\n",
    "\n",
    "df['Appointment Day'] = df['appointmentDow']\n",
    "df.replace({\"Appointment Day\": day_map}, inplace=True)\n",
    "df[['Appointment Day', 'appointmentDow']].head(1)"
   ]
  },
  {
   "cell_type": "markdown",
   "metadata": {},
   "source": [
    "<a id='eda'></a>\n",
    "## Exploratory Data Analysis\n",
    "I will look into the following:\n",
    "1. The relationship between the date of the appointment and the patient's attendance\n",
    "2. The relationship between the patient's age and attendance"
   ]
  },
  {
   "cell_type": "markdown",
   "metadata": {},
   "source": [
    "<a id='scheduleDate'></a>\n",
    "### The Relationship between Schedule Date and Attendance"
   ]
  },
  {
   "cell_type": "code",
   "execution_count": 15,
   "metadata": {},
   "outputs": [
    {
     "data": {
      "text/html": [
       "<div>\n",
       "<style scoped>\n",
       "    .dataframe tbody tr th:only-of-type {\n",
       "        vertical-align: middle;\n",
       "    }\n",
       "\n",
       "    .dataframe tbody tr th {\n",
       "        vertical-align: top;\n",
       "    }\n",
       "\n",
       "    .dataframe thead th {\n",
       "        text-align: right;\n",
       "    }\n",
       "</style>\n",
       "<table border=\"1\" class=\"dataframe\">\n",
       "  <thead>\n",
       "    <tr style=\"text-align: right;\">\n",
       "      <th></th>\n",
       "      <th>PatientId</th>\n",
       "      <th>AppointmentID</th>\n",
       "      <th>Gender</th>\n",
       "      <th>Age</th>\n",
       "      <th>Neighbourhood</th>\n",
       "      <th>Scholarship</th>\n",
       "      <th>Hipertension</th>\n",
       "      <th>Diabetes</th>\n",
       "      <th>Alcoholism</th>\n",
       "      <th>Handcap</th>\n",
       "      <th>SMS_received</th>\n",
       "      <th>No-show</th>\n",
       "      <th>Scheduled Date</th>\n",
       "      <th>Scheduled Time</th>\n",
       "      <th>Appointment Date</th>\n",
       "      <th>scheduledDow</th>\n",
       "      <th>Scheduled Day</th>\n",
       "      <th>appointmentDow</th>\n",
       "      <th>Appointment Day</th>\n",
       "    </tr>\n",
       "  </thead>\n",
       "  <tbody>\n",
       "    <tr>\n",
       "      <td>24654</td>\n",
       "      <td>18961433933.0</td>\n",
       "      <td>5697881</td>\n",
       "      <td>F</td>\n",
       "      <td>53</td>\n",
       "      <td>REDENÇÃO</td>\n",
       "      <td>0</td>\n",
       "      <td>0</td>\n",
       "      <td>0</td>\n",
       "      <td>0</td>\n",
       "      <td>1</td>\n",
       "      <td>0</td>\n",
       "      <td>Attended</td>\n",
       "      <td>2016-05-16</td>\n",
       "      <td>2020-04-29 06:58:16+00:00</td>\n",
       "      <td>2016-05-16</td>\n",
       "      <td>0</td>\n",
       "      <td>Monday</td>\n",
       "      <td>0</td>\n",
       "      <td>Monday</td>\n",
       "    </tr>\n",
       "  </tbody>\n",
       "</table>\n",
       "</div>"
      ],
      "text/plain": [
       "           PatientId  AppointmentID Gender  Age Neighbourhood  Scholarship  \\\n",
       "24654  18961433933.0        5697881      F   53      REDENÇÃO            0   \n",
       "\n",
       "       Hipertension  Diabetes  Alcoholism  Handcap  SMS_received   No-show  \\\n",
       "24654             0         0           0        1             0  Attended   \n",
       "\n",
       "      Scheduled Date            Scheduled Time Appointment Date  scheduledDow  \\\n",
       "24654     2016-05-16 2020-04-29 06:58:16+00:00       2016-05-16             0   \n",
       "\n",
       "      Scheduled Day  appointmentDow Appointment Day  \n",
       "24654        Monday               0          Monday  "
      ]
     },
     "execution_count": 15,
     "metadata": {},
     "output_type": "execute_result"
    }
   ],
   "source": [
    "df.head(1)"
   ]
  },
  {
   "cell_type": "markdown",
   "metadata": {},
   "source": [
    "For the above appointment, the patient scheduled her appointment for May 16 and had the appointment *on the same day*. I'm not able to verify this because there are no times listed for the appointments, but my best guess is that most of the appointments scheduled and attended on the same day were appointments in which the patient was a walk-in."
   ]
  },
  {
   "cell_type": "markdown",
   "metadata": {},
   "source": [
    "If this were true, I would imagine that only a very small proportion of same-day appointments were missed."
   ]
  },
  {
   "cell_type": "code",
   "execution_count": 16,
   "metadata": {},
   "outputs": [
    {
     "data": {
      "text/html": [
       "<div>\n",
       "<style scoped>\n",
       "    .dataframe tbody tr th:only-of-type {\n",
       "        vertical-align: middle;\n",
       "    }\n",
       "\n",
       "    .dataframe tbody tr th {\n",
       "        vertical-align: top;\n",
       "    }\n",
       "\n",
       "    .dataframe thead th {\n",
       "        text-align: right;\n",
       "    }\n",
       "</style>\n",
       "<table border=\"1\" class=\"dataframe\">\n",
       "  <thead>\n",
       "    <tr style=\"text-align: right;\">\n",
       "      <th></th>\n",
       "      <th>PatientId</th>\n",
       "      <th>AppointmentID</th>\n",
       "      <th>Gender</th>\n",
       "      <th>Age</th>\n",
       "      <th>Neighbourhood</th>\n",
       "      <th>Scholarship</th>\n",
       "      <th>Hipertension</th>\n",
       "      <th>Diabetes</th>\n",
       "      <th>Alcoholism</th>\n",
       "      <th>Handcap</th>\n",
       "      <th>SMS_received</th>\n",
       "      <th>No-show</th>\n",
       "      <th>Scheduled Date</th>\n",
       "      <th>Scheduled Time</th>\n",
       "      <th>Appointment Date</th>\n",
       "      <th>scheduledDow</th>\n",
       "      <th>Scheduled Day</th>\n",
       "      <th>appointmentDow</th>\n",
       "      <th>Appointment Day</th>\n",
       "    </tr>\n",
       "  </thead>\n",
       "  <tbody>\n",
       "    <tr>\n",
       "      <td>24654</td>\n",
       "      <td>18961433933.0</td>\n",
       "      <td>5697881</td>\n",
       "      <td>F</td>\n",
       "      <td>53</td>\n",
       "      <td>REDENÇÃO</td>\n",
       "      <td>0</td>\n",
       "      <td>0</td>\n",
       "      <td>0</td>\n",
       "      <td>0</td>\n",
       "      <td>1</td>\n",
       "      <td>0</td>\n",
       "      <td>Attended</td>\n",
       "      <td>2016-05-16</td>\n",
       "      <td>2020-04-29 06:58:16+00:00</td>\n",
       "      <td>2016-05-16</td>\n",
       "      <td>0</td>\n",
       "      <td>Monday</td>\n",
       "      <td>0</td>\n",
       "      <td>Monday</td>\n",
       "    </tr>\n",
       "    <tr>\n",
       "      <td>19598</td>\n",
       "      <td>93486429157969.0</td>\n",
       "      <td>5742455</td>\n",
       "      <td>F</td>\n",
       "      <td>80</td>\n",
       "      <td>JARDIM CAMBURI</td>\n",
       "      <td>0</td>\n",
       "      <td>0</td>\n",
       "      <td>0</td>\n",
       "      <td>0</td>\n",
       "      <td>0</td>\n",
       "      <td>0</td>\n",
       "      <td>Attended</td>\n",
       "      <td>2016-05-30</td>\n",
       "      <td>2020-04-29 08:01:11+00:00</td>\n",
       "      <td>2016-05-30</td>\n",
       "      <td>0</td>\n",
       "      <td>Monday</td>\n",
       "      <td>0</td>\n",
       "      <td>Monday</td>\n",
       "    </tr>\n",
       "    <tr>\n",
       "      <td>19595</td>\n",
       "      <td>2616695597419.0</td>\n",
       "      <td>5643151</td>\n",
       "      <td>F</td>\n",
       "      <td>53</td>\n",
       "      <td>ILHA DO PRÍNCIPE</td>\n",
       "      <td>0</td>\n",
       "      <td>0</td>\n",
       "      <td>0</td>\n",
       "      <td>0</td>\n",
       "      <td>0</td>\n",
       "      <td>0</td>\n",
       "      <td>Missed</td>\n",
       "      <td>2016-05-02</td>\n",
       "      <td>2020-04-29 07:10:17+00:00</td>\n",
       "      <td>2016-05-02</td>\n",
       "      <td>0</td>\n",
       "      <td>Monday</td>\n",
       "      <td>0</td>\n",
       "      <td>Monday</td>\n",
       "    </tr>\n",
       "  </tbody>\n",
       "</table>\n",
       "</div>"
      ],
      "text/plain": [
       "              PatientId  AppointmentID Gender  Age     Neighbourhood  \\\n",
       "24654     18961433933.0        5697881      F   53          REDENÇÃO   \n",
       "19598  93486429157969.0        5742455      F   80    JARDIM CAMBURI   \n",
       "19595   2616695597419.0        5643151      F   53  ILHA DO PRÍNCIPE   \n",
       "\n",
       "       Scholarship  Hipertension  Diabetes  Alcoholism  Handcap  SMS_received  \\\n",
       "24654            0             0         0           0        1             0   \n",
       "19598            0             0         0           0        0             0   \n",
       "19595            0             0         0           0        0             0   \n",
       "\n",
       "        No-show Scheduled Date            Scheduled Time Appointment Date  \\\n",
       "24654  Attended     2016-05-16 2020-04-29 06:58:16+00:00       2016-05-16   \n",
       "19598  Attended     2016-05-30 2020-04-29 08:01:11+00:00       2016-05-30   \n",
       "19595    Missed     2016-05-02 2020-04-29 07:10:17+00:00       2016-05-02   \n",
       "\n",
       "       scheduledDow Scheduled Day  appointmentDow Appointment Day  \n",
       "24654             0        Monday               0          Monday  \n",
       "19598             0        Monday               0          Monday  \n",
       "19595             0        Monday               0          Monday  "
      ]
     },
     "execution_count": 16,
     "metadata": {},
     "output_type": "execute_result"
    }
   ],
   "source": [
    "# Create a dataframe consisting of only same-day appointments\n",
    "apptMatches = df[df['Appointment Date'] == df['Scheduled Date']]\n",
    "apptMatches.head(3)"
   ]
  },
  {
   "cell_type": "markdown",
   "metadata": {},
   "source": [
    "Next, we'll create a plot that allows us to see visually how many appointments were missed versus the number of appointments that were attended using Seaborn's countplot function."
   ]
  },
  {
   "cell_type": "code",
   "execution_count": 17,
   "metadata": {},
   "outputs": [
    {
     "data": {
      "text/plain": [
       "<matplotlib.axes._subplots.AxesSubplot at 0x1a262a8a50>"
      ]
     },
     "execution_count": 17,
     "metadata": {},
     "output_type": "execute_result"
    },
    {
     "data": {
      "image/png": "[encoded data removed]",
      "text/plain": [
       "<Figure size 432x288 with 1 Axes>"
      ]
     },
     "metadata": {
      "needs_background": "light"
     },
     "output_type": "display_data"
    }
   ],
   "source": [
    "sns.countplot(x='No-show', data = apptMatches, palette = 'GnBu')"
   ]
  },
  {
   "cell_type": "markdown",
   "metadata": {},
   "source": [
    "To analyze how many appointments from this subset were missed, we can first count the Attended and Missed occurences, and then use those values to find the percentage."
   ]
  },
  {
   "cell_type": "code",
   "execution_count": 18,
   "metadata": {},
   "outputs": [
    {
     "data": {
      "text/plain": [
       "Attended    0.953531\n",
       "Missed      0.046469\n",
       "Name: No-show, dtype: float64"
      ]
     },
     "execution_count": 18,
     "metadata": {},
     "output_type": "execute_result"
    }
   ],
   "source": [
    "apptMatches['No-show'].value_counts([0])\n",
    "# .value_counts([0]) normalizes the values"
   ]
  },
  {
   "cell_type": "markdown",
   "metadata": {},
   "source": [
    "From the above cell, we can see that only around 5% of these same day appointments are missed. "
   ]
  },
  {
   "cell_type": "markdown",
   "metadata": {},
   "source": [
    "Let's see how this compares to the overall dataset:"
   ]
  },
  {
   "cell_type": "code",
   "execution_count": 19,
   "metadata": {},
   "outputs": [
    {
     "data": {
      "text/plain": [
       "Attended    0.798067\n",
       "Missed      0.201933\n",
       "Name: No-show, dtype: float64"
      ]
     },
     "execution_count": 19,
     "metadata": {},
     "output_type": "execute_result"
    }
   ],
   "source": [
    "df['No-show'].value_counts([0])"
   ]
  },
  {
   "cell_type": "markdown",
   "metadata": {},
   "source": [
    "And how it compares to the dataset when we remove the same-day appointments:"
   ]
  },
  {
   "cell_type": "code",
   "execution_count": 20,
   "metadata": {},
   "outputs": [],
   "source": [
    "# Create a list of the indeces associated with the same-day appointments\n",
    "matchIndex = apptMatches.index\n",
    "\n",
    "# Create a new DataFrame that does not include same-day appointments by dropping rows using the list created above\n",
    "appts_wo_Matches = df.drop(matchIndex, axis=0)"
   ]
  },
  {
   "cell_type": "code",
   "execution_count": 21,
   "metadata": {},
   "outputs": [
    {
     "data": {
      "text/plain": [
       "Attended    0.71476\n",
       "Missed      0.28524\n",
       "Name: No-show, dtype: float64"
      ]
     },
     "execution_count": 21,
     "metadata": {},
     "output_type": "execute_result"
    }
   ],
   "source": [
    "appts_wo_Matches['No-show'].value_counts([0])"
   ]
  },
  {
   "cell_type": "markdown",
   "metadata": {},
   "source": [
    "Given that the fraction of missed same-day appointments is significantly lower than those missed overall, I would guess that:\n",
    "1. The same-day appointments were primarily walk-ins\n",
    "2. The same-day appointments that were missed were likely scheduled over the phone earlier in the day"
   ]
  },
  {
   "cell_type": "markdown",
   "metadata": {},
   "source": [
    "#### Of the same-day appointments, are more of the missed appointments those that were scheduled earlier in the day?"
   ]
  },
  {
   "cell_type": "code",
   "execution_count": 22,
   "metadata": {},
   "outputs": [
    {
     "data": {
      "text/plain": [
       "count                         38563\n",
       "unique                        22119\n",
       "top       2020-04-29 07:09:54+00:00\n",
       "freq                             25\n",
       "first     2020-04-29 06:09:36+00:00\n",
       "last      2020-04-29 20:44:54+00:00\n",
       "Name: Scheduled Time, dtype: object"
      ]
     },
     "execution_count": 22,
     "metadata": {},
     "output_type": "execute_result"
    }
   ],
   "source": [
    "# Find the range of times that these appointments are scheduled for same-day appointments\n",
    "apptMatches['Scheduled Time'].describe()"
   ]
  },
  {
   "cell_type": "code",
   "execution_count": 23,
   "metadata": {},
   "outputs": [
    {
     "data": {
      "text/plain": [
       "24654   2020-04-29 06:58:16+00:00\n",
       "19598   2020-04-29 08:01:11+00:00\n",
       "19595   2020-04-29 07:10:17+00:00\n",
       "93571   2020-04-29 15:02:27+00:00\n",
       "93572   2020-04-29 14:37:17+00:00\n",
       "                   ...           \n",
       "72317   2020-04-29 07:14:10+00:00\n",
       "72313   2020-04-29 09:21:51+00:00\n",
       "72310   2020-04-29 09:00:08+00:00\n",
       "72305   2020-04-29 07:52:21+00:00\n",
       "72318   2020-04-29 09:47:12+00:00\n",
       "Name: Scheduled Time, Length: 38563, dtype: datetime64[ns, UTC]"
      ]
     },
     "execution_count": 23,
     "metadata": {},
     "output_type": "execute_result"
    }
   ],
   "source": [
    "apptMatches['Scheduled Time']"
   ]
  },
  {
   "cell_type": "markdown",
   "metadata": {},
   "source": [
    "The earliest appointments are scheduled around 6 am and the latest around 8:45 pm. I want to compare appointments that were scheduled earlier in the day, so from 6 am to 1 pm, to the appointments scheduled afterward. I would guess that more of the same-day appointments that were missed were scheduled earlier in the day."
   ]
  },
  {
   "cell_type": "code",
   "execution_count": 24,
   "metadata": {},
   "outputs": [
    {
     "data": {
      "text/html": [
       "<div>\n",
       "<style scoped>\n",
       "    .dataframe tbody tr th:only-of-type {\n",
       "        vertical-align: middle;\n",
       "    }\n",
       "\n",
       "    .dataframe tbody tr th {\n",
       "        vertical-align: top;\n",
       "    }\n",
       "\n",
       "    .dataframe thead th {\n",
       "        text-align: right;\n",
       "    }\n",
       "</style>\n",
       "<table border=\"1\" class=\"dataframe\">\n",
       "  <thead>\n",
       "    <tr style=\"text-align: right;\">\n",
       "      <th></th>\n",
       "      <th>PatientId</th>\n",
       "      <th>AppointmentID</th>\n",
       "      <th>Gender</th>\n",
       "      <th>Age</th>\n",
       "      <th>Neighbourhood</th>\n",
       "      <th>Scholarship</th>\n",
       "      <th>Hipertension</th>\n",
       "      <th>Diabetes</th>\n",
       "      <th>Alcoholism</th>\n",
       "      <th>Handcap</th>\n",
       "      <th>SMS_received</th>\n",
       "      <th>No-show</th>\n",
       "      <th>Scheduled Date</th>\n",
       "      <th>Scheduled Time</th>\n",
       "      <th>Appointment Date</th>\n",
       "      <th>scheduledDow</th>\n",
       "      <th>Scheduled Day</th>\n",
       "      <th>appointmentDow</th>\n",
       "      <th>Appointment Day</th>\n",
       "    </tr>\n",
       "  </thead>\n",
       "  <tbody>\n",
       "    <tr>\n",
       "      <td>24654</td>\n",
       "      <td>18961433933.0</td>\n",
       "      <td>5697881</td>\n",
       "      <td>F</td>\n",
       "      <td>53</td>\n",
       "      <td>REDENÇÃO</td>\n",
       "      <td>0</td>\n",
       "      <td>0</td>\n",
       "      <td>0</td>\n",
       "      <td>0</td>\n",
       "      <td>1</td>\n",
       "      <td>0</td>\n",
       "      <td>Attended</td>\n",
       "      <td>2016-05-16</td>\n",
       "      <td>2020-04-29 06:58:16+00:00</td>\n",
       "      <td>2016-05-16</td>\n",
       "      <td>0</td>\n",
       "      <td>Monday</td>\n",
       "      <td>0</td>\n",
       "      <td>Monday</td>\n",
       "    </tr>\n",
       "    <tr>\n",
       "      <td>19598</td>\n",
       "      <td>93486429157969.0</td>\n",
       "      <td>5742455</td>\n",
       "      <td>F</td>\n",
       "      <td>80</td>\n",
       "      <td>JARDIM CAMBURI</td>\n",
       "      <td>0</td>\n",
       "      <td>0</td>\n",
       "      <td>0</td>\n",
       "      <td>0</td>\n",
       "      <td>0</td>\n",
       "      <td>0</td>\n",
       "      <td>Attended</td>\n",
       "      <td>2016-05-30</td>\n",
       "      <td>2020-04-29 08:01:11+00:00</td>\n",
       "      <td>2016-05-30</td>\n",
       "      <td>0</td>\n",
       "      <td>Monday</td>\n",
       "      <td>0</td>\n",
       "      <td>Monday</td>\n",
       "    </tr>\n",
       "    <tr>\n",
       "      <td>19595</td>\n",
       "      <td>2616695597419.0</td>\n",
       "      <td>5643151</td>\n",
       "      <td>F</td>\n",
       "      <td>53</td>\n",
       "      <td>ILHA DO PRÍNCIPE</td>\n",
       "      <td>0</td>\n",
       "      <td>0</td>\n",
       "      <td>0</td>\n",
       "      <td>0</td>\n",
       "      <td>0</td>\n",
       "      <td>0</td>\n",
       "      <td>Missed</td>\n",
       "      <td>2016-05-02</td>\n",
       "      <td>2020-04-29 07:10:17+00:00</td>\n",
       "      <td>2016-05-02</td>\n",
       "      <td>0</td>\n",
       "      <td>Monday</td>\n",
       "      <td>0</td>\n",
       "      <td>Monday</td>\n",
       "    </tr>\n",
       "  </tbody>\n",
       "</table>\n",
       "</div>"
      ],
      "text/plain": [
       "              PatientId  AppointmentID Gender  Age     Neighbourhood  \\\n",
       "24654     18961433933.0        5697881      F   53          REDENÇÃO   \n",
       "19598  93486429157969.0        5742455      F   80    JARDIM CAMBURI   \n",
       "19595   2616695597419.0        5643151      F   53  ILHA DO PRÍNCIPE   \n",
       "\n",
       "       Scholarship  Hipertension  Diabetes  Alcoholism  Handcap  SMS_received  \\\n",
       "24654            0             0         0           0        1             0   \n",
       "19598            0             0         0           0        0             0   \n",
       "19595            0             0         0           0        0             0   \n",
       "\n",
       "        No-show Scheduled Date            Scheduled Time Appointment Date  \\\n",
       "24654  Attended     2016-05-16 2020-04-29 06:58:16+00:00       2016-05-16   \n",
       "19598  Attended     2016-05-30 2020-04-29 08:01:11+00:00       2016-05-30   \n",
       "19595    Missed     2016-05-02 2020-04-29 07:10:17+00:00       2016-05-02   \n",
       "\n",
       "       scheduledDow Scheduled Day  appointmentDow Appointment Day  \n",
       "24654             0        Monday               0          Monday  \n",
       "19598             0        Monday               0          Monday  \n",
       "19595             0        Monday               0          Monday  "
      ]
     },
     "execution_count": 24,
     "metadata": {},
     "output_type": "execute_result"
    }
   ],
   "source": [
    "# Create a DataFrame using the subset of patients who scheduled a same-day appointment early in the day.\n",
    "earlyMatches = apptMatches[(apptMatches['Scheduled Time'].dt.hour >=6) & (apptMatches['Scheduled Time'].dt.hour <= 12)]\n",
    "earlyMatches.head(3)"
   ]
  },
  {
   "cell_type": "code",
   "execution_count": 25,
   "metadata": {},
   "outputs": [
    {
     "data": {
      "text/plain": [
       "count                         28252\n",
       "unique                        14638\n",
       "top       2020-04-29 07:09:54+00:00\n",
       "freq                             25\n",
       "first     2020-04-29 06:09:36+00:00\n",
       "last      2020-04-29 12:59:52+00:00\n",
       "Name: Scheduled Time, dtype: object"
      ]
     },
     "execution_count": 25,
     "metadata": {},
     "output_type": "execute_result"
    }
   ],
   "source": [
    "# Double check that the times fall between 6 am and 1 pm\n",
    "earlyMatches['Scheduled Time'].describe()"
   ]
  },
  {
   "cell_type": "code",
   "execution_count": 26,
   "metadata": {},
   "outputs": [
    {
     "data": {
      "text/plain": [
       "Attended    0.954552\n",
       "Missed      0.045448\n",
       "Name: No-show, dtype: float64"
      ]
     },
     "execution_count": 26,
     "metadata": {},
     "output_type": "execute_result"
    }
   ],
   "source": [
    "earlyMatches['No-show'].value_counts([0])"
   ]
  },
  {
   "cell_type": "code",
   "execution_count": 27,
   "metadata": {},
   "outputs": [],
   "source": [
    "# Create a DataFrame for the appointments scheduled later in the day\n",
    "lateMatches = apptMatches[(apptMatches['Scheduled Time'].dt.hour >12)]"
   ]
  },
  {
   "cell_type": "code",
   "execution_count": 28,
   "metadata": {},
   "outputs": [
    {
     "data": {
      "text/plain": [
       "Attended    0.950732\n",
       "Missed      0.049268\n",
       "Name: No-show, dtype: float64"
      ]
     },
     "execution_count": 28,
     "metadata": {},
     "output_type": "execute_result"
    }
   ],
   "source": [
    "lateMatches['No-show'].value_counts([0])"
   ]
  },
  {
   "cell_type": "markdown",
   "metadata": {},
   "source": [
    "There actually doesn't appear to be a significant difference in attendance between appointments that were scheduled earlier and later in the day. "
   ]
  },
  {
   "cell_type": "markdown",
   "metadata": {},
   "source": [
    "#### Next, I want to visualize appointment attendance based on the day of the week that the appointment is scheduled for."
   ]
  },
  {
   "cell_type": "code",
   "execution_count": 29,
   "metadata": {},
   "outputs": [
    {
     "data": {
      "text/plain": [
       "<matplotlib.axes._subplots.AxesSubplot at 0x1a262abc10>"
      ]
     },
     "execution_count": 29,
     "metadata": {},
     "output_type": "execute_result"
    },
    {
     "data": {
      "image/png": "[encoded data removed]",
      "text/plain": [
       "<Figure size 432x288 with 1 Axes>"
      ]
     },
     "metadata": {
      "needs_background": "light"
     },
     "output_type": "display_data"
    }
   ],
   "source": [
    "# Plot the distribution of appointments scheduled for each day of the week\n",
    "sns.countplot(x='Appointment Day', data=df, color = 'cornflowerblue')"
   ]
  },
  {
   "cell_type": "markdown",
   "metadata": {},
   "source": [
    "The above plot is a little weird with the dates are out of order. Let's change that. "
   ]
  },
  {
   "cell_type": "code",
   "execution_count": 30,
   "metadata": {},
   "outputs": [
    {
     "data": {
      "text/html": [
       "<div>\n",
       "<style scoped>\n",
       "    .dataframe tbody tr th:only-of-type {\n",
       "        vertical-align: middle;\n",
       "    }\n",
       "\n",
       "    .dataframe tbody tr th {\n",
       "        vertical-align: top;\n",
       "    }\n",
       "\n",
       "    .dataframe thead th {\n",
       "        text-align: right;\n",
       "    }\n",
       "</style>\n",
       "<table border=\"1\" class=\"dataframe\">\n",
       "  <thead>\n",
       "    <tr style=\"text-align: right;\">\n",
       "      <th></th>\n",
       "      <th>PatientId</th>\n",
       "      <th>AppointmentID</th>\n",
       "      <th>Gender</th>\n",
       "      <th>Age</th>\n",
       "      <th>Neighbourhood</th>\n",
       "      <th>Scholarship</th>\n",
       "      <th>Hipertension</th>\n",
       "      <th>Diabetes</th>\n",
       "      <th>Alcoholism</th>\n",
       "      <th>Handcap</th>\n",
       "      <th>SMS_received</th>\n",
       "      <th>No-show</th>\n",
       "      <th>Scheduled Date</th>\n",
       "      <th>Scheduled Time</th>\n",
       "      <th>Appointment Date</th>\n",
       "      <th>scheduledDow</th>\n",
       "      <th>Scheduled Day</th>\n",
       "      <th>appointmentDow</th>\n",
       "      <th>Appointment Day</th>\n",
       "    </tr>\n",
       "  </thead>\n",
       "  <tbody>\n",
       "    <tr>\n",
       "      <td>24654</td>\n",
       "      <td>18961433933.0</td>\n",
       "      <td>5697881</td>\n",
       "      <td>F</td>\n",
       "      <td>53</td>\n",
       "      <td>REDENÇÃO</td>\n",
       "      <td>0</td>\n",
       "      <td>0</td>\n",
       "      <td>0</td>\n",
       "      <td>0</td>\n",
       "      <td>1</td>\n",
       "      <td>0</td>\n",
       "      <td>Attended</td>\n",
       "      <td>2016-05-16</td>\n",
       "      <td>2020-04-29 06:58:16+00:00</td>\n",
       "      <td>2016-05-16</td>\n",
       "      <td>0</td>\n",
       "      <td>Monday</td>\n",
       "      <td>0</td>\n",
       "      <td>Monday</td>\n",
       "    </tr>\n",
       "    <tr>\n",
       "      <td>73278</td>\n",
       "      <td>1941491283397.0</td>\n",
       "      <td>5744227</td>\n",
       "      <td>F</td>\n",
       "      <td>54</td>\n",
       "      <td>ILHA DAS CAIEIRAS</td>\n",
       "      <td>1</td>\n",
       "      <td>1</td>\n",
       "      <td>0</td>\n",
       "      <td>0</td>\n",
       "      <td>0</td>\n",
       "      <td>0</td>\n",
       "      <td>Attended</td>\n",
       "      <td>2016-05-30</td>\n",
       "      <td>2020-04-29 09:58:39+00:00</td>\n",
       "      <td>2016-05-30</td>\n",
       "      <td>0</td>\n",
       "      <td>Monday</td>\n",
       "      <td>0</td>\n",
       "      <td>Monday</td>\n",
       "    </tr>\n",
       "    <tr>\n",
       "      <td>98498</td>\n",
       "      <td>285389484234444.0</td>\n",
       "      <td>5775475</td>\n",
       "      <td>F</td>\n",
       "      <td>39</td>\n",
       "      <td>SÃO JOSÉ</td>\n",
       "      <td>0</td>\n",
       "      <td>0</td>\n",
       "      <td>0</td>\n",
       "      <td>0</td>\n",
       "      <td>0</td>\n",
       "      <td>0</td>\n",
       "      <td>Attended</td>\n",
       "      <td>2016-06-06</td>\n",
       "      <td>2020-04-29 09:29:26+00:00</td>\n",
       "      <td>2016-06-06</td>\n",
       "      <td>0</td>\n",
       "      <td>Monday</td>\n",
       "      <td>0</td>\n",
       "      <td>Monday</td>\n",
       "    </tr>\n",
       "  </tbody>\n",
       "</table>\n",
       "</div>"
      ],
      "text/plain": [
       "               PatientId  AppointmentID Gender  Age      Neighbourhood  \\\n",
       "24654      18961433933.0        5697881      F   53           REDENÇÃO   \n",
       "73278    1941491283397.0        5744227      F   54  ILHA DAS CAIEIRAS   \n",
       "98498  285389484234444.0        5775475      F   39           SÃO JOSÉ   \n",
       "\n",
       "       Scholarship  Hipertension  Diabetes  Alcoholism  Handcap  SMS_received  \\\n",
       "24654            0             0         0           0        1             0   \n",
       "73278            1             1         0           0        0             0   \n",
       "98498            0             0         0           0        0             0   \n",
       "\n",
       "        No-show Scheduled Date            Scheduled Time Appointment Date  \\\n",
       "24654  Attended     2016-05-16 2020-04-29 06:58:16+00:00       2016-05-16   \n",
       "73278  Attended     2016-05-30 2020-04-29 09:58:39+00:00       2016-05-30   \n",
       "98498  Attended     2016-06-06 2020-04-29 09:29:26+00:00       2016-06-06   \n",
       "\n",
       "       scheduledDow Scheduled Day  appointmentDow Appointment Day  \n",
       "24654             0        Monday               0          Monday  \n",
       "73278             0        Monday               0          Monday  \n",
       "98498             0        Monday               0          Monday  "
      ]
     },
     "execution_count": 30,
     "metadata": {},
     "output_type": "execute_result"
    }
   ],
   "source": [
    "df = df.sort_values('appointmentDow')\n",
    "df.head(3)"
   ]
  },
  {
   "cell_type": "code",
   "execution_count": 34,
   "metadata": {},
   "outputs": [
    {
     "data": {
      "text/plain": [
       "<matplotlib.axes._subplots.AxesSubplot at 0x1a26148ad0>"
      ]
     },
     "execution_count": 34,
     "metadata": {},
     "output_type": "execute_result"
    },
    {
     "data": {
      "image/png": "[encoded data removed]",
      "text/plain": [
       "<Figure size 432x288 with 1 Axes>"
      ]
     },
     "metadata": {
      "needs_background": "light"
     },
     "output_type": "display_data"
    }
   ],
   "source": [
    "sns.countplot(x='Appointment Day', data=df, color='cornflowerblue')"
   ]
  },
  {
   "cell_type": "markdown",
   "metadata": {},
   "source": [
    "Now let's find the proportion of appointments that are missed, and while we're at it, let's just analyze the appointments that weren't scheduled for the same day since we've already seen that the vast majority of those appointments are attended. "
   ]
  },
  {
   "cell_type": "code",
   "execution_count": 32,
   "metadata": {},
   "outputs": [
    {
     "data": {
      "text/plain": [
       "<matplotlib.axes._subplots.AxesSubplot at 0x1a261b6fd0>"
      ]
     },
     "execution_count": 32,
     "metadata": {},
     "output_type": "execute_result"
    },
    {
     "data": {
      "image/png": "[encoded data removed]",
      "text/plain": [
       "<Figure size 432x288 with 1 Axes>"
      ]
     },
     "metadata": {
      "needs_background": "light"
     },
     "output_type": "display_data"
    }
   ],
   "source": [
    "sns.countplot(x='Appointment Day', data=appts_wo_Matches.sort_values('appointmentDow'), palette='GnBu', hue='No-show')"
   ]
  },
  {
   "cell_type": "code",
   "execution_count": 44,
   "metadata": {},
   "outputs": [
    {
     "data": {
      "text/plain": [
       "Appointment Day  No-show \n",
       "Friday           Attended    0.706456\n",
       "                 Missed      0.293544\n",
       "Monday           Attended    0.697847\n",
       "                 Missed      0.302153\n",
       "Saturday         Attended    0.709677\n",
       "                 Missed      0.290323\n",
       "Thursday         Attended    0.727265\n",
       "                 Missed      0.272735\n",
       "Tuesday          Attended    0.713253\n",
       "                 Missed      0.286747\n",
       "Wednesday        Attended    0.728483\n",
       "                 Missed      0.271517\n",
       "Name: No-show, dtype: float64"
      ]
     },
     "execution_count": 44,
     "metadata": {},
     "output_type": "execute_result"
    }
   ],
   "source": [
    "attendancePercentage = appts_wo_Matches.groupby('Appointment Day')['No-show'].value_counts(normalize=True)\n",
    "attendancePercentage"
   ]
  },
  {
   "cell_type": "markdown",
   "metadata": {},
   "source": [
    "Just from here, we can see that there doesn't appear to be a significant difference in attendance amongst the days. Since we're already this far, we might as well plot the data."
   ]
  },
  {
   "cell_type": "code",
   "execution_count": 45,
   "metadata": {},
   "outputs": [
    {
     "data": {
      "text/html": [
       "<div>\n",
       "<style scoped>\n",
       "    .dataframe tbody tr th:only-of-type {\n",
       "        vertical-align: middle;\n",
       "    }\n",
       "\n",
       "    .dataframe tbody tr th {\n",
       "        vertical-align: top;\n",
       "    }\n",
       "\n",
       "    .dataframe thead th {\n",
       "        text-align: right;\n",
       "    }\n",
       "</style>\n",
       "<table border=\"1\" class=\"dataframe\">\n",
       "  <thead>\n",
       "    <tr style=\"text-align: right;\">\n",
       "      <th></th>\n",
       "      <th>Appointment Day</th>\n",
       "      <th>No-show</th>\n",
       "      <th>Percent</th>\n",
       "    </tr>\n",
       "  </thead>\n",
       "  <tbody>\n",
       "    <tr>\n",
       "      <td>0</td>\n",
       "      <td>Friday</td>\n",
       "      <td>Attended</td>\n",
       "      <td>70.645574</td>\n",
       "    </tr>\n",
       "    <tr>\n",
       "      <td>1</td>\n",
       "      <td>Friday</td>\n",
       "      <td>Missed</td>\n",
       "      <td>29.354426</td>\n",
       "    </tr>\n",
       "  </tbody>\n",
       "</table>\n",
       "</div>"
      ],
      "text/plain": [
       "  Appointment Day   No-show    Percent\n",
       "0          Friday  Attended  70.645574\n",
       "1          Friday    Missed  29.354426"
      ]
     },
     "execution_count": 45,
     "metadata": {},
     "output_type": "execute_result"
    }
   ],
   "source": [
    "attendancePercentage = attendancePercentage.mul(100).rename('Percent').reset_index()\n",
    "attendancePercentage.head(2)"
   ]
  },
  {
   "cell_type": "code",
   "execution_count": 46,
   "metadata": {},
   "outputs": [],
   "source": [
    "order = df.sort_values('scheduledDow')['Appointment Day'].unique()"
   ]
  },
  {
   "cell_type": "code",
   "execution_count": 47,
   "metadata": {},
   "outputs": [
    {
     "data": {
      "image/png": "[encoded data removed]",
      "text/plain": [
       "<Figure size 720x432 with 1 Axes>"
      ]
     },
     "metadata": {
      "needs_background": "light"
     },
     "output_type": "display_data"
    }
   ],
   "source": [
    "plt.figure(figsize=(10, 6))\n",
    "ax = sns.barplot(x='Appointment Day', y='Percent', data=attendancePercentage, hue='No-show', palette='GnBu')\n",
    "ax.set_xticklabels(ax.get_xticklabels(),rotation=90)\n",
    "plt.show()"
   ]
  },
  {
   "cell_type": "markdown",
   "metadata": {},
   "source": [
    "<a id='nb_age'></a>\n",
    "### 2. The Relationship between a Patient's Age and Attendance"
   ]
  },
  {
   "cell_type": "code",
   "execution_count": 62,
   "metadata": {},
   "outputs": [
    {
     "data": {
      "image/png": "[encoded data removed]",
      "text/plain": [
       "<Figure size 432x288 with 1 Axes>"
      ]
     },
     "metadata": {
      "needs_background": "light"
     },
     "output_type": "display_data"
    }
   ],
   "source": [
    "sns.distplot(appts_wo_Matches.Age, bins = np.arange(0, 120, 2))\n",
    "plt.xlim(0, 120)\n",
    "plt.xticks(np.arange(0, 120+10, 10));"
   ]
  },
  {
   "cell_type": "markdown",
   "metadata": {},
   "source": [
    "Right off the bat, we can see that most of these are either obstetric or neonatal appointments."
   ]
  },
  {
   "cell_type": "code",
   "execution_count": 64,
   "metadata": {},
   "outputs": [
    {
     "data": {
      "text/plain": [
       "Attended    0.724073\n",
       "Missed      0.275927\n",
       "Name: No-show, dtype: float64"
      ]
     },
     "execution_count": 64,
     "metadata": {},
     "output_type": "execute_result"
    }
   ],
   "source": [
    "appts_wo_Matches[appts_wo_Matches['Age'] == 0]['No-show'].value_counts([0])"
   ]
  },
  {
   "cell_type": "markdown",
   "metadata": {},
   "source": [
    "Surprisingly, the fraction of these appointments that are missed matches the fraction of appointments that are missed overall. I would have expected this fraction to be far smaller. Again, we are only looking at appointments that are not same-day appointments. "
   ]
  },
  {
   "cell_type": "markdown",
   "metadata": {},
   "source": [
    "Next, let's find the ages of the patients from each neighborhood and see if we can find any relationship between patient age and appointment attendance."
   ]
  },
  {
   "cell_type": "code",
   "execution_count": 65,
   "metadata": {},
   "outputs": [
    {
     "data": {
      "text/plain": [
       "JARDIM CAMBURI    5213\n",
       "MARIA ORTIZ       3730\n",
       "RESISTÊNCIA       2819\n",
       "Name: Neighbourhood, dtype: int64"
      ]
     },
     "execution_count": 65,
     "metadata": {},
     "output_type": "execute_result"
    }
   ],
   "source": [
    "# Counts how many appointments were scheduled for each neighborhood\n",
    "nb = appts_wo_Matches['Neighbourhood'].value_counts()\n",
    "nb.head(3)"
   ]
  },
  {
   "cell_type": "code",
   "execution_count": 66,
   "metadata": {},
   "outputs": [
    {
     "data": {
      "text/plain": [
       "count      80.000000\n",
       "mean      899.550000\n",
       "std       888.584152\n",
       "min         2.000000\n",
       "25%       281.500000\n",
       "50%       642.000000\n",
       "75%      1361.000000\n",
       "max      5213.000000\n",
       "Name: Neighbourhood, dtype: float64"
      ]
     },
     "execution_count": 66,
     "metadata": {},
     "output_type": "execute_result"
    }
   ],
   "source": [
    "nb.describe()"
   ]
  },
  {
   "cell_type": "markdown",
   "metadata": {},
   "source": [
    "Above, we see that the data is right-skewed"
   ]
  },
  {
   "cell_type": "code",
   "execution_count": 67,
   "metadata": {},
   "outputs": [],
   "source": [
    "# Create a list that only includes neighborhoods where the number of appointments scheduled are above the median\n",
    "nb_list = list(nb[nb > 851].index)"
   ]
  },
  {
   "cell_type": "code",
   "execution_count": 68,
   "metadata": {},
   "outputs": [],
   "source": [
    "# Create a DataFrame that only includes neighborhoods that surpass your threshold for analysis\n",
    "nb_df = appts_wo_Matches[appts_wo_Matches['Neighbourhood'].isin(nb_list)]"
   ]
  },
  {
   "cell_type": "code",
   "execution_count": 69,
   "metadata": {},
   "outputs": [
    {
     "data": {
      "image/png": "[encoded data removed]",
      "text/plain": [
       "<Figure size 1296x576 with 1 Axes>"
      ]
     },
     "metadata": {
      "needs_background": "light"
     },
     "output_type": "display_data"
    }
   ],
   "source": [
    "plt.figure(figsize=(18,8))\n",
    "ax = sns.boxplot(x='Neighbourhood', y='Age', data=nb_df, palette=\"Blues_d\", hue='No-show')\n",
    "ax.set_xticklabels(ax.get_xticklabels(),rotation=90)\n",
    "plt.title('Hospital Appointment Attendance', fontsize=15)\n",
    "plt.show()"
   ]
  },
  {
   "cell_type": "markdown",
   "metadata": {},
   "source": [
    "Here, we see that patients who miss their appointments tend to be younger than those who attend their appointments. Next, we should do the same but only include patients who are older than 20. I would assume that by that age, most patients are able to drive themselves or take public transportation to the hospital independently."
   ]
  },
  {
   "cell_type": "code",
   "execution_count": 70,
   "metadata": {},
   "outputs": [],
   "source": [
    "olderPatients = nb_df[nb_df['Age']>=20]"
   ]
  },
  {
   "cell_type": "code",
   "execution_count": 71,
   "metadata": {},
   "outputs": [
    {
     "data": {
      "image/png": "[encoded data removed]",
      "text/plain": [
       "<Figure size 1296x576 with 1 Axes>"
      ]
     },
     "metadata": {
      "needs_background": "light"
     },
     "output_type": "display_data"
    }
   ],
   "source": [
    "plt.figure(figsize=(18,8))\n",
    "ax = sns.boxplot(x='Neighbourhood', y='Age', data=olderPatients, palette=\"Blues_d\", hue='No-show')\n",
    "ax.set_xticklabels(ax.get_xticklabels(),rotation=90)\n",
    "plt.title('Hospital Appointment Attendance', fontsize=15)\n",
    "plt.show()"
   ]
  },
  {
   "cell_type": "markdown",
   "metadata": {},
   "source": [
    "Even when removing the younger patients, the trend still persists. Those who miss their appointments do in fact tend to be younger."
   ]
  },
  {
   "cell_type": "code",
   "execution_count": 72,
   "metadata": {},
   "outputs": [],
   "source": [
    "youngerPatients = nb_df[nb_df['Age']<20]"
   ]
  },
  {
   "cell_type": "code",
   "execution_count": 75,
   "metadata": {},
   "outputs": [
    {
     "data": {
      "image/png": "[encoded data removed]",
      "text/plain": [
       "<Figure size 1296x576 with 1 Axes>"
      ]
     },
     "metadata": {
      "needs_background": "light"
     },
     "output_type": "display_data"
    }
   ],
   "source": [
    "plt.figure(figsize=(18,8))\n",
    "ax = sns.boxplot(x='Neighbourhood', y='Age', data=youngerPatients, palette=\"Blues_d\", hue='No-show')\n",
    "ax.set_xticklabels(ax.get_xticklabels(),rotation=90)\n",
    "plt.title('Hospital Appointment Attendance', fontsize=15)\n",
    "plt.ylim(-1, 23)\n",
    "plt.show()"
   ]
  },
  {
   "cell_type": "markdown",
   "metadata": {},
   "source": [
    "As one would expect, the results for younger patients are far more mixed. Most of these patients depend on some sort of guardian to bring them to their appointment, so whether or not they attend is less a function of the patient's age than it would be for those who are older."
   ]
  },
  {
   "cell_type": "markdown",
   "metadata": {},
   "source": [
    "<a id='conclusions'></a>\n",
    "## Conclusions\n",
    "\n",
    "`Limitations`\n",
    "\n",
    "This hospital dataset was extensive, including more than 100,000 scheduled appointments in 81 different neighborhoods for 62,299 different patients. There was also a sizeable representation of each age group for these appointments. While these factors contribute to the power of this dataset, it is important to note that these appointment were only recorded for a little over a month. There may be seasonal differences in patient behavior, which could alter the conclusions that we have found in this dataset. Additionally, Brazil's population is around 200 million. Seeing that our dataset only includes information on an infinitesimal fraction of the Brazilian population, our dataset might also mask patient behaviors that otherwise would be manifest in a larger data collection. \n",
    "\n",
    "`Findings`\n",
    "\n",
    "In exploring this dataset, we found that most people do in fact attend the appointments they schedule for themselves. This truth holds true even when we remove patients whom we can only assume were walk-ins. We also found that there didn't seem to be a relationship between the day of the week that the appointment was scheduled for and attendance. However, there did seem to be a relationship between age and patient attendance. When comparing the median age of patients who attend and miss their appointments, we see that patients who miss their appointments tend to be younger.\n"
   ]
  },
  {
   "cell_type": "markdown",
   "metadata": {
    "collapsed": true
   },
   "source": [
    "```\n",
    "```"
   ]
  }
 ],
 "metadata": {
  "kernelspec": {
   "display_name": "Python 3",
   "language": "python",
   "name": "python3"
  },
  "language_info": {
   "codemirror_mode": {
    "name": "ipython",
    "version": 3
   },
   "file_extension": ".py",
   "mimetype": "text/x-python",
   "name": "python",
   "nbconvert_exporter": "python",
   "pygments_lexer": "ipython3",
   "version": "3.7.4"
  }
 },
 "nbformat": 4,
 "nbformat_minor": 2
}

{
 "cells": [
  {
   "cell_type": "markdown",
   "metadata": {},
   "source": [
    "# Project: The Floofiest Floofer\n",
    "\n",
    "## Table of Contents\n",
    "<ul>\n",
    "<li><a href=\"#intro\">Introduction</a></li>\n",
    "<li><a href=\"#wrangling\">Data Wrangling</a></li>\n",
    "<li><a href=\"#gather\">Gather</a></li>\n",
    "<li><a href=\"#assess\">Assess</a></li>\n",
    "<li><a href=\"#clean\">Clean</a></li> \n",
    "<li><a href=\"#analysis\">Analysis</a></li>\n",
    "<ul>\n",
    "<li><a href=\"#rttime\">Retweets over Time</a></li>\n",
    "<li><a href=\"#rtbreed\">Retweets versus Dog Breed</a></li>\n",
    "<li><a href=\"#rtstage\">Retweets versus Dog Stage</a></li>\n",
    "</ul>"
   ]
  },
  {
   "cell_type": "markdown",
   "metadata": {},
   "source": [
    "<a id='intro'></a>\n",
    "## Introduction\n",
    "\n",
    "> In this project, we will try to uncover interesting trends from WeRateDogs, a twitter page where people upload photos of the loves of their lives (their dogs) and rate them far above the maximum limit. We ignore this fallacy because *no one* can resist a good floofer."
   ]
  },
  {
   "cell_type": "code",
   "execution_count": 2,
   "metadata": {},
   "outputs": [],
   "source": [
    "import pandas as pd\n",
    "import numpy as np\n",
    "import matplotlib.pyplot as plt\n",
    "import seaborn as sn\n",
    "import tweepy\n",
    "import json\n",
    "import requests\n",
    "import os"
   ]
  },
  {
   "cell_type": "markdown",
   "metadata": {},
   "source": [
    "<a id='wrangling'></a>\n",
    "## Data Wrangling\n",
    ">Before doing any analyses, we have to go through the steps of gathering, assesing, and cleaning our data. While these steps can be quite energy-intensive, performing any sort of analyis without data wrangling would be a nightmare. At least wrangling can be a nightmare you intentionally choose to put yourself through."
   ]
  },
  {
   "cell_type": "markdown",
   "metadata": {},
   "source": [
    "<a id='gather'></a>\n",
    "## Gather"
   ]
  },
  {
   "cell_type": "markdown",
   "metadata": {},
   "source": [
    "- A .csv: `twitter-archive-enhanced.csv` with WeRateDogs tweet information, such as the tweet's text\n",
    "- JSON info using Tweepy and Twitter's API to create a `tweet_json.txt` file to obtain information such as number of retweets\n",
    "- A .tsv: `image-predictions.tsv` with predications for the breed of dog posted with each WeRateDogs tweet"
   ]
  },
  {
   "cell_type": "markdown",
   "metadata": {},
   "source": [
    "### Obtain the twitter-archive-enhanced.csv"
   ]
  },
  {
   "cell_type": "code",
   "execution_count": 3,
   "metadata": {},
   "outputs": [
    {
     "data": {
      "text/html": [
       "<div>\n",
       "<style scoped>\n",
       "    .dataframe tbody tr th:only-of-type {\n",
       "        vertical-align: middle;\n",
       "    }\n",
       "\n",
       "    .dataframe tbody tr th {\n",
       "        vertical-align: top;\n",
       "    }\n",
       "\n",
       "    .dataframe thead th {\n",
       "        text-align: right;\n",
       "    }\n",
       "</style>\n",
       "<table border=\"1\" class=\"dataframe\">\n",
       "  <thead>\n",
       "    <tr style=\"text-align: right;\">\n",
       "      <th></th>\n",
       "      <th>tweet_id</th>\n",
       "      <th>in_reply_to_status_id</th>\n",
       "      <th>in_reply_to_user_id</th>\n",
       "      <th>timestamp</th>\n",
       "      <th>source</th>\n",
       "      <th>text</th>\n",
       "      <th>retweeted_status_id</th>\n",
       "      <th>retweeted_status_user_id</th>\n",
       "      <th>retweeted_status_timestamp</th>\n",
       "      <th>expanded_urls</th>\n",
       "      <th>rating_numerator</th>\n",
       "      <th>rating_denominator</th>\n",
       "      <th>name</th>\n",
       "      <th>doggo</th>\n",
       "      <th>floofer</th>\n",
       "      <th>pupper</th>\n",
       "      <th>puppo</th>\n",
       "    </tr>\n",
       "  </thead>\n",
       "  <tbody>\n",
       "    <tr>\n",
       "      <td>0</td>\n",
       "      <td>892420643555336193</td>\n",
       "      <td>NaN</td>\n",
       "      <td>NaN</td>\n",
       "      <td>2017-08-01 16:23:56 +0000</td>\n",
       "      <td>&lt;a href=\"http://twitter.com/download/iphone\" r...</td>\n",
       "      <td>This is Phineas. He's a mystical boy. Only eve...</td>\n",
       "      <td>NaN</td>\n",
       "      <td>NaN</td>\n",
       "      <td>NaN</td>\n",
       "      <td>https://twitter.com/dog_rates/status/892420643...</td>\n",
       "      <td>13</td>\n",
       "      <td>10</td>\n",
       "      <td>Phineas</td>\n",
       "      <td>None</td>\n",
       "      <td>None</td>\n",
       "      <td>None</td>\n",
       "      <td>None</td>\n",
       "    </tr>\n",
       "    <tr>\n",
       "      <td>1</td>\n",
       "      <td>892177421306343426</td>\n",
       "      <td>NaN</td>\n",
       "      <td>NaN</td>\n",
       "      <td>2017-08-01 00:17:27 +0000</td>\n",
       "      <td>&lt;a href=\"http://twitter.com/download/iphone\" r...</td>\n",
       "      <td>This is Tilly. She's just checking pup on you....</td>\n",
       "      <td>NaN</td>\n",
       "      <td>NaN</td>\n",
       "      <td>NaN</td>\n",
       "      <td>https://twitter.com/dog_rates/status/892177421...</td>\n",
       "      <td>13</td>\n",
       "      <td>10</td>\n",
       "      <td>Tilly</td>\n",
       "      <td>None</td>\n",
       "      <td>None</td>\n",
       "      <td>None</td>\n",
       "      <td>None</td>\n",
       "    </tr>\n",
       "    <tr>\n",
       "      <td>2</td>\n",
       "      <td>891815181378084864</td>\n",
       "      <td>NaN</td>\n",
       "      <td>NaN</td>\n",
       "      <td>2017-07-31 00:18:03 +0000</td>\n",
       "      <td>&lt;a href=\"http://twitter.com/download/iphone\" r...</td>\n",
       "      <td>This is Archie. He is a rare Norwegian Pouncin...</td>\n",
       "      <td>NaN</td>\n",
       "      <td>NaN</td>\n",
       "      <td>NaN</td>\n",
       "      <td>https://twitter.com/dog_rates/status/891815181...</td>\n",
       "      <td>12</td>\n",
       "      <td>10</td>\n",
       "      <td>Archie</td>\n",
       "      <td>None</td>\n",
       "      <td>None</td>\n",
       "      <td>None</td>\n",
       "      <td>None</td>\n",
       "    </tr>\n",
       "  </tbody>\n",
       "</table>\n",
       "</div>"
      ],
      "text/plain": [
       "             tweet_id  in_reply_to_status_id  in_reply_to_user_id  \\\n",
       "0  892420643555336193                    NaN                  NaN   \n",
       "1  892177421306343426                    NaN                  NaN   \n",
       "2  891815181378084864                    NaN                  NaN   \n",
       "\n",
       "                   timestamp  \\\n",
       "0  2017-08-01 16:23:56 +0000   \n",
       "1  2017-08-01 00:17:27 +0000   \n",
       "2  2017-07-31 00:18:03 +0000   \n",
       "\n",
       "                                              source  \\\n",
       "0  <a href=\"http://twitter.com/download/iphone\" r...   \n",
       "1  <a href=\"http://twitter.com/download/iphone\" r...   \n",
       "2  <a href=\"http://twitter.com/download/iphone\" r...   \n",
       "\n",
       "                                                text  retweeted_status_id  \\\n",
       "0  This is Phineas. He's a mystical boy. Only eve...                  NaN   \n",
       "1  This is Tilly. She's just checking pup on you....                  NaN   \n",
       "2  This is Archie. He is a rare Norwegian Pouncin...                  NaN   \n",
       "\n",
       "   retweeted_status_user_id retweeted_status_timestamp  \\\n",
       "0                       NaN                        NaN   \n",
       "1                       NaN                        NaN   \n",
       "2                       NaN                        NaN   \n",
       "\n",
       "                                       expanded_urls  rating_numerator  \\\n",
       "0  https://twitter.com/dog_rates/status/892420643...                13   \n",
       "1  https://twitter.com/dog_rates/status/892177421...                13   \n",
       "2  https://twitter.com/dog_rates/status/891815181...                12   \n",
       "\n",
       "   rating_denominator     name doggo floofer pupper puppo  \n",
       "0                  10  Phineas  None    None   None  None  \n",
       "1                  10    Tilly  None    None   None  None  \n",
       "2                  10   Archie  None    None   None  None  "
      ]
     },
     "execution_count": 3,
     "metadata": {},
     "output_type": "execute_result"
    }
   ],
   "source": [
    "weRateDogs = pd.read_csv('twitter-archive-enhanced.csv')\n",
    "weRateDogs.head(3)"
   ]
  },
  {
   "cell_type": "markdown",
   "metadata": {},
   "source": [
    "Column definitions from the Twitter API webpage: \n",
    "\n",
    "**in_reply_to_status_id**: \n",
    ">Nullable. If the represented Tweet is a reply, this field will contain the integer representation of the original Tweet’s ID.\n",
    "\n",
    "**in_reply_to_user_id**: \n",
    ">Nullable. If the represented Tweet is a reply, this field will contain the integer representation of the original Tweet’s author ID. This will not necessarily always be the user directly mentioned in the Tweet.\n",
    "\n",
    "**retweeted_status_id** and **retweeted_status_user_id**\n",
    ">This attribute contains a representation of the original Tweet that was retweeted. Note that retweets of retweets do not show representations of the intermediary retweet, but only the original Tweet."
   ]
  },
  {
   "cell_type": "markdown",
   "metadata": {},
   "source": [
    "### Obtain the image-predictions.tsv file"
   ]
  },
  {
   "cell_type": "markdown",
   "metadata": {},
   "source": [
    "We need to pull this file programmatically from le internet.\n",
    "\n",
    "To do this, we use `Requests`"
   ]
  },
  {
   "cell_type": "code",
   "execution_count": 4,
   "metadata": {},
   "outputs": [],
   "source": [
    "url = 'https://d17h27t6h515a5.cloudfront.net/topher/2017/August/599fd2ad_image-predictions/image-predictions.tsv'\n",
    "\n",
    "response = requests.get(url)"
   ]
  },
  {
   "cell_type": "code",
   "execution_count": 5,
   "metadata": {},
   "outputs": [],
   "source": [
    "with open('tweet_json3.txt', 'wb') as file:\n",
    "    file.write(response.content)"
   ]
  },
  {
   "cell_type": "code",
   "execution_count": 6,
   "metadata": {},
   "outputs": [
    {
     "data": {
      "text/html": [
       "<div>\n",
       "<style scoped>\n",
       "    .dataframe tbody tr th:only-of-type {\n",
       "        vertical-align: middle;\n",
       "    }\n",
       "\n",
       "    .dataframe tbody tr th {\n",
       "        vertical-align: top;\n",
       "    }\n",
       "\n",
       "    .dataframe thead th {\n",
       "        text-align: right;\n",
       "    }\n",
       "</style>\n",
       "<table border=\"1\" class=\"dataframe\">\n",
       "  <thead>\n",
       "    <tr style=\"text-align: right;\">\n",
       "      <th></th>\n",
       "      <th>tweet_id</th>\n",
       "      <th>jpg_url</th>\n",
       "      <th>img_num</th>\n",
       "      <th>p1</th>\n",
       "      <th>p1_conf</th>\n",
       "      <th>p1_dog</th>\n",
       "      <th>p2</th>\n",
       "      <th>p2_conf</th>\n",
       "      <th>p2_dog</th>\n",
       "      <th>p3</th>\n",
       "      <th>p3_conf</th>\n",
       "      <th>p3_dog</th>\n",
       "    </tr>\n",
       "  </thead>\n",
       "  <tbody>\n",
       "    <tr>\n",
       "      <td>689</td>\n",
       "      <td>684188786104872960</td>\n",
       "      <td>https://pbs.twimg.com/media/CX66EiJWkAAVjA-.jpg</td>\n",
       "      <td>1</td>\n",
       "      <td>kelpie</td>\n",
       "      <td>0.537782</td>\n",
       "      <td>True</td>\n",
       "      <td>American_Staffordshire_terrier</td>\n",
       "      <td>0.082953</td>\n",
       "      <td>True</td>\n",
       "      <td>Staffordshire_bullterrier</td>\n",
       "      <td>0.069760</td>\n",
       "      <td>True</td>\n",
       "    </tr>\n",
       "    <tr>\n",
       "      <td>1188</td>\n",
       "      <td>739544079319588864</td>\n",
       "      <td>https://pbs.twimg.com/media/CkNjahBXAAQ2kWo.jpg</td>\n",
       "      <td>1</td>\n",
       "      <td>Labrador_retriever</td>\n",
       "      <td>0.967397</td>\n",
       "      <td>True</td>\n",
       "      <td>golden_retriever</td>\n",
       "      <td>0.016641</td>\n",
       "      <td>True</td>\n",
       "      <td>ice_bear</td>\n",
       "      <td>0.014858</td>\n",
       "      <td>False</td>\n",
       "    </tr>\n",
       "    <tr>\n",
       "      <td>1029</td>\n",
       "      <td>711008018775851008</td>\n",
       "      <td>https://pbs.twimg.com/media/Cd4CBQFW8AAY3ND.jpg</td>\n",
       "      <td>1</td>\n",
       "      <td>French_bulldog</td>\n",
       "      <td>0.731405</td>\n",
       "      <td>True</td>\n",
       "      <td>Boston_bull</td>\n",
       "      <td>0.150672</td>\n",
       "      <td>True</td>\n",
       "      <td>pug</td>\n",
       "      <td>0.021811</td>\n",
       "      <td>True</td>\n",
       "    </tr>\n",
       "  </tbody>\n",
       "</table>\n",
       "</div>"
      ],
      "text/plain": [
       "                tweet_id                                          jpg_url  \\\n",
       "689   684188786104872960  https://pbs.twimg.com/media/CX66EiJWkAAVjA-.jpg   \n",
       "1188  739544079319588864  https://pbs.twimg.com/media/CkNjahBXAAQ2kWo.jpg   \n",
       "1029  711008018775851008  https://pbs.twimg.com/media/Cd4CBQFW8AAY3ND.jpg   \n",
       "\n",
       "      img_num                  p1   p1_conf  p1_dog  \\\n",
       "689         1              kelpie  0.537782    True   \n",
       "1188        1  Labrador_retriever  0.967397    True   \n",
       "1029        1      French_bulldog  0.731405    True   \n",
       "\n",
       "                                  p2   p2_conf  p2_dog  \\\n",
       "689   American_Staffordshire_terrier  0.082953    True   \n",
       "1188                golden_retriever  0.016641    True   \n",
       "1029                     Boston_bull  0.150672    True   \n",
       "\n",
       "                             p3   p3_conf  p3_dog  \n",
       "689   Staffordshire_bullterrier  0.069760    True  \n",
       "1188                   ice_bear  0.014858   False  \n",
       "1029                        pug  0.021811    True  "
      ]
     },
     "execution_count": 6,
     "metadata": {},
     "output_type": "execute_result"
    }
   ],
   "source": [
    "imagePredict = pd.read_csv('tweet_json3.txt', sep = '\\t')\n",
    "imagePredict.sample(3)"
   ]
  },
  {
   "cell_type": "markdown",
   "metadata": {},
   "source": [
    "Column definitions:\n",
    "\n",
    "**p1:**\n",
    ">The predictor's best guess at the breed of dog in the photo it is most confident about (out of the maximum 3 photos)\n",
    "\n",
    "**p1_conf:**\n",
    ">How confident the algorithm is of it's breed prediction, where 1 is the maximum. \n",
    "\n",
    "**p1_dog:**\n",
    ">Some of the images uploaded are of subjects other than a dog, so this column is a check to see if the photo is indeed a dog photo"
   ]
  },
  {
   "cell_type": "markdown",
   "metadata": {},
   "source": [
    "### Create a JSON .txt file with WeRateDogs tweet info pulled from Twitter's API"
   ]
  },
  {
   "cell_type": "markdown",
   "metadata": {},
   "source": [
    "I used the code below to access Twitter information through its API using `Tweepy`:"
   ]
  },
  {
   "cell_type": "markdown",
   "metadata": {},
   "source": [
    "```\n",
    "auth = tweepy.OAuthHandler('consumer_token', 'consumer_secret')\n",
    "auth.set_access_token('key', 'secret')\n",
    "\n",
    "api = tweepy.API(auth)\n",
    "```"
   ]
  },
  {
   "cell_type": "markdown",
   "metadata": {},
   "source": [
    "We want to find tweet information for the tweets listed in the WeRateDogs archive, so first, let's make a list of those tweetIDs."
   ]
  },
  {
   "cell_type": "code",
   "execution_count": 7,
   "metadata": {},
   "outputs": [],
   "source": [
    "tweetIDs = list(weRateDogs.tweet_id)"
   ]
  },
  {
   "cell_type": "markdown",
   "metadata": {},
   "source": [
    "I used the code below to pull tweets from Twitter's API:"
   ]
  },
  {
   "cell_type": "markdown",
   "metadata": {},
   "source": [
    "```\n",
    "# Create a .txt file to append ('a') our WeRateDogs data\n",
    "file = open('tweet_json.txt', 'a')\n",
    "\n",
    "# Some of the tweets have been deleted, so we'll write code to execute our function and handle errors as they come\n",
    "for tweet in tweetIDs: \n",
    "    try:\n",
    "        # Get tweet information (status) from Twitter\n",
    "        tweetStatus = api.get_status(tweet, wait_on_rate_limit=True, wait_on_rate_limit_notify=True)\n",
    "        \n",
    "        # Convert the status object into a JSON and convert the JSON into a string\n",
    "        r = json.dumps(tweetStatus._json)\n",
    "        \n",
    "        # Add each string into our tweet_json.txt file\n",
    "        file.write(r)\n",
    "        \n",
    "        # While having each tweet's information passed onto a new line\n",
    "        file.write('\\n')\n",
    "        \n",
    "    except:\n",
    "        # Handling the errors (from deleted/missing tweets)\n",
    "        print(\"Tweet {} is not found\".format(tweet))\n",
    "\n",
    "# The file needs to be closed in order to execute the above functions\n",
    "file.close()\n",
    "```"
   ]
  },
  {
   "cell_type": "markdown",
   "metadata": {},
   "source": [
    "The way we loaded the data, each tweet's information gets placed into one line on the text file. Additionally, each individual line fulfills JSON requirements, but the text file as a whole does not. Therefore, we need to read in the file *line by line*. "
   ]
  },
  {
   "cell_type": "code",
   "execution_count": 8,
   "metadata": {},
   "outputs": [],
   "source": [
    "data = []\n",
    "with open('tweet_json.txt') as f:\n",
    "    for line in f:\n",
    "        data.append(json.loads(line))"
   ]
  },
  {
   "cell_type": "code",
   "execution_count": 9,
   "metadata": {},
   "outputs": [],
   "source": [
    "tweetInfo = pd.DataFrame(data)"
   ]
  },
  {
   "cell_type": "markdown",
   "metadata": {},
   "source": [
    "<a id='assess'></a>\n",
    "## Assess"
   ]
  },
  {
   "cell_type": "markdown",
   "metadata": {},
   "source": [
    "#### imagePredict"
   ]
  },
  {
   "cell_type": "code",
   "execution_count": 10,
   "metadata": {},
   "outputs": [
    {
     "data": {
      "text/html": [
       "<div>\n",
       "<style scoped>\n",
       "    .dataframe tbody tr th:only-of-type {\n",
       "        vertical-align: middle;\n",
       "    }\n",
       "\n",
       "    .dataframe tbody tr th {\n",
       "        vertical-align: top;\n",
       "    }\n",
       "\n",
       "    .dataframe thead th {\n",
       "        text-align: right;\n",
       "    }\n",
       "</style>\n",
       "<table border=\"1\" class=\"dataframe\">\n",
       "  <thead>\n",
       "    <tr style=\"text-align: right;\">\n",
       "      <th></th>\n",
       "      <th>tweet_id</th>\n",
       "      <th>jpg_url</th>\n",
       "      <th>img_num</th>\n",
       "      <th>p1</th>\n",
       "      <th>p1_conf</th>\n",
       "      <th>p1_dog</th>\n",
       "      <th>p2</th>\n",
       "      <th>p2_conf</th>\n",
       "      <th>p2_dog</th>\n",
       "      <th>p3</th>\n",
       "      <th>p3_conf</th>\n",
       "      <th>p3_dog</th>\n",
       "    </tr>\n",
       "  </thead>\n",
       "  <tbody>\n",
       "    <tr>\n",
       "      <td>1741</td>\n",
       "      <td>822610361945911296</td>\n",
       "      <td>https://pbs.twimg.com/media/C2p_wQyXEAELtvS.jpg</td>\n",
       "      <td>1</td>\n",
       "      <td>cocker_spaniel</td>\n",
       "      <td>0.664487</td>\n",
       "      <td>True</td>\n",
       "      <td>Norfolk_terrier</td>\n",
       "      <td>0.075089</td>\n",
       "      <td>True</td>\n",
       "      <td>Norwich_terrier</td>\n",
       "      <td>0.059644</td>\n",
       "      <td>True</td>\n",
       "    </tr>\n",
       "    <tr>\n",
       "      <td>506</td>\n",
       "      <td>675898130735476737</td>\n",
       "      <td>https://pbs.twimg.com/media/CWFFt3_XIAArIYK.jpg</td>\n",
       "      <td>1</td>\n",
       "      <td>Labrador_retriever</td>\n",
       "      <td>0.407430</td>\n",
       "      <td>True</td>\n",
       "      <td>malinois</td>\n",
       "      <td>0.077037</td>\n",
       "      <td>True</td>\n",
       "      <td>pug</td>\n",
       "      <td>0.074597</td>\n",
       "      <td>True</td>\n",
       "    </tr>\n",
       "  </tbody>\n",
       "</table>\n",
       "</div>"
      ],
      "text/plain": [
       "                tweet_id                                          jpg_url  \\\n",
       "1741  822610361945911296  https://pbs.twimg.com/media/C2p_wQyXEAELtvS.jpg   \n",
       "506   675898130735476737  https://pbs.twimg.com/media/CWFFt3_XIAArIYK.jpg   \n",
       "\n",
       "      img_num                  p1   p1_conf  p1_dog               p2  \\\n",
       "1741        1      cocker_spaniel  0.664487    True  Norfolk_terrier   \n",
       "506         1  Labrador_retriever  0.407430    True         malinois   \n",
       "\n",
       "       p2_conf  p2_dog               p3   p3_conf  p3_dog  \n",
       "1741  0.075089    True  Norwich_terrier  0.059644    True  \n",
       "506   0.077037    True              pug  0.074597    True  "
      ]
     },
     "execution_count": 10,
     "metadata": {},
     "output_type": "execute_result"
    }
   ],
   "source": [
    "imagePredict.sample(2)"
   ]
  },
  {
   "cell_type": "code",
   "execution_count": 11,
   "metadata": {},
   "outputs": [
    {
     "name": "stdout",
     "output_type": "stream",
     "text": [
      "<class 'pandas.core.frame.DataFrame'>\n",
      "RangeIndex: 2075 entries, 0 to 2074\n",
      "Data columns (total 12 columns):\n",
      "tweet_id    2075 non-null int64\n",
      "jpg_url     2075 non-null object\n",
      "img_num     2075 non-null int64\n",
      "p1          2075 non-null object\n",
      "p1_conf     2075 non-null float64\n",
      "p1_dog      2075 non-null bool\n",
      "p2          2075 non-null object\n",
      "p2_conf     2075 non-null float64\n",
      "p2_dog      2075 non-null bool\n",
      "p3          2075 non-null object\n",
      "p3_conf     2075 non-null float64\n",
      "p3_dog      2075 non-null bool\n",
      "dtypes: bool(3), float64(3), int64(2), object(4)\n",
      "memory usage: 152.1+ KB\n"
     ]
    }
   ],
   "source": [
    "imagePredict.info()"
   ]
  },
  {
   "cell_type": "code",
   "execution_count": 12,
   "metadata": {},
   "outputs": [
    {
     "data": {
      "text/plain": [
       "golden_retriever      150\n",
       "Labrador_retriever    100\n",
       "Pembroke               89\n",
       "Chihuahua              83\n",
       "pug                    57\n",
       "                     ... \n",
       "Egyptian_cat            1\n",
       "four-poster             1\n",
       "park_bench              1\n",
       "EntleBucher             1\n",
       "cougar                  1\n",
       "Name: p1, Length: 378, dtype: int64"
      ]
     },
     "execution_count": 12,
     "metadata": {},
     "output_type": "execute_result"
    }
   ],
   "source": [
    "# \"Breeds\" predicted by the neural network\n",
    "imagePredict.p1.value_counts()"
   ]
  },
  {
   "cell_type": "code",
   "execution_count": 13,
   "metadata": {},
   "outputs": [
    {
     "data": {
      "text/html": [
       "<div>\n",
       "<style scoped>\n",
       "    .dataframe tbody tr th:only-of-type {\n",
       "        vertical-align: middle;\n",
       "    }\n",
       "\n",
       "    .dataframe tbody tr th {\n",
       "        vertical-align: top;\n",
       "    }\n",
       "\n",
       "    .dataframe thead th {\n",
       "        text-align: right;\n",
       "    }\n",
       "</style>\n",
       "<table border=\"1\" class=\"dataframe\">\n",
       "  <thead>\n",
       "    <tr style=\"text-align: right;\">\n",
       "      <th></th>\n",
       "      <th>index</th>\n",
       "      <th>p1</th>\n",
       "    </tr>\n",
       "  </thead>\n",
       "  <tbody>\n",
       "    <tr>\n",
       "      <td>203</td>\n",
       "      <td>maze</td>\n",
       "      <td>1</td>\n",
       "    </tr>\n",
       "    <tr>\n",
       "      <td>204</td>\n",
       "      <td>rain_barrel</td>\n",
       "      <td>1</td>\n",
       "    </tr>\n",
       "    <tr>\n",
       "      <td>205</td>\n",
       "      <td>marmot</td>\n",
       "      <td>1</td>\n",
       "    </tr>\n",
       "    <tr>\n",
       "      <td>206</td>\n",
       "      <td>dining_table</td>\n",
       "      <td>1</td>\n",
       "    </tr>\n",
       "    <tr>\n",
       "      <td>207</td>\n",
       "      <td>microwave</td>\n",
       "      <td>1</td>\n",
       "    </tr>\n",
       "    <tr>\n",
       "      <td>...</td>\n",
       "      <td>...</td>\n",
       "      <td>...</td>\n",
       "    </tr>\n",
       "    <tr>\n",
       "      <td>373</td>\n",
       "      <td>Egyptian_cat</td>\n",
       "      <td>1</td>\n",
       "    </tr>\n",
       "    <tr>\n",
       "      <td>374</td>\n",
       "      <td>four-poster</td>\n",
       "      <td>1</td>\n",
       "    </tr>\n",
       "    <tr>\n",
       "      <td>375</td>\n",
       "      <td>park_bench</td>\n",
       "      <td>1</td>\n",
       "    </tr>\n",
       "    <tr>\n",
       "      <td>376</td>\n",
       "      <td>EntleBucher</td>\n",
       "      <td>1</td>\n",
       "    </tr>\n",
       "    <tr>\n",
       "      <td>377</td>\n",
       "      <td>cougar</td>\n",
       "      <td>1</td>\n",
       "    </tr>\n",
       "  </tbody>\n",
       "</table>\n",
       "<p>175 rows × 2 columns</p>\n",
       "</div>"
      ],
      "text/plain": [
       "            index  p1\n",
       "203          maze   1\n",
       "204   rain_barrel   1\n",
       "205        marmot   1\n",
       "206  dining_table   1\n",
       "207     microwave   1\n",
       "..            ...  ..\n",
       "373  Egyptian_cat   1\n",
       "374   four-poster   1\n",
       "375    park_bench   1\n",
       "376   EntleBucher   1\n",
       "377        cougar   1\n",
       "\n",
       "[175 rows x 2 columns]"
      ]
     },
     "execution_count": 13,
     "metadata": {},
     "output_type": "execute_result"
    }
   ],
   "source": [
    "test = imagePredict.p1.value_counts().reset_index()\n",
    "test[test.p1 == 1]"
   ]
  },
  {
   "cell_type": "code",
   "execution_count": 14,
   "metadata": {},
   "outputs": [
    {
     "data": {
      "text/plain": [
       "True     0.738313\n",
       "False    0.261687\n",
       "Name: p1_dog, dtype: float64"
      ]
     },
     "execution_count": 14,
     "metadata": {},
     "output_type": "execute_result"
    }
   ],
   "source": [
    "# Proportion of photos that the neural network predicts are not dogs\n",
    "imagePredict.p1_dog.value_counts([0])"
   ]
  },
  {
   "cell_type": "markdown",
   "metadata": {},
   "source": [
    "`Notes`\n",
    "Objects and non-dog animals are included in the breed predictions column"
   ]
  },
  {
   "cell_type": "code",
   "execution_count": 15,
   "metadata": {},
   "outputs": [
    {
     "data": {
      "text/plain": [
       "<matplotlib.axes._subplots.AxesSubplot at 0x1a23c8c390>"
      ]
     },
     "execution_count": 15,
     "metadata": {},
     "output_type": "execute_result"
    },
    {
     "data": {
      "image/png": "[encoded data removed]",
      "text/plain": [
       "<Figure size 432x288 with 1 Axes>"
      ]
     },
     "metadata": {
      "needs_background": "light"
     },
     "output_type": "display_data"
    }
   ],
   "source": [
    "# Distribution of neural network confidence in breed predictions\n",
    "sn.distplot(imagePredict.p1_conf)"
   ]
  },
  {
   "cell_type": "markdown",
   "metadata": {},
   "source": [
    "`Notes` There is a large distribution of confidence percentages. The shape of the distribution is bimodal."
   ]
  },
  {
   "cell_type": "markdown",
   "metadata": {},
   "source": [
    "#### weRateDogs"
   ]
  },
  {
   "cell_type": "code",
   "execution_count": 16,
   "metadata": {},
   "outputs": [
    {
     "data": {
      "text/html": [
       "<div>\n",
       "<style scoped>\n",
       "    .dataframe tbody tr th:only-of-type {\n",
       "        vertical-align: middle;\n",
       "    }\n",
       "\n",
       "    .dataframe tbody tr th {\n",
       "        vertical-align: top;\n",
       "    }\n",
       "\n",
       "    .dataframe thead th {\n",
       "        text-align: right;\n",
       "    }\n",
       "</style>\n",
       "<table border=\"1\" class=\"dataframe\">\n",
       "  <thead>\n",
       "    <tr style=\"text-align: right;\">\n",
       "      <th></th>\n",
       "      <th>tweet_id</th>\n",
       "      <th>in_reply_to_status_id</th>\n",
       "      <th>in_reply_to_user_id</th>\n",
       "      <th>timestamp</th>\n",
       "      <th>source</th>\n",
       "      <th>text</th>\n",
       "      <th>retweeted_status_id</th>\n",
       "      <th>retweeted_status_user_id</th>\n",
       "      <th>retweeted_status_timestamp</th>\n",
       "      <th>expanded_urls</th>\n",
       "      <th>rating_numerator</th>\n",
       "      <th>rating_denominator</th>\n",
       "      <th>name</th>\n",
       "      <th>doggo</th>\n",
       "      <th>floofer</th>\n",
       "      <th>pupper</th>\n",
       "      <th>puppo</th>\n",
       "    </tr>\n",
       "  </thead>\n",
       "  <tbody>\n",
       "    <tr>\n",
       "      <td>2279</td>\n",
       "      <td>667405339315146752</td>\n",
       "      <td>NaN</td>\n",
       "      <td>NaN</td>\n",
       "      <td>2015-11-19 18:13:27 +0000</td>\n",
       "      <td>&lt;a href=\"http://twitter.com/download/iphone\" r...</td>\n",
       "      <td>This is Biden. Biden just tripped... 7/10 http...</td>\n",
       "      <td>NaN</td>\n",
       "      <td>NaN</td>\n",
       "      <td>NaN</td>\n",
       "      <td>https://twitter.com/dog_rates/status/667405339...</td>\n",
       "      <td>7</td>\n",
       "      <td>10</td>\n",
       "      <td>Biden</td>\n",
       "      <td>None</td>\n",
       "      <td>None</td>\n",
       "      <td>None</td>\n",
       "      <td>None</td>\n",
       "    </tr>\n",
       "    <tr>\n",
       "      <td>550</td>\n",
       "      <td>804738756058218496</td>\n",
       "      <td>NaN</td>\n",
       "      <td>NaN</td>\n",
       "      <td>2016-12-02 17:27:25 +0000</td>\n",
       "      <td>&lt;a href=\"http://twitter.com/download/iphone\" r...</td>\n",
       "      <td>This is Django. He accidentally opened the fro...</td>\n",
       "      <td>NaN</td>\n",
       "      <td>NaN</td>\n",
       "      <td>NaN</td>\n",
       "      <td>https://twitter.com/dog_rates/status/804738756...</td>\n",
       "      <td>12</td>\n",
       "      <td>10</td>\n",
       "      <td>Django</td>\n",
       "      <td>None</td>\n",
       "      <td>None</td>\n",
       "      <td>None</td>\n",
       "      <td>None</td>\n",
       "    </tr>\n",
       "    <tr>\n",
       "      <td>2092</td>\n",
       "      <td>670782429121134593</td>\n",
       "      <td>NaN</td>\n",
       "      <td>NaN</td>\n",
       "      <td>2015-11-29 01:52:48 +0000</td>\n",
       "      <td>&lt;a href=\"http://twitter.com/download/iphone\" r...</td>\n",
       "      <td>This dude slaps your girl's ass what do you do...</td>\n",
       "      <td>NaN</td>\n",
       "      <td>NaN</td>\n",
       "      <td>NaN</td>\n",
       "      <td>https://twitter.com/dog_rates/status/670782429...</td>\n",
       "      <td>5</td>\n",
       "      <td>10</td>\n",
       "      <td>None</td>\n",
       "      <td>None</td>\n",
       "      <td>None</td>\n",
       "      <td>None</td>\n",
       "      <td>None</td>\n",
       "    </tr>\n",
       "  </tbody>\n",
       "</table>\n",
       "</div>"
      ],
      "text/plain": [
       "                tweet_id  in_reply_to_status_id  in_reply_to_user_id  \\\n",
       "2279  667405339315146752                    NaN                  NaN   \n",
       "550   804738756058218496                    NaN                  NaN   \n",
       "2092  670782429121134593                    NaN                  NaN   \n",
       "\n",
       "                      timestamp  \\\n",
       "2279  2015-11-19 18:13:27 +0000   \n",
       "550   2016-12-02 17:27:25 +0000   \n",
       "2092  2015-11-29 01:52:48 +0000   \n",
       "\n",
       "                                                 source  \\\n",
       "2279  <a href=\"http://twitter.com/download/iphone\" r...   \n",
       "550   <a href=\"http://twitter.com/download/iphone\" r...   \n",
       "2092  <a href=\"http://twitter.com/download/iphone\" r...   \n",
       "\n",
       "                                                   text  retweeted_status_id  \\\n",
       "2279  This is Biden. Biden just tripped... 7/10 http...                  NaN   \n",
       "550   This is Django. He accidentally opened the fro...                  NaN   \n",
       "2092  This dude slaps your girl's ass what do you do...                  NaN   \n",
       "\n",
       "      retweeted_status_user_id retweeted_status_timestamp  \\\n",
       "2279                       NaN                        NaN   \n",
       "550                        NaN                        NaN   \n",
       "2092                       NaN                        NaN   \n",
       "\n",
       "                                          expanded_urls  rating_numerator  \\\n",
       "2279  https://twitter.com/dog_rates/status/667405339...                 7   \n",
       "550   https://twitter.com/dog_rates/status/804738756...                12   \n",
       "2092  https://twitter.com/dog_rates/status/670782429...                 5   \n",
       "\n",
       "      rating_denominator    name doggo floofer pupper puppo  \n",
       "2279                  10   Biden  None    None   None  None  \n",
       "550                   10  Django  None    None   None  None  \n",
       "2092                  10    None  None    None   None  None  "
      ]
     },
     "execution_count": 16,
     "metadata": {},
     "output_type": "execute_result"
    }
   ],
   "source": [
    "weRateDogs.sample(3)"
   ]
  },
  {
   "cell_type": "code",
   "execution_count": 17,
   "metadata": {},
   "outputs": [
    {
     "name": "stdout",
     "output_type": "stream",
     "text": [
      "<class 'pandas.core.frame.DataFrame'>\n",
      "RangeIndex: 2356 entries, 0 to 2355\n",
      "Data columns (total 17 columns):\n",
      "tweet_id                      2356 non-null int64\n",
      "in_reply_to_status_id         78 non-null float64\n",
      "in_reply_to_user_id           78 non-null float64\n",
      "timestamp                     2356 non-null object\n",
      "source                        2356 non-null object\n",
      "text                          2356 non-null object\n",
      "retweeted_status_id           181 non-null float64\n",
      "retweeted_status_user_id      181 non-null float64\n",
      "retweeted_status_timestamp    181 non-null object\n",
      "expanded_urls                 2297 non-null object\n",
      "rating_numerator              2356 non-null int64\n",
      "rating_denominator            2356 non-null int64\n",
      "name                          2356 non-null object\n",
      "doggo                         2356 non-null object\n",
      "floofer                       2356 non-null object\n",
      "pupper                        2356 non-null object\n",
      "puppo                         2356 non-null object\n",
      "dtypes: float64(4), int64(3), object(10)\n",
      "memory usage: 313.0+ KB\n"
     ]
    }
   ],
   "source": [
    "weRateDogs.info()"
   ]
  },
  {
   "cell_type": "code",
   "execution_count": 18,
   "metadata": {},
   "outputs": [
    {
     "data": {
      "text/plain": [
       "array([  13,   12,   14,    5,   17,   11,   10,  420,  666,    6,   15,\n",
       "        182,  960,    0,   75,    7,   84,    9,   24,    8,    1,   27,\n",
       "          3,    4,  165, 1776,  204,   50,   99,   80,   45,   60,   44,\n",
       "        143,  121,   20,   26,    2,  144,   88])"
      ]
     },
     "execution_count": 18,
     "metadata": {},
     "output_type": "execute_result"
    }
   ],
   "source": [
    "weRateDogs.rating_numerator.unique()"
   ]
  },
  {
   "cell_type": "code",
   "execution_count": 19,
   "metadata": {},
   "outputs": [
    {
     "data": {
      "text/plain": [
       "array([ 10,   0,  15,  70,   7,  11, 150, 170,  20,  50,  90,  80,  40,\n",
       "       130, 110,  16, 120,   2])"
      ]
     },
     "execution_count": 19,
     "metadata": {},
     "output_type": "execute_result"
    }
   ],
   "source": [
    "weRateDogs.rating_denominator.unique()"
   ]
  },
  {
   "cell_type": "markdown",
   "metadata": {},
   "source": [
    "`Note` 666 seems like a strange rating to give your dog. Several of the denominators are also not out of ten."
   ]
  },
  {
   "cell_type": "code",
   "execution_count": 20,
   "metadata": {},
   "outputs": [
    {
     "data": {
      "text/html": [
       "<div>\n",
       "<style scoped>\n",
       "    .dataframe tbody tr th:only-of-type {\n",
       "        vertical-align: middle;\n",
       "    }\n",
       "\n",
       "    .dataframe tbody tr th {\n",
       "        vertical-align: top;\n",
       "    }\n",
       "\n",
       "    .dataframe thead th {\n",
       "        text-align: right;\n",
       "    }\n",
       "</style>\n",
       "<table border=\"1\" class=\"dataframe\">\n",
       "  <thead>\n",
       "    <tr style=\"text-align: right;\">\n",
       "      <th></th>\n",
       "      <th>created_at</th>\n",
       "      <th>id</th>\n",
       "      <th>id_str</th>\n",
       "      <th>text</th>\n",
       "      <th>truncated</th>\n",
       "      <th>entities</th>\n",
       "      <th>extended_entities</th>\n",
       "      <th>source</th>\n",
       "      <th>in_reply_to_status_id</th>\n",
       "      <th>in_reply_to_status_id_str</th>\n",
       "      <th>...</th>\n",
       "      <th>favorite_count</th>\n",
       "      <th>favorited</th>\n",
       "      <th>retweeted</th>\n",
       "      <th>possibly_sensitive</th>\n",
       "      <th>possibly_sensitive_appealable</th>\n",
       "      <th>lang</th>\n",
       "      <th>retweeted_status</th>\n",
       "      <th>quoted_status_id</th>\n",
       "      <th>quoted_status_id_str</th>\n",
       "      <th>quoted_status</th>\n",
       "    </tr>\n",
       "  </thead>\n",
       "  <tbody>\n",
       "    <tr>\n",
       "      <td>1805</td>\n",
       "      <td>Mon Dec 14 01:58:31 +0000 2015</td>\n",
       "      <td>676219687039057920</td>\n",
       "      <td>676219687039057920</td>\n",
       "      <td>This is Kenneth. He's stuck in a bubble. 10/10...</td>\n",
       "      <td>False</td>\n",
       "      <td>{'hashtags': [], 'symbols': [], 'user_mentions...</td>\n",
       "      <td>{'media': [{'id': 676219682148499456, 'id_str'...</td>\n",
       "      <td>&lt;a href=\"http://twitter.com/download/iphone\" r...</td>\n",
       "      <td>NaN</td>\n",
       "      <td>None</td>\n",
       "      <td>...</td>\n",
       "      <td>75273</td>\n",
       "      <td>False</td>\n",
       "      <td>False</td>\n",
       "      <td>False</td>\n",
       "      <td>False</td>\n",
       "      <td>en</td>\n",
       "      <td>NaN</td>\n",
       "      <td>NaN</td>\n",
       "      <td>NaN</td>\n",
       "      <td>NaN</td>\n",
       "    </tr>\n",
       "    <tr>\n",
       "      <td>853</td>\n",
       "      <td>Thu Aug 04 15:48:47 +0000 2016</td>\n",
       "      <td>761227390836215808</td>\n",
       "      <td>761227390836215808</td>\n",
       "      <td>This is Albert. He just found out that bees ar...</td>\n",
       "      <td>False</td>\n",
       "      <td>{'hashtags': [], 'symbols': [], 'user_mentions...</td>\n",
       "      <td>{'media': [{'id': 761227386398633985, 'id_str'...</td>\n",
       "      <td>&lt;a href=\"http://twitter.com/download/iphone\" r...</td>\n",
       "      <td>NaN</td>\n",
       "      <td>None</td>\n",
       "      <td>...</td>\n",
       "      <td>5375</td>\n",
       "      <td>False</td>\n",
       "      <td>False</td>\n",
       "      <td>False</td>\n",
       "      <td>False</td>\n",
       "      <td>en</td>\n",
       "      <td>NaN</td>\n",
       "      <td>NaN</td>\n",
       "      <td>NaN</td>\n",
       "      <td>NaN</td>\n",
       "    </tr>\n",
       "    <tr>\n",
       "      <td>1267</td>\n",
       "      <td>Fri Mar 11 02:36:57 +0000 2016</td>\n",
       "      <td>708119489313951744</td>\n",
       "      <td>708119489313951744</td>\n",
       "      <td>This is Cooper. He basks in the glory of rebel...</td>\n",
       "      <td>False</td>\n",
       "      <td>{'hashtags': [], 'symbols': [], 'user_mentions...</td>\n",
       "      <td>{'media': [{'id': 708119483462905857, 'id_str'...</td>\n",
       "      <td>&lt;a href=\"http://twitter.com/download/iphone\" r...</td>\n",
       "      <td>NaN</td>\n",
       "      <td>None</td>\n",
       "      <td>...</td>\n",
       "      <td>2688</td>\n",
       "      <td>False</td>\n",
       "      <td>False</td>\n",
       "      <td>False</td>\n",
       "      <td>False</td>\n",
       "      <td>en</td>\n",
       "      <td>NaN</td>\n",
       "      <td>NaN</td>\n",
       "      <td>NaN</td>\n",
       "      <td>NaN</td>\n",
       "    </tr>\n",
       "  </tbody>\n",
       "</table>\n",
       "<p>3 rows × 30 columns</p>\n",
       "</div>"
      ],
      "text/plain": [
       "                          created_at                  id              id_str  \\\n",
       "1805  Mon Dec 14 01:58:31 +0000 2015  676219687039057920  676219687039057920   \n",
       "853   Thu Aug 04 15:48:47 +0000 2016  761227390836215808  761227390836215808   \n",
       "1267  Fri Mar 11 02:36:57 +0000 2016  708119489313951744  708119489313951744   \n",
       "\n",
       "                                                   text  truncated  \\\n",
       "1805  This is Kenneth. He's stuck in a bubble. 10/10...      False   \n",
       "853   This is Albert. He just found out that bees ar...      False   \n",
       "1267  This is Cooper. He basks in the glory of rebel...      False   \n",
       "\n",
       "                                               entities  \\\n",
       "1805  {'hashtags': [], 'symbols': [], 'user_mentions...   \n",
       "853   {'hashtags': [], 'symbols': [], 'user_mentions...   \n",
       "1267  {'hashtags': [], 'symbols': [], 'user_mentions...   \n",
       "\n",
       "                                      extended_entities  \\\n",
       "1805  {'media': [{'id': 676219682148499456, 'id_str'...   \n",
       "853   {'media': [{'id': 761227386398633985, 'id_str'...   \n",
       "1267  {'media': [{'id': 708119483462905857, 'id_str'...   \n",
       "\n",
       "                                                 source  \\\n",
       "1805  <a href=\"http://twitter.com/download/iphone\" r...   \n",
       "853   <a href=\"http://twitter.com/download/iphone\" r...   \n",
       "1267  <a href=\"http://twitter.com/download/iphone\" r...   \n",
       "\n",
       "      in_reply_to_status_id in_reply_to_status_id_str  ...  favorite_count  \\\n",
       "1805                    NaN                      None  ...           75273   \n",
       "853                     NaN                      None  ...            5375   \n",
       "1267                    NaN                      None  ...            2688   \n",
       "\n",
       "     favorited retweeted possibly_sensitive possibly_sensitive_appealable  \\\n",
       "1805     False     False              False                         False   \n",
       "853      False     False              False                         False   \n",
       "1267     False     False              False                         False   \n",
       "\n",
       "     lang retweeted_status quoted_status_id  quoted_status_id_str  \\\n",
       "1805   en              NaN              NaN                   NaN   \n",
       "853    en              NaN              NaN                   NaN   \n",
       "1267   en              NaN              NaN                   NaN   \n",
       "\n",
       "      quoted_status  \n",
       "1805            NaN  \n",
       "853             NaN  \n",
       "1267            NaN  \n",
       "\n",
       "[3 rows x 30 columns]"
      ]
     },
     "execution_count": 20,
     "metadata": {},
     "output_type": "execute_result"
    }
   ],
   "source": [
    "tweetInfo.sample(3)"
   ]
  },
  {
   "cell_type": "code",
   "execution_count": 21,
   "metadata": {},
   "outputs": [
    {
     "data": {
      "text/plain": [
       "created_at                       False\n",
       "id                               False\n",
       "id_str                           False\n",
       "text                             False\n",
       "truncated                        False\n",
       "entities                         False\n",
       "extended_entities                 True\n",
       "source                           False\n",
       "in_reply_to_status_id             True\n",
       "in_reply_to_status_id_str         True\n",
       "in_reply_to_user_id               True\n",
       "in_reply_to_user_id_str           True\n",
       "in_reply_to_screen_name           True\n",
       "user                             False\n",
       "geo                               True\n",
       "coordinates                       True\n",
       "place                             True\n",
       "contributors                      True\n",
       "is_quote_status                  False\n",
       "retweet_count                    False\n",
       "favorite_count                   False\n",
       "favorited                        False\n",
       "retweeted                        False\n",
       "possibly_sensitive                True\n",
       "possibly_sensitive_appealable     True\n",
       "lang                             False\n",
       "retweeted_status                  True\n",
       "quoted_status_id                  True\n",
       "quoted_status_id_str              True\n",
       "quoted_status                     True\n",
       "dtype: bool"
      ]
     },
     "execution_count": 21,
     "metadata": {},
     "output_type": "execute_result"
    }
   ],
   "source": [
    "tweetInfo.isna().any()"
   ]
  },
  {
   "cell_type": "code",
   "execution_count": 22,
   "metadata": {},
   "outputs": [
    {
     "data": {
      "text/plain": [
       "en     2313\n",
       "und       7\n",
       "nl        3\n",
       "in        3\n",
       "tl        1\n",
       "eu        1\n",
       "et        1\n",
       "ro        1\n",
       "es        1\n",
       "Name: lang, dtype: int64"
      ]
     },
     "execution_count": 22,
     "metadata": {},
     "output_type": "execute_result"
    }
   ],
   "source": [
    "tweetInfo.lang.value_counts()"
   ]
  },
  {
   "cell_type": "markdown",
   "metadata": {},
   "source": [
    "Observations: \n",
    "\n",
    "`imagePredict`\n",
    "\n",
    "- This DataFrame contains information on **dog breed predictions** for the photos uploaded onto WeRateDogs.\n",
    "- Of the photos uploaded, some do not have a dog as the subject.\n",
    "- There are several low-confidence predictions.\n",
    "\n",
    "`weRateDogs`\n",
    "\n",
    "- This DataFrame contains information on **tweet text contents**, as well as others that we will ignore for the sake of our analysis. \n",
    "- In the text of several tweets, users refer to their dogs as doggo, floofer, etc. These dog \"stages\" are separated into different columns, but they are essentially the same type.\n",
    "- There are several columns that are unnecessary for analysis, such as: source, expanded_urls, and retweeted_status_timestamp.\n",
    "- There were some tweetIDs listed in our weRateDogs DataFrame that were unavailable (due to deletion) from the twitter API page. \n",
    "- There seems to be an issue with the dog ratings, where the numerators and denominators are either strange numbers (that we wouldn't expect users to type) or extraordinarily large.\n",
    "\n",
    "    \n",
    "`tweetInfo`\n",
    "\n",
    "- This DataFrame contains information on **how people interacted with the tweet** such as: \n",
    "    - Retweets (when users take another user's tweet and tweet it out themselves)\n",
    "    - Replies (when users use the tweet in a reply)\n",
    "    - Favourites \n",
    "- There are several columns that are unnecessary for analysis, such as: id, source, and possibly_sensitive_appealable (whatever that means). There are also a few columns that are completely empty.\n",
    "- But there are also several potentially interesting columns, such as retweet count and favorite count."
   ]
  },
  {
   "cell_type": "markdown",
   "metadata": {},
   "source": [
    "<a id='clean'></a>\n",
    "## Clean"
   ]
  },
  {
   "cell_type": "markdown",
   "metadata": {},
   "source": [
    "First, we'll create copies of our DataFrames. That way, we can refer to the original DataFrames when testing our code or making adjustments."
   ]
  },
  {
   "cell_type": "code",
   "execution_count": 93,
   "metadata": {},
   "outputs": [],
   "source": [
    "weRateDogs_clean = weRateDogs.copy()\n",
    "imagePredict_clean = imagePredict.copy()\n",
    "tweetInfo_clean = tweetInfo.copy()"
   ]
  },
  {
   "cell_type": "markdown",
   "metadata": {},
   "source": [
    "We can split our cleaning tasks into tidying and quality issues. \n",
    "\n",
    "`Tidying Tasks`\n",
    "\n",
    "1. Creating a single dog_stage column \n",
    "2. Removing retweets\n",
    "3. Removing tweet duplicates that are not retweets in the `weRateDogs` DataFrame\n",
    "\n",
    "`Quality Tasks`\n",
    "\n",
    "1. Changing data to their appropriate type\n",
    "2. Renaming columns so that columns among the dataframes that contain the same information match in label\n",
    "3. Renaming columns so that labels are more intuitive\n",
    "4. Fixing user ratings in the `weRateDogs` DataFrame\n",
    "5. Filtering out non-dog names in the `weRateDogs` DataFrame\n",
    "6. Removing non-dog photos from the `imagePredict` DataFrame\n",
    "7. Dealing with low-confidence breed predictions in `imagePredict`\n",
    "8. Filtering out unnecessary columns from each DataFrame\n",
    "9. Merging all the DataFrames"
   ]
  },
  {
   "cell_type": "markdown",
   "metadata": {},
   "source": [
    "<a id=\"changeandRename\"> </a>\n",
    "## Define"
   ]
  },
  {
   "cell_type": "markdown",
   "metadata": {},
   "source": [
    "**Save** data to appropriate type and **rename** matching columns:\n",
    "\n",
    "`weRateDogs`\n",
    "- tweet_id to str\n",
    "- timestamp to Pandas datetime\n",
    "- rating_numerator to float\n",
    "- \\*dog stage to category (will do later)\n",
    "\n",
    "`tweetInfo`\n",
    "- rename 'id_str' to 'tweet_id'\n",
    "- rename 'lang' to 'language'\n",
    "- language to categorical\n",
    "\n",
    "`imagePredict`\n",
    "- rename 'p1' to 'breed'\n",
    "- rename 'p1_conf' to 'confidence'\n",
    "- rename 'p1_dog' to 'dog_photo'\n",
    "- tweet_id to str\n",
    "- breed to string"
   ]
  },
  {
   "cell_type": "markdown",
   "metadata": {},
   "source": [
    "## Code"
   ]
  },
  {
   "cell_type": "code",
   "execution_count": 94,
   "metadata": {},
   "outputs": [],
   "source": [
    "weRateDogs_clean.tweet_id = weRateDogs_clean.tweet_id.astype(str)\n",
    "weRateDogs_clean.timestamp = pd.to_datetime(weRateDogs_clean.timestamp)\n",
    "weRateDogs_clean.rating_numerator = weRateDogs_clean.rating_numerator.astype(float)\n",
    "tweetInfo_clean.rename({'id_str': 'tweet_id', 'lang': 'language'}, axis = 1, inplace = True)\n",
    "tweetInfo_clean.language = tweetInfo_clean.language.astype('category')\n",
    "\n",
    "imagePredict_clean.rename({'p1': 'breed', 'p1_conf': 'confidence', 'p1_dog': 'dog_photo'}, axis = 1, inplace = True)\n",
    "imagePredict_clean.tweet_id = imagePredict_clean.tweet_id.astype(str)\n",
    "imagePredict_clean.breed = imagePredict_clean.breed.astype(str)"
   ]
  },
  {
   "cell_type": "markdown",
   "metadata": {},
   "source": [
    "## Test"
   ]
  },
  {
   "cell_type": "code",
   "execution_count": 95,
   "metadata": {},
   "outputs": [
    {
     "name": "stdout",
     "output_type": "stream",
     "text": [
      "<class 'pandas.core.frame.DataFrame'>\n",
      "RangeIndex: 2356 entries, 0 to 2355\n",
      "Data columns (total 2 columns):\n",
      "tweet_id     2356 non-null object\n",
      "timestamp    2356 non-null datetime64[ns, UTC]\n",
      "dtypes: datetime64[ns, UTC](1), object(1)\n",
      "memory usage: 36.9+ KB\n"
     ]
    }
   ],
   "source": [
    "weRateDogs_clean[['tweet_id', 'timestamp']].info()"
   ]
  },
  {
   "cell_type": "code",
   "execution_count": 96,
   "metadata": {},
   "outputs": [
    {
     "name": "stdout",
     "output_type": "stream",
     "text": [
      "<class 'pandas.core.frame.DataFrame'>\n",
      "RangeIndex: 2331 entries, 0 to 2330\n",
      "Data columns (total 2 columns):\n",
      "tweet_id    2331 non-null object\n",
      "language    2331 non-null category\n",
      "dtypes: category(1), object(1)\n",
      "memory usage: 21.0+ KB\n"
     ]
    }
   ],
   "source": [
    "tweetInfo_clean[['tweet_id', 'language']].info()"
   ]
  },
  {
   "cell_type": "code",
   "execution_count": 97,
   "metadata": {},
   "outputs": [
    {
     "name": "stdout",
     "output_type": "stream",
     "text": [
      "<class 'pandas.core.frame.DataFrame'>\n",
      "RangeIndex: 2075 entries, 0 to 2074\n",
      "Data columns (total 4 columns):\n",
      "tweet_id      2075 non-null object\n",
      "breed         2075 non-null object\n",
      "confidence    2075 non-null float64\n",
      "dog_photo     2075 non-null bool\n",
      "dtypes: bool(1), float64(1), object(2)\n",
      "memory usage: 50.8+ KB\n"
     ]
    }
   ],
   "source": [
    "imagePredict_clean[['tweet_id', 'breed', 'confidence', 'dog_photo']].info()"
   ]
  },
  {
   "cell_type": "markdown",
   "metadata": {},
   "source": [
    "`Dog stages are spread out among four columns`"
   ]
  },
  {
   "cell_type": "markdown",
   "metadata": {},
   "source": [
    "<a id='ratingsScandal'></a>\n",
    "## Define\n",
    "\n",
    "- Fix user ratings\n",
    "- Convert rating_numerator to float"
   ]
  },
  {
   "cell_type": "markdown",
   "metadata": {},
   "source": [
    "## Code"
   ]
  },
  {
   "cell_type": "code",
   "execution_count": 98,
   "metadata": {},
   "outputs": [
    {
     "name": "stderr",
     "output_type": "stream",
     "text": [
      "/Users/adrienneterrado/opt/anaconda3/lib/python3.7/site-packages/pandas/core/strings.py:1843: UserWarning: This pattern has match groups. To actually get the groups, use str.extract.\n",
      "  return func(self, *args, **kwargs)\n"
     ]
    },
    {
     "data": {
      "text/html": [
       "<div>\n",
       "<style scoped>\n",
       "    .dataframe tbody tr th:only-of-type {\n",
       "        vertical-align: middle;\n",
       "    }\n",
       "\n",
       "    .dataframe tbody tr th {\n",
       "        vertical-align: top;\n",
       "    }\n",
       "\n",
       "    .dataframe thead th {\n",
       "        text-align: right;\n",
       "    }\n",
       "</style>\n",
       "<table border=\"1\" class=\"dataframe\">\n",
       "  <thead>\n",
       "    <tr style=\"text-align: right;\">\n",
       "      <th></th>\n",
       "      <th>text</th>\n",
       "      <th>rating_numerator</th>\n",
       "    </tr>\n",
       "  </thead>\n",
       "  <tbody>\n",
       "    <tr>\n",
       "      <td>45</td>\n",
       "      <td>This is Bella. She hopes her smile made you sm...</td>\n",
       "      <td>5</td>\n",
       "    </tr>\n",
       "    <tr>\n",
       "      <td>340</td>\n",
       "      <td>RT @dog_rates: This is Logan, the Chow who liv...</td>\n",
       "      <td>75</td>\n",
       "    </tr>\n",
       "    <tr>\n",
       "      <td>695</td>\n",
       "      <td>This is Logan, the Chow who lived. He solemnly...</td>\n",
       "      <td>75</td>\n",
       "    </tr>\n",
       "    <tr>\n",
       "      <td>763</td>\n",
       "      <td>This is Sophie. She's a Jubilant Bush Pupper. ...</td>\n",
       "      <td>27</td>\n",
       "    </tr>\n",
       "    <tr>\n",
       "      <td>1689</td>\n",
       "      <td>I've been told there's a slight possibility he...</td>\n",
       "      <td>5</td>\n",
       "    </tr>\n",
       "    <tr>\n",
       "      <td>1712</td>\n",
       "      <td>Here we have uncovered an entire battalion of ...</td>\n",
       "      <td>26</td>\n",
       "    </tr>\n",
       "  </tbody>\n",
       "</table>\n",
       "</div>"
      ],
      "text/plain": [
       "                                                   text  rating_numerator\n",
       "45    This is Bella. She hopes her smile made you sm...                 5\n",
       "340   RT @dog_rates: This is Logan, the Chow who liv...                75\n",
       "695   This is Logan, the Chow who lived. He solemnly...                75\n",
       "763   This is Sophie. She's a Jubilant Bush Pupper. ...                27\n",
       "1689  I've been told there's a slight possibility he...                 5\n",
       "1712  Here we have uncovered an entire battalion of ...                26"
      ]
     },
     "execution_count": 98,
     "metadata": {},
     "output_type": "execute_result"
    }
   ],
   "source": [
    "# Find text with floats\n",
    "weRateDogs[weRateDogs.text.str.contains(r\"(\\d+\\.\\d*\\/\\d+)\")][['text', 'rating_numerator']]"
   ]
  },
  {
   "cell_type": "markdown",
   "metadata": {},
   "source": [
    "Let's look a little closer at the first tweet."
   ]
  },
  {
   "cell_type": "code",
   "execution_count": 99,
   "metadata": {},
   "outputs": [
    {
     "name": "stderr",
     "output_type": "stream",
     "text": [
      "/Users/adrienneterrado/opt/anaconda3/lib/python3.7/site-packages/pandas/core/strings.py:1843: UserWarning: This pattern has match groups. To actually get the groups, use str.extract.\n",
      "  return func(self, *args, **kwargs)\n"
     ]
    },
    {
     "data": {
      "text/plain": [
       "'This is Bella. She hopes her smile made you smile. If not, she is also offering you her favorite monkey. 13.5/10 https://t.co/qjrljjt948'"
      ]
     },
     "execution_count": 99,
     "metadata": {},
     "output_type": "execute_result"
    }
   ],
   "source": [
    "weRateDogs[weRateDogs.text.str.contains(r\"(\\d+\\.\\d*\\/\\d+)\")][['text']].iloc[0].text"
   ]
  },
  {
   "cell_type": "markdown",
   "metadata": {},
   "source": [
    "`Note` The user rated her dog Bella a 13.5/10, but the rating numerator was extracted as 5. "
   ]
  },
  {
   "cell_type": "markdown",
   "metadata": {},
   "source": [
    "```\n",
    "```"
   ]
  },
  {
   "cell_type": "code",
   "execution_count": 100,
   "metadata": {},
   "outputs": [],
   "source": [
    "# Convert rating_numerator type from int to float\n",
    "weRateDogs_clean.rating_numerator = weRateDogs_clean.rating_numerator.astype(float)"
   ]
  },
  {
   "cell_type": "code",
   "execution_count": 101,
   "metadata": {},
   "outputs": [
    {
     "data": {
      "text/html": [
       "<div>\n",
       "<style scoped>\n",
       "    .dataframe tbody tr th:only-of-type {\n",
       "        vertical-align: middle;\n",
       "    }\n",
       "\n",
       "    .dataframe tbody tr th {\n",
       "        vertical-align: top;\n",
       "    }\n",
       "\n",
       "    .dataframe thead th {\n",
       "        text-align: right;\n",
       "    }\n",
       "</style>\n",
       "<table border=\"1\" class=\"dataframe\">\n",
       "  <thead>\n",
       "    <tr style=\"text-align: right;\">\n",
       "      <th></th>\n",
       "      <th>0</th>\n",
       "    </tr>\n",
       "  </thead>\n",
       "  <tbody>\n",
       "    <tr>\n",
       "      <td>45</td>\n",
       "      <td>13.5/10</td>\n",
       "    </tr>\n",
       "    <tr>\n",
       "      <td>340</td>\n",
       "      <td>9.75/10</td>\n",
       "    </tr>\n",
       "    <tr>\n",
       "      <td>695</td>\n",
       "      <td>9.75/10</td>\n",
       "    </tr>\n",
       "    <tr>\n",
       "      <td>763</td>\n",
       "      <td>11.27/10</td>\n",
       "    </tr>\n",
       "    <tr>\n",
       "      <td>1689</td>\n",
       "      <td>9.5/10</td>\n",
       "    </tr>\n",
       "    <tr>\n",
       "      <td>1712</td>\n",
       "      <td>11.26/10</td>\n",
       "    </tr>\n",
       "  </tbody>\n",
       "</table>\n",
       "</div>"
      ],
      "text/plain": [
       "             0\n",
       "45     13.5/10\n",
       "340    9.75/10\n",
       "695    9.75/10\n",
       "763   11.27/10\n",
       "1689    9.5/10\n",
       "1712  11.26/10"
      ]
     },
     "execution_count": 101,
     "metadata": {},
     "output_type": "execute_result"
    }
   ],
   "source": [
    "# Get the correct rating values\n",
    "tmp = weRateDogs.text.str.extract(r\"(\\d+\\.\\d*\\/\\d+)\").dropna()\n",
    "tmp"
   ]
  },
  {
   "cell_type": "code",
   "execution_count": 102,
   "metadata": {},
   "outputs": [],
   "source": [
    "# Replace the incorrect values\n",
    "weRateDogs_clean.loc[tmp.index, 'rating_numerator'] = tmp[0].str.extract(r\"(\\d+\\.\\d*)\")[0]"
   ]
  },
  {
   "cell_type": "code",
   "execution_count": 205,
   "metadata": {},
   "outputs": [],
   "source": [
    "weRateDogs_clean.rating_numerator = weRateDogs_clean.rating_numerator.astype(float)"
   ]
  },
  {
   "cell_type": "markdown",
   "metadata": {},
   "source": [
    "## Test"
   ]
  },
  {
   "cell_type": "code",
   "execution_count": 103,
   "metadata": {},
   "outputs": [
    {
     "name": "stderr",
     "output_type": "stream",
     "text": [
      "/Users/adrienneterrado/opt/anaconda3/lib/python3.7/site-packages/pandas/core/strings.py:1843: UserWarning: This pattern has match groups. To actually get the groups, use str.extract.\n",
      "  return func(self, *args, **kwargs)\n"
     ]
    },
    {
     "data": {
      "text/html": [
       "<div>\n",
       "<style scoped>\n",
       "    .dataframe tbody tr th:only-of-type {\n",
       "        vertical-align: middle;\n",
       "    }\n",
       "\n",
       "    .dataframe tbody tr th {\n",
       "        vertical-align: top;\n",
       "    }\n",
       "\n",
       "    .dataframe thead th {\n",
       "        text-align: right;\n",
       "    }\n",
       "</style>\n",
       "<table border=\"1\" class=\"dataframe\">\n",
       "  <thead>\n",
       "    <tr style=\"text-align: right;\">\n",
       "      <th></th>\n",
       "      <th>text</th>\n",
       "      <th>rating_numerator</th>\n",
       "    </tr>\n",
       "  </thead>\n",
       "  <tbody>\n",
       "    <tr>\n",
       "      <td>45</td>\n",
       "      <td>This is Bella. She hopes her smile made you sm...</td>\n",
       "      <td>13.5</td>\n",
       "    </tr>\n",
       "    <tr>\n",
       "      <td>340</td>\n",
       "      <td>RT @dog_rates: This is Logan, the Chow who liv...</td>\n",
       "      <td>9.75</td>\n",
       "    </tr>\n",
       "    <tr>\n",
       "      <td>695</td>\n",
       "      <td>This is Logan, the Chow who lived. He solemnly...</td>\n",
       "      <td>9.75</td>\n",
       "    </tr>\n",
       "    <tr>\n",
       "      <td>763</td>\n",
       "      <td>This is Sophie. She's a Jubilant Bush Pupper. ...</td>\n",
       "      <td>11.27</td>\n",
       "    </tr>\n",
       "    <tr>\n",
       "      <td>1689</td>\n",
       "      <td>I've been told there's a slight possibility he...</td>\n",
       "      <td>9.5</td>\n",
       "    </tr>\n",
       "    <tr>\n",
       "      <td>1712</td>\n",
       "      <td>Here we have uncovered an entire battalion of ...</td>\n",
       "      <td>11.26</td>\n",
       "    </tr>\n",
       "  </tbody>\n",
       "</table>\n",
       "</div>"
      ],
      "text/plain": [
       "                                                   text rating_numerator\n",
       "45    This is Bella. She hopes her smile made you sm...             13.5\n",
       "340   RT @dog_rates: This is Logan, the Chow who liv...             9.75\n",
       "695   This is Logan, the Chow who lived. He solemnly...             9.75\n",
       "763   This is Sophie. She's a Jubilant Bush Pupper. ...            11.27\n",
       "1689  I've been told there's a slight possibility he...              9.5\n",
       "1712  Here we have uncovered an entire battalion of ...            11.26"
      ]
     },
     "execution_count": 103,
     "metadata": {},
     "output_type": "execute_result"
    }
   ],
   "source": [
    "weRateDogs_clean[weRateDogs_clean.text.str.contains(r\"(\\d+\\.\\d*\\/\\d+)\")][['text', 'rating_numerator']]"
   ]
  },
  {
   "cell_type": "code",
   "execution_count": 206,
   "metadata": {},
   "outputs": [
    {
     "data": {
      "text/plain": [
       "tweet_id                           object\n",
       "text                               object\n",
       "timestamp             datetime64[ns, UTC]\n",
       "name                               object\n",
       "dog_stage                        category\n",
       "rating_numerator                  float64\n",
       "rating_denominator                  int64\n",
       "dtype: object"
      ]
     },
     "execution_count": 206,
     "metadata": {},
     "output_type": "execute_result"
    }
   ],
   "source": [
    "weRateDogs_clean.dtypes"
   ]
  },
  {
   "cell_type": "markdown",
   "metadata": {},
   "source": [
    "<a id='dogStage'></a>\n",
    "## Define"
   ]
  },
  {
   "cell_type": "markdown",
   "metadata": {},
   "source": [
    "Create a single 'dog stage' column in our `weRateDogs` DataFrame."
   ]
  },
  {
   "cell_type": "markdown",
   "metadata": {},
   "source": [
    "## Code"
   ]
  },
  {
   "cell_type": "code",
   "execution_count": 104,
   "metadata": {},
   "outputs": [
    {
     "data": {
      "text/html": [
       "<div>\n",
       "<style scoped>\n",
       "    .dataframe tbody tr th:only-of-type {\n",
       "        vertical-align: middle;\n",
       "    }\n",
       "\n",
       "    .dataframe tbody tr th {\n",
       "        vertical-align: top;\n",
       "    }\n",
       "\n",
       "    .dataframe thead th {\n",
       "        text-align: right;\n",
       "    }\n",
       "</style>\n",
       "<table border=\"1\" class=\"dataframe\">\n",
       "  <thead>\n",
       "    <tr style=\"text-align: right;\">\n",
       "      <th></th>\n",
       "      <th>tweet_id</th>\n",
       "      <th>dog_stage</th>\n",
       "    </tr>\n",
       "  </thead>\n",
       "  <tbody>\n",
       "    <tr>\n",
       "      <td>9</td>\n",
       "      <td>890240255349198849</td>\n",
       "      <td>doggo</td>\n",
       "    </tr>\n",
       "    <tr>\n",
       "      <td>43</td>\n",
       "      <td>884162670584377345</td>\n",
       "      <td>doggo</td>\n",
       "    </tr>\n",
       "    <tr>\n",
       "      <td>99</td>\n",
       "      <td>872967104147763200</td>\n",
       "      <td>doggo</td>\n",
       "    </tr>\n",
       "    <tr>\n",
       "      <td>108</td>\n",
       "      <td>871515927908634625</td>\n",
       "      <td>doggo</td>\n",
       "    </tr>\n",
       "    <tr>\n",
       "      <td>110</td>\n",
       "      <td>871102520638267392</td>\n",
       "      <td>doggo</td>\n",
       "    </tr>\n",
       "    <tr>\n",
       "      <td>...</td>\n",
       "      <td>...</td>\n",
       "      <td>...</td>\n",
       "    </tr>\n",
       "    <tr>\n",
       "      <td>1117</td>\n",
       "      <td>732375214819057664</td>\n",
       "      <td>doggo</td>\n",
       "    </tr>\n",
       "    <tr>\n",
       "      <td>1141</td>\n",
       "      <td>727644517743104000</td>\n",
       "      <td>doggo</td>\n",
       "    </tr>\n",
       "    <tr>\n",
       "      <td>1156</td>\n",
       "      <td>724771698126512129</td>\n",
       "      <td>doggo</td>\n",
       "    </tr>\n",
       "    <tr>\n",
       "      <td>1176</td>\n",
       "      <td>719991154352222208</td>\n",
       "      <td>doggo</td>\n",
       "    </tr>\n",
       "    <tr>\n",
       "      <td>1204</td>\n",
       "      <td>716080869887381504</td>\n",
       "      <td>doggo</td>\n",
       "    </tr>\n",
       "  </tbody>\n",
       "</table>\n",
       "<p>97 rows × 2 columns</p>\n",
       "</div>"
      ],
      "text/plain": [
       "                tweet_id dog_stage\n",
       "9     890240255349198849     doggo\n",
       "43    884162670584377345     doggo\n",
       "99    872967104147763200     doggo\n",
       "108   871515927908634625     doggo\n",
       "110   871102520638267392     doggo\n",
       "...                  ...       ...\n",
       "1117  732375214819057664     doggo\n",
       "1141  727644517743104000     doggo\n",
       "1156  724771698126512129     doggo\n",
       "1176  719991154352222208     doggo\n",
       "1204  716080869887381504     doggo\n",
       "\n",
       "[97 rows x 2 columns]"
      ]
     },
     "execution_count": 104,
     "metadata": {},
     "output_type": "execute_result"
    }
   ],
   "source": [
    "doggoCol = weRateDogs_clean[weRateDogs_clean.doggo == 'doggo'][['tweet_id', 'doggo']]\n",
    "doggoCol.columns = ['tweet_id', 'dog_stage']\n",
    "doggoCol"
   ]
  },
  {
   "cell_type": "code",
   "execution_count": 105,
   "metadata": {},
   "outputs": [],
   "source": [
    "# Do the same for the other dog stages\n",
    "pupperCol = weRateDogs_clean[weRateDogs_clean.pupper == 'pupper'][['tweet_id', 'pupper']]\n",
    "pupperCol.columns = ['tweet_id', 'dog_stage']\n",
    "flooferCol = weRateDogs_clean[weRateDogs_clean.floofer == 'floofer'][['tweet_id', 'floofer']]\n",
    "flooferCol.columns = ['tweet_id', 'dog_stage']\n",
    "puppoCol = weRateDogs_clean[weRateDogs_clean.puppo == 'puppo'][['tweet_id', 'puppo']]\n",
    "puppoCol.columns = ['tweet_id', 'dog_stage']\n",
    "\n",
    "dogStages = pd.concat([doggoCol, pupperCol, flooferCol, puppoCol])"
   ]
  },
  {
   "cell_type": "code",
   "execution_count": 106,
   "metadata": {},
   "outputs": [],
   "source": [
    "weRateDogs_clean = weRateDogs_clean.merge(dogStages, on='tweet_id', how='left')"
   ]
  },
  {
   "cell_type": "code",
   "execution_count": 107,
   "metadata": {},
   "outputs": [],
   "source": [
    "weRateDogs_clean.dog_stage = weRateDogs_clean.dog_stage.astype('category')"
   ]
  },
  {
   "cell_type": "markdown",
   "metadata": {},
   "source": [
    "#### \\*Note\n",
    "\n",
    "I couldn't figure out how to use the .melt function to work for this task"
   ]
  },
  {
   "cell_type": "markdown",
   "metadata": {},
   "source": [
    "## Test"
   ]
  },
  {
   "cell_type": "code",
   "execution_count": 108,
   "metadata": {},
   "outputs": [
    {
     "data": {
      "text/plain": [
       "9       True\n",
       "43      True\n",
       "99      True\n",
       "108     True\n",
       "110     True\n",
       "        ... \n",
       "947     True\n",
       "961     True\n",
       "1035    True\n",
       "1048    True\n",
       "1083    True\n",
       "Name: tweet_id, Length: 394, dtype: bool"
      ]
     },
     "execution_count": 108,
     "metadata": {},
     "output_type": "execute_result"
    }
   ],
   "source": [
    "# Check if tweet IDs in dogStages are present in the main DataFrame before joining\n",
    "dogStages.tweet_id.isin(weRateDogs_clean.tweet_id)"
   ]
  },
  {
   "cell_type": "code",
   "execution_count": 109,
   "metadata": {},
   "outputs": [
    {
     "data": {
      "text/plain": [
       "pupper     257\n",
       "doggo       97\n",
       "puppo       30\n",
       "floofer     10\n",
       "Name: dog_stage, dtype: int64"
      ]
     },
     "execution_count": 109,
     "metadata": {},
     "output_type": "execute_result"
    }
   ],
   "source": [
    "weRateDogs_clean.dog_stage.value_counts()"
   ]
  },
  {
   "cell_type": "code",
   "execution_count": 110,
   "metadata": {},
   "outputs": [
    {
     "data": {
      "text/html": [
       "<div>\n",
       "<style scoped>\n",
       "    .dataframe tbody tr th:only-of-type {\n",
       "        vertical-align: middle;\n",
       "    }\n",
       "\n",
       "    .dataframe tbody tr th {\n",
       "        vertical-align: top;\n",
       "    }\n",
       "\n",
       "    .dataframe thead th {\n",
       "        text-align: right;\n",
       "    }\n",
       "</style>\n",
       "<table border=\"1\" class=\"dataframe\">\n",
       "  <thead>\n",
       "    <tr style=\"text-align: right;\">\n",
       "      <th></th>\n",
       "      <th>tweet_id</th>\n",
       "      <th>in_reply_to_status_id</th>\n",
       "      <th>in_reply_to_user_id</th>\n",
       "      <th>timestamp</th>\n",
       "      <th>source</th>\n",
       "      <th>text</th>\n",
       "      <th>retweeted_status_id</th>\n",
       "      <th>retweeted_status_user_id</th>\n",
       "      <th>retweeted_status_timestamp</th>\n",
       "      <th>expanded_urls</th>\n",
       "      <th>rating_numerator</th>\n",
       "      <th>rating_denominator</th>\n",
       "      <th>name</th>\n",
       "      <th>doggo</th>\n",
       "      <th>floofer</th>\n",
       "      <th>pupper</th>\n",
       "      <th>puppo</th>\n",
       "      <th>dog_stage</th>\n",
       "    </tr>\n",
       "  </thead>\n",
       "  <tbody>\n",
       "    <tr>\n",
       "      <td>1076</td>\n",
       "      <td>741067306818797568</td>\n",
       "      <td>NaN</td>\n",
       "      <td>NaN</td>\n",
       "      <td>2016-06-10 00:39:48+00:00</td>\n",
       "      <td>&lt;a href=\"http://twitter.com/download/iphone\" r...</td>\n",
       "      <td>This is just downright precious af. 12/10 for ...</td>\n",
       "      <td>NaN</td>\n",
       "      <td>NaN</td>\n",
       "      <td>NaN</td>\n",
       "      <td>https://twitter.com/dog_rates/status/741067306...</td>\n",
       "      <td>12</td>\n",
       "      <td>10</td>\n",
       "      <td>just</td>\n",
       "      <td>doggo</td>\n",
       "      <td>None</td>\n",
       "      <td>pupper</td>\n",
       "      <td>None</td>\n",
       "      <td>pupper</td>\n",
       "    </tr>\n",
       "    <tr>\n",
       "      <td>581</td>\n",
       "      <td>801115127852503040</td>\n",
       "      <td>NaN</td>\n",
       "      <td>NaN</td>\n",
       "      <td>2016-11-22 17:28:25+00:00</td>\n",
       "      <td>&lt;a href=\"http://twitter.com/download/iphone\" r...</td>\n",
       "      <td>This is Bones. He's being haunted by another d...</td>\n",
       "      <td>NaN</td>\n",
       "      <td>NaN</td>\n",
       "      <td>NaN</td>\n",
       "      <td>https://twitter.com/dog_rates/status/801115127...</td>\n",
       "      <td>12</td>\n",
       "      <td>10</td>\n",
       "      <td>Bones</td>\n",
       "      <td>doggo</td>\n",
       "      <td>None</td>\n",
       "      <td>pupper</td>\n",
       "      <td>None</td>\n",
       "      <td>pupper</td>\n",
       "    </tr>\n",
       "    <tr>\n",
       "      <td>192</td>\n",
       "      <td>855851453814013952</td>\n",
       "      <td>NaN</td>\n",
       "      <td>NaN</td>\n",
       "      <td>2017-04-22 18:31:02+00:00</td>\n",
       "      <td>&lt;a href=\"http://twitter.com/download/iphone\" r...</td>\n",
       "      <td>Here's a puppo participating in the #ScienceMa...</td>\n",
       "      <td>NaN</td>\n",
       "      <td>NaN</td>\n",
       "      <td>NaN</td>\n",
       "      <td>https://twitter.com/dog_rates/status/855851453...</td>\n",
       "      <td>13</td>\n",
       "      <td>10</td>\n",
       "      <td>None</td>\n",
       "      <td>doggo</td>\n",
       "      <td>None</td>\n",
       "      <td>None</td>\n",
       "      <td>puppo</td>\n",
       "      <td>puppo</td>\n",
       "    </tr>\n",
       "  </tbody>\n",
       "</table>\n",
       "</div>"
      ],
      "text/plain": [
       "                tweet_id  in_reply_to_status_id  in_reply_to_user_id  \\\n",
       "1076  741067306818797568                    NaN                  NaN   \n",
       "581   801115127852503040                    NaN                  NaN   \n",
       "192   855851453814013952                    NaN                  NaN   \n",
       "\n",
       "                     timestamp  \\\n",
       "1076 2016-06-10 00:39:48+00:00   \n",
       "581  2016-11-22 17:28:25+00:00   \n",
       "192  2017-04-22 18:31:02+00:00   \n",
       "\n",
       "                                                 source  \\\n",
       "1076  <a href=\"http://twitter.com/download/iphone\" r...   \n",
       "581   <a href=\"http://twitter.com/download/iphone\" r...   \n",
       "192   <a href=\"http://twitter.com/download/iphone\" r...   \n",
       "\n",
       "                                                   text  retweeted_status_id  \\\n",
       "1076  This is just downright precious af. 12/10 for ...                  NaN   \n",
       "581   This is Bones. He's being haunted by another d...                  NaN   \n",
       "192   Here's a puppo participating in the #ScienceMa...                  NaN   \n",
       "\n",
       "      retweeted_status_user_id retweeted_status_timestamp  \\\n",
       "1076                       NaN                        NaN   \n",
       "581                        NaN                        NaN   \n",
       "192                        NaN                        NaN   \n",
       "\n",
       "                                          expanded_urls rating_numerator  \\\n",
       "1076  https://twitter.com/dog_rates/status/741067306...               12   \n",
       "581   https://twitter.com/dog_rates/status/801115127...               12   \n",
       "192   https://twitter.com/dog_rates/status/855851453...               13   \n",
       "\n",
       "      rating_denominator   name  doggo floofer  pupper  puppo dog_stage  \n",
       "1076                  10   just  doggo    None  pupper   None    pupper  \n",
       "581                   10  Bones  doggo    None  pupper   None    pupper  \n",
       "192                   10   None  doggo    None    None  puppo     puppo  "
      ]
     },
     "execution_count": 110,
     "metadata": {},
     "output_type": "execute_result"
    }
   ],
   "source": [
    "# But we have duplicates\n",
    "weRateDogs_clean[weRateDogs_clean.tweet_id.duplicated()].sample(3)"
   ]
  },
  {
   "cell_type": "markdown",
   "metadata": {},
   "source": [
    "## Define\n",
    "\n",
    "Remove tweet duplicates in the `weRateDogs.`"
   ]
  },
  {
   "cell_type": "markdown",
   "metadata": {},
   "source": [
    "## Code"
   ]
  },
  {
   "cell_type": "code",
   "execution_count": 111,
   "metadata": {},
   "outputs": [
    {
     "data": {
      "text/plain": [
       "'733109485275860992'"
      ]
     },
     "execution_count": 111,
     "metadata": {},
     "output_type": "execute_result"
    }
   ],
   "source": [
    "# Pull the duplicated tweet_ids\n",
    "dupesList = list(weRateDogs_clean[weRateDogs_clean.tweet_id.duplicated()]['tweet_id'])\n",
    "dupesList[13]"
   ]
  },
  {
   "cell_type": "code",
   "execution_count": 112,
   "metadata": {},
   "outputs": [],
   "source": [
    "test = weRateDogs_clean.copy()"
   ]
  },
  {
   "cell_type": "code",
   "execution_count": 113,
   "metadata": {},
   "outputs": [
    {
     "data": {
      "text/html": [
       "<div>\n",
       "<style scoped>\n",
       "    .dataframe tbody tr th:only-of-type {\n",
       "        vertical-align: middle;\n",
       "    }\n",
       "\n",
       "    .dataframe tbody tr th {\n",
       "        vertical-align: top;\n",
       "    }\n",
       "\n",
       "    .dataframe thead th {\n",
       "        text-align: right;\n",
       "    }\n",
       "</style>\n",
       "<table border=\"1\" class=\"dataframe\">\n",
       "  <thead>\n",
       "    <tr style=\"text-align: right;\">\n",
       "      <th></th>\n",
       "      <th>tweet_id</th>\n",
       "      <th>in_reply_to_status_id</th>\n",
       "      <th>in_reply_to_user_id</th>\n",
       "      <th>timestamp</th>\n",
       "      <th>source</th>\n",
       "      <th>text</th>\n",
       "      <th>retweeted_status_id</th>\n",
       "      <th>retweeted_status_user_id</th>\n",
       "      <th>retweeted_status_timestamp</th>\n",
       "      <th>expanded_urls</th>\n",
       "      <th>rating_numerator</th>\n",
       "      <th>rating_denominator</th>\n",
       "      <th>name</th>\n",
       "      <th>doggo</th>\n",
       "      <th>floofer</th>\n",
       "      <th>pupper</th>\n",
       "      <th>puppo</th>\n",
       "      <th>dog_stage</th>\n",
       "    </tr>\n",
       "  </thead>\n",
       "  <tbody>\n",
       "    <tr>\n",
       "      <td>1126</td>\n",
       "      <td>733109485275860992</td>\n",
       "      <td>NaN</td>\n",
       "      <td>NaN</td>\n",
       "      <td>2016-05-19 01:38:16+00:00</td>\n",
       "      <td>&lt;a href=\"http://twitter.com/download/iphone\" r...</td>\n",
       "      <td>Like father (doggo), like son (pupper). Both 1...</td>\n",
       "      <td>NaN</td>\n",
       "      <td>NaN</td>\n",
       "      <td>NaN</td>\n",
       "      <td>https://twitter.com/dog_rates/status/733109485...</td>\n",
       "      <td>12</td>\n",
       "      <td>10</td>\n",
       "      <td>None</td>\n",
       "      <td>doggo</td>\n",
       "      <td>None</td>\n",
       "      <td>pupper</td>\n",
       "      <td>None</td>\n",
       "      <td>doggo</td>\n",
       "    </tr>\n",
       "    <tr>\n",
       "      <td>1127</td>\n",
       "      <td>733109485275860992</td>\n",
       "      <td>NaN</td>\n",
       "      <td>NaN</td>\n",
       "      <td>2016-05-19 01:38:16+00:00</td>\n",
       "      <td>&lt;a href=\"http://twitter.com/download/iphone\" r...</td>\n",
       "      <td>Like father (doggo), like son (pupper). Both 1...</td>\n",
       "      <td>NaN</td>\n",
       "      <td>NaN</td>\n",
       "      <td>NaN</td>\n",
       "      <td>https://twitter.com/dog_rates/status/733109485...</td>\n",
       "      <td>12</td>\n",
       "      <td>10</td>\n",
       "      <td>None</td>\n",
       "      <td>doggo</td>\n",
       "      <td>None</td>\n",
       "      <td>pupper</td>\n",
       "      <td>None</td>\n",
       "      <td>pupper</td>\n",
       "    </tr>\n",
       "  </tbody>\n",
       "</table>\n",
       "</div>"
      ],
      "text/plain": [
       "                tweet_id  in_reply_to_status_id  in_reply_to_user_id  \\\n",
       "1126  733109485275860992                    NaN                  NaN   \n",
       "1127  733109485275860992                    NaN                  NaN   \n",
       "\n",
       "                     timestamp  \\\n",
       "1126 2016-05-19 01:38:16+00:00   \n",
       "1127 2016-05-19 01:38:16+00:00   \n",
       "\n",
       "                                                 source  \\\n",
       "1126  <a href=\"http://twitter.com/download/iphone\" r...   \n",
       "1127  <a href=\"http://twitter.com/download/iphone\" r...   \n",
       "\n",
       "                                                   text  retweeted_status_id  \\\n",
       "1126  Like father (doggo), like son (pupper). Both 1...                  NaN   \n",
       "1127  Like father (doggo), like son (pupper). Both 1...                  NaN   \n",
       "\n",
       "      retweeted_status_user_id retweeted_status_timestamp  \\\n",
       "1126                       NaN                        NaN   \n",
       "1127                       NaN                        NaN   \n",
       "\n",
       "                                          expanded_urls rating_numerator  \\\n",
       "1126  https://twitter.com/dog_rates/status/733109485...               12   \n",
       "1127  https://twitter.com/dog_rates/status/733109485...               12   \n",
       "\n",
       "      rating_denominator  name  doggo floofer  pupper puppo dog_stage  \n",
       "1126                  10  None  doggo    None  pupper  None     doggo  \n",
       "1127                  10  None  doggo    None  pupper  None    pupper  "
      ]
     },
     "execution_count": 113,
     "metadata": {},
     "output_type": "execute_result"
    }
   ],
   "source": [
    "# Look for reason that one of the IDs is duplicated\n",
    "test[test.tweet_id == '733109485275860992']"
   ]
  },
  {
   "cell_type": "markdown",
   "metadata": {},
   "source": [
    "So it looks like these observations were duplicated because **there were two dog_stage values for a single tweet.** You can see how this happened by looking at the 'text' column. "
   ]
  },
  {
   "cell_type": "code",
   "execution_count": 114,
   "metadata": {},
   "outputs": [],
   "source": [
    "# Find the ids for the duplicates\n",
    "ids = test[test.tweet_id.isin(dupesList)].tweet_id\n",
    "\n",
    "# Change dog_stage type to string in order to replace duplicates with 'multiple'\n",
    "test.dog_stage = test.dog_stage.astype(str)\n",
    "\n",
    "# Replace dog_stage values with multiple\n",
    "test.loc[test.tweet_id.isin(ids), 'dog_stage'] = 'multiple'"
   ]
  },
  {
   "cell_type": "code",
   "execution_count": 115,
   "metadata": {},
   "outputs": [],
   "source": [
    "test.drop_duplicates(inplace=True)"
   ]
  },
  {
   "cell_type": "markdown",
   "metadata": {},
   "source": [
    "## Test"
   ]
  },
  {
   "cell_type": "code",
   "execution_count": 116,
   "metadata": {},
   "outputs": [
    {
     "data": {
      "text/plain": [
       "nan         1976\n",
       "pupper       245\n",
       "doggo         83\n",
       "puppo         29\n",
       "multiple      14\n",
       "floofer        9\n",
       "Name: dog_stage, dtype: int64"
      ]
     },
     "execution_count": 116,
     "metadata": {},
     "output_type": "execute_result"
    }
   ],
   "source": [
    "test.dog_stage.value_counts()"
   ]
  },
  {
   "cell_type": "code",
   "execution_count": 117,
   "metadata": {},
   "outputs": [],
   "source": [
    "test.dog_stage = test.dog_stage.astype('category')"
   ]
  },
  {
   "cell_type": "code",
   "execution_count": 118,
   "metadata": {},
   "outputs": [],
   "source": [
    "weRateDogs_clean = test"
   ]
  },
  {
   "cell_type": "markdown",
   "metadata": {},
   "source": [
    "## Define"
   ]
  },
  {
   "cell_type": "markdown",
   "metadata": {},
   "source": [
    "Replace non-names with 'None' in our dog names column. "
   ]
  },
  {
   "cell_type": "markdown",
   "metadata": {},
   "source": [
    "## Code"
   ]
  },
  {
   "cell_type": "markdown",
   "metadata": {},
   "source": [
    "Names that are added incorrectly by the algorithm can be filtered out by calling which names are **all lowercase.**"
   ]
  },
  {
   "cell_type": "code",
   "execution_count": 119,
   "metadata": {},
   "outputs": [
    {
     "data": {
      "text/plain": [
       "array(['such', 'a', 'quite', 'not', 'one', 'incredibly', 'mad', 'an',\n",
       "       'very', 'just', 'my', 'his', 'actually', 'getting', 'this',\n",
       "       'unacceptable', 'all', 'old', 'infuriating', 'the', 'by',\n",
       "       'officially', 'life', 'light', 'space'], dtype=object)"
      ]
     },
     "execution_count": 119,
     "metadata": {},
     "output_type": "execute_result"
    }
   ],
   "source": [
    "nameFilter = list(weRateDogs[weRateDogs.name.str.islower()].name)\n",
    "pd.Series(nameFilter).unique()"
   ]
  },
  {
   "cell_type": "code",
   "execution_count": 120,
   "metadata": {},
   "outputs": [
    {
     "data": {
      "text/plain": [
       "{'such': 'None',\n",
       " 'a': 'None',\n",
       " 'quite': 'None',\n",
       " 'not': 'None',\n",
       " 'one': 'None',\n",
       " 'incredibly': 'None',\n",
       " 'mad': 'None',\n",
       " 'an': 'None',\n",
       " 'very': 'None',\n",
       " 'just': 'None',\n",
       " 'my': 'None',\n",
       " 'his': 'None',\n",
       " 'actually': 'None',\n",
       " 'getting': 'None',\n",
       " 'this': 'None',\n",
       " 'unacceptable': 'None',\n",
       " 'all': 'None',\n",
       " 'old': 'None',\n",
       " 'infuriating': 'None',\n",
       " 'the': 'None',\n",
       " 'by': 'None',\n",
       " 'officially': 'None',\n",
       " 'life': 'None',\n",
       " 'light': 'None',\n",
       " 'space': 'None'}"
      ]
     },
     "execution_count": 120,
     "metadata": {},
     "output_type": "execute_result"
    }
   ],
   "source": [
    "# Create dictionary\n",
    "{k:'None' for k in nameFilter}"
   ]
  },
  {
   "cell_type": "code",
   "execution_count": 121,
   "metadata": {},
   "outputs": [],
   "source": [
    "weRateDogs_clean.replace({k:None for k in nameFilter}, inplace=True)"
   ]
  },
  {
   "cell_type": "markdown",
   "metadata": {},
   "source": [
    "## Test"
   ]
  },
  {
   "cell_type": "code",
   "execution_count": 122,
   "metadata": {},
   "outputs": [
    {
     "data": {
      "text/plain": [
       "12"
      ]
     },
     "execution_count": 122,
     "metadata": {},
     "output_type": "execute_result"
    }
   ],
   "source": [
    "weRateDogs_clean.name.str.contains('Charlie').sum()"
   ]
  },
  {
   "cell_type": "code",
   "execution_count": 123,
   "metadata": {},
   "outputs": [
    {
     "data": {
      "text/plain": [
       "0"
      ]
     },
     "execution_count": 123,
     "metadata": {},
     "output_type": "execute_result"
    }
   ],
   "source": [
    "weRateDogs_clean.name.str.contains('incredibly').sum()"
   ]
  },
  {
   "cell_type": "markdown",
   "metadata": {},
   "source": [
    "<a id='retweets'></a>\n",
    "## Define\n",
    "\n",
    "Remove retweets from tweetInfo DataFrame."
   ]
  },
  {
   "cell_type": "markdown",
   "metadata": {},
   "source": [
    "## Code"
   ]
  },
  {
   "cell_type": "markdown",
   "metadata": {},
   "source": [
    "I think we can filter retweets by finding observations where `there are values for the retweeted_status column.`"
   ]
  },
  {
   "cell_type": "code",
   "execution_count": 124,
   "metadata": {},
   "outputs": [
    {
     "data": {
      "text/html": [
       "<div>\n",
       "<style scoped>\n",
       "    .dataframe tbody tr th:only-of-type {\n",
       "        vertical-align: middle;\n",
       "    }\n",
       "\n",
       "    .dataframe tbody tr th {\n",
       "        vertical-align: top;\n",
       "    }\n",
       "\n",
       "    .dataframe thead th {\n",
       "        text-align: right;\n",
       "    }\n",
       "</style>\n",
       "<table border=\"1\" class=\"dataframe\">\n",
       "  <thead>\n",
       "    <tr style=\"text-align: right;\">\n",
       "      <th></th>\n",
       "      <th>created_at</th>\n",
       "      <th>id</th>\n",
       "      <th>tweet_id</th>\n",
       "      <th>text</th>\n",
       "      <th>truncated</th>\n",
       "      <th>entities</th>\n",
       "      <th>extended_entities</th>\n",
       "      <th>source</th>\n",
       "      <th>in_reply_to_status_id</th>\n",
       "      <th>in_reply_to_status_id_str</th>\n",
       "      <th>...</th>\n",
       "      <th>favorite_count</th>\n",
       "      <th>favorited</th>\n",
       "      <th>retweeted</th>\n",
       "      <th>possibly_sensitive</th>\n",
       "      <th>possibly_sensitive_appealable</th>\n",
       "      <th>language</th>\n",
       "      <th>retweeted_status</th>\n",
       "      <th>quoted_status_id</th>\n",
       "      <th>quoted_status_id_str</th>\n",
       "      <th>quoted_status</th>\n",
       "    </tr>\n",
       "  </thead>\n",
       "  <tbody>\n",
       "    <tr>\n",
       "      <td>460</td>\n",
       "      <td>Mon Jan 02 20:12:21 +0000 2017</td>\n",
       "      <td>816014286006976512</td>\n",
       "      <td>816014286006976512</td>\n",
       "      <td>RT @dog_rates: This is Larry. He has no self c...</td>\n",
       "      <td>False</td>\n",
       "      <td>{'hashtags': [], 'symbols': [], 'user_mentions...</td>\n",
       "      <td>{'media': [{'id': 732005607704649728, 'id_str'...</td>\n",
       "      <td>&lt;a href=\"http://twitter.com/download/iphone\" r...</td>\n",
       "      <td>NaN</td>\n",
       "      <td>None</td>\n",
       "      <td>...</td>\n",
       "      <td>0</td>\n",
       "      <td>False</td>\n",
       "      <td>False</td>\n",
       "      <td>False</td>\n",
       "      <td>False</td>\n",
       "      <td>en</td>\n",
       "      <td>{'created_at': 'Mon May 16 00:31:53 +0000 2016...</td>\n",
       "      <td>NaN</td>\n",
       "      <td>NaN</td>\n",
       "      <td>NaN</td>\n",
       "    </tr>\n",
       "    <tr>\n",
       "      <td>327</td>\n",
       "      <td>Thu Feb 16 13:11:05 +0000 2017</td>\n",
       "      <td>832215726631055365</td>\n",
       "      <td>832215726631055365</td>\n",
       "      <td>RT @dog_rates: This is Moreton. He's the Good ...</td>\n",
       "      <td>False</td>\n",
       "      <td>{'hashtags': [], 'symbols': [], 'user_mentions...</td>\n",
       "      <td>{'media': [{'id': 793286466235408384, 'id_str'...</td>\n",
       "      <td>&lt;a href=\"http://twitter.com/download/iphone\" r...</td>\n",
       "      <td>NaN</td>\n",
       "      <td>None</td>\n",
       "      <td>...</td>\n",
       "      <td>0</td>\n",
       "      <td>False</td>\n",
       "      <td>False</td>\n",
       "      <td>False</td>\n",
       "      <td>False</td>\n",
       "      <td>en</td>\n",
       "      <td>{'created_at': 'Tue Nov 01 03:00:09 +0000 2016...</td>\n",
       "      <td>NaN</td>\n",
       "      <td>NaN</td>\n",
       "      <td>NaN</td>\n",
       "    </tr>\n",
       "  </tbody>\n",
       "</table>\n",
       "<p>2 rows × 30 columns</p>\n",
       "</div>"
      ],
      "text/plain": [
       "                         created_at                  id            tweet_id  \\\n",
       "460  Mon Jan 02 20:12:21 +0000 2017  816014286006976512  816014286006976512   \n",
       "327  Thu Feb 16 13:11:05 +0000 2017  832215726631055365  832215726631055365   \n",
       "\n",
       "                                                  text  truncated  \\\n",
       "460  RT @dog_rates: This is Larry. He has no self c...      False   \n",
       "327  RT @dog_rates: This is Moreton. He's the Good ...      False   \n",
       "\n",
       "                                              entities  \\\n",
       "460  {'hashtags': [], 'symbols': [], 'user_mentions...   \n",
       "327  {'hashtags': [], 'symbols': [], 'user_mentions...   \n",
       "\n",
       "                                     extended_entities  \\\n",
       "460  {'media': [{'id': 732005607704649728, 'id_str'...   \n",
       "327  {'media': [{'id': 793286466235408384, 'id_str'...   \n",
       "\n",
       "                                                source  in_reply_to_status_id  \\\n",
       "460  <a href=\"http://twitter.com/download/iphone\" r...                    NaN   \n",
       "327  <a href=\"http://twitter.com/download/iphone\" r...                    NaN   \n",
       "\n",
       "    in_reply_to_status_id_str  ...  favorite_count favorited retweeted  \\\n",
       "460                      None  ...               0     False     False   \n",
       "327                      None  ...               0     False     False   \n",
       "\n",
       "    possibly_sensitive possibly_sensitive_appealable language  \\\n",
       "460              False                         False       en   \n",
       "327              False                         False       en   \n",
       "\n",
       "                                      retweeted_status quoted_status_id  \\\n",
       "460  {'created_at': 'Mon May 16 00:31:53 +0000 2016...              NaN   \n",
       "327  {'created_at': 'Tue Nov 01 03:00:09 +0000 2016...              NaN   \n",
       "\n",
       "     quoted_status_id_str  quoted_status  \n",
       "460                   NaN            NaN  \n",
       "327                   NaN            NaN  \n",
       "\n",
       "[2 rows x 30 columns]"
      ]
     },
     "execution_count": 124,
     "metadata": {},
     "output_type": "execute_result"
    }
   ],
   "source": [
    "dropTest = tweetInfo_clean[tweetInfo_clean.retweeted_status.isna() == False]\n",
    "dropTest.sample(2)"
   ]
  },
  {
   "cell_type": "markdown",
   "metadata": {},
   "source": [
    "Looking at the text column, find the dog name associated with the tweet and pull the tweets from our `weRateDogs` DataFrame that include that name. In my case, it's `'Gidget'`. "
   ]
  },
  {
   "cell_type": "code",
   "execution_count": 125,
   "metadata": {},
   "outputs": [
    {
     "data": {
      "text/html": [
       "<div>\n",
       "<style scoped>\n",
       "    .dataframe tbody tr th:only-of-type {\n",
       "        vertical-align: middle;\n",
       "    }\n",
       "\n",
       "    .dataframe tbody tr th {\n",
       "        vertical-align: top;\n",
       "    }\n",
       "\n",
       "    .dataframe thead th {\n",
       "        text-align: right;\n",
       "    }\n",
       "</style>\n",
       "<table border=\"1\" class=\"dataframe\">\n",
       "  <thead>\n",
       "    <tr style=\"text-align: right;\">\n",
       "      <th></th>\n",
       "      <th>tweet_id</th>\n",
       "      <th>text</th>\n",
       "    </tr>\n",
       "  </thead>\n",
       "  <tbody>\n",
       "    <tr>\n",
       "      <td>224</td>\n",
       "      <td>849668094696017920</td>\n",
       "      <td>RT @dog_rates: This is Gidget. She's a spy pup...</td>\n",
       "    </tr>\n",
       "    <tr>\n",
       "      <td>332</td>\n",
       "      <td>833124694597443584</td>\n",
       "      <td>This is Gidget. She's a spy pupper. Stealthy a...</td>\n",
       "    </tr>\n",
       "  </tbody>\n",
       "</table>\n",
       "</div>"
      ],
      "text/plain": [
       "               tweet_id                                               text\n",
       "224  849668094696017920  RT @dog_rates: This is Gidget. She's a spy pup...\n",
       "332  833124694597443584  This is Gidget. She's a spy pupper. Stealthy a..."
      ]
     },
     "execution_count": 125,
     "metadata": {},
     "output_type": "execute_result"
    }
   ],
   "source": [
    "weRateDogs_clean[weRateDogs_clean.name == 'Gidget'][['tweet_id', 'text']]"
   ]
  },
  {
   "cell_type": "markdown",
   "metadata": {},
   "source": [
    "It's a retweet!! Here's another:"
   ]
  },
  {
   "cell_type": "code",
   "execution_count": 126,
   "metadata": {},
   "outputs": [
    {
     "data": {
      "text/html": [
       "<div>\n",
       "<style scoped>\n",
       "    .dataframe tbody tr th:only-of-type {\n",
       "        vertical-align: middle;\n",
       "    }\n",
       "\n",
       "    .dataframe tbody tr th {\n",
       "        vertical-align: top;\n",
       "    }\n",
       "\n",
       "    .dataframe thead th {\n",
       "        text-align: right;\n",
       "    }\n",
       "</style>\n",
       "<table border=\"1\" class=\"dataframe\">\n",
       "  <thead>\n",
       "    <tr style=\"text-align: right;\">\n",
       "      <th></th>\n",
       "      <th>tweet_id</th>\n",
       "      <th>text</th>\n",
       "    </tr>\n",
       "  </thead>\n",
       "  <tbody>\n",
       "    <tr>\n",
       "      <td>73</td>\n",
       "      <td>878404777348136964</td>\n",
       "      <td>RT @dog_rates: Meet Shadow. In an attempt to r...</td>\n",
       "    </tr>\n",
       "    <tr>\n",
       "      <td>75</td>\n",
       "      <td>878281511006478336</td>\n",
       "      <td>Meet Shadow. In an attempt to reach maximum zo...</td>\n",
       "    </tr>\n",
       "    <tr>\n",
       "      <td>599</td>\n",
       "      <td>798925684722855936</td>\n",
       "      <td>This is Shadow. He's a firm believer that they...</td>\n",
       "    </tr>\n",
       "    <tr>\n",
       "      <td>1330</td>\n",
       "      <td>706644897839910912</td>\n",
       "      <td>Meet Shadow. She's tired of the responsibiliti...</td>\n",
       "    </tr>\n",
       "  </tbody>\n",
       "</table>\n",
       "</div>"
      ],
      "text/plain": [
       "                tweet_id                                               text\n",
       "73    878404777348136964  RT @dog_rates: Meet Shadow. In an attempt to r...\n",
       "75    878281511006478336  Meet Shadow. In an attempt to reach maximum zo...\n",
       "599   798925684722855936  This is Shadow. He's a firm believer that they...\n",
       "1330  706644897839910912  Meet Shadow. She's tired of the responsibiliti..."
      ]
     },
     "execution_count": 126,
     "metadata": {},
     "output_type": "execute_result"
    }
   ],
   "source": [
    "weRateDogs_clean[weRateDogs_clean.name == 'Shadow'][['tweet_id', 'text']]"
   ]
  },
  {
   "cell_type": "code",
   "execution_count": 127,
   "metadata": {},
   "outputs": [],
   "source": [
    "retweetIDs = list(dropTest.tweet_id)"
   ]
  },
  {
   "cell_type": "code",
   "execution_count": 128,
   "metadata": {},
   "outputs": [],
   "source": [
    "retweets = tweetInfo_clean[tweetInfo_clean.tweet_id.isin(retweetIDs)].index"
   ]
  },
  {
   "cell_type": "code",
   "execution_count": 129,
   "metadata": {},
   "outputs": [],
   "source": [
    "tweetInfo_clean.drop(retweets, axis=0, inplace=True)"
   ]
  },
  {
   "cell_type": "markdown",
   "metadata": {},
   "source": [
    "### Test"
   ]
  },
  {
   "cell_type": "code",
   "execution_count": 130,
   "metadata": {},
   "outputs": [
    {
     "data": {
      "text/plain": [
       "2331"
      ]
     },
     "execution_count": 130,
     "metadata": {},
     "output_type": "execute_result"
    }
   ],
   "source": [
    "tweetInfo.shape[0]"
   ]
  },
  {
   "cell_type": "code",
   "execution_count": 131,
   "metadata": {},
   "outputs": [
    {
     "data": {
      "text/plain": [
       "2168"
      ]
     },
     "execution_count": 131,
     "metadata": {},
     "output_type": "execute_result"
    }
   ],
   "source": [
    "tweetInfo_clean.shape[0]"
   ]
  },
  {
   "cell_type": "markdown",
   "metadata": {},
   "source": [
    "*Not the best check, but hey."
   ]
  },
  {
   "cell_type": "markdown",
   "metadata": {},
   "source": [
    "<a id='filterColumns'></a>\n",
    "### Define"
   ]
  },
  {
   "cell_type": "markdown",
   "metadata": {},
   "source": [
    "Choose the appropriate columns to retain for each of our DataFrames."
   ]
  },
  {
   "cell_type": "markdown",
   "metadata": {},
   "source": [
    "### Code"
   ]
  },
  {
   "cell_type": "code",
   "execution_count": 132,
   "metadata": {},
   "outputs": [
    {
     "data": {
      "text/html": [
       "<div>\n",
       "<style scoped>\n",
       "    .dataframe tbody tr th:only-of-type {\n",
       "        vertical-align: middle;\n",
       "    }\n",
       "\n",
       "    .dataframe tbody tr th {\n",
       "        vertical-align: top;\n",
       "    }\n",
       "\n",
       "    .dataframe thead th {\n",
       "        text-align: right;\n",
       "    }\n",
       "</style>\n",
       "<table border=\"1\" class=\"dataframe\">\n",
       "  <thead>\n",
       "    <tr style=\"text-align: right;\">\n",
       "      <th></th>\n",
       "      <th>tweet_id</th>\n",
       "      <th>text</th>\n",
       "      <th>timestamp</th>\n",
       "      <th>name</th>\n",
       "      <th>dog_stage</th>\n",
       "      <th>rating_numerator</th>\n",
       "      <th>rating_denominator</th>\n",
       "    </tr>\n",
       "  </thead>\n",
       "  <tbody>\n",
       "    <tr>\n",
       "      <td>362</td>\n",
       "      <td>829861396166877184</td>\n",
       "      <td>This is Mia. She already knows she's a good do...</td>\n",
       "      <td>2017-02-10 01:15:49+00:00</td>\n",
       "      <td>Mia</td>\n",
       "      <td>nan</td>\n",
       "      <td>12</td>\n",
       "      <td>10</td>\n",
       "    </tr>\n",
       "    <tr>\n",
       "      <td>1881</td>\n",
       "      <td>675334060156301312</td>\n",
       "      <td>Good morning here's a grass pupper. 12/10 http...</td>\n",
       "      <td>2015-12-11 15:19:21+00:00</td>\n",
       "      <td>None</td>\n",
       "      <td>pupper</td>\n",
       "      <td>12</td>\n",
       "      <td>10</td>\n",
       "    </tr>\n",
       "    <tr>\n",
       "      <td>901</td>\n",
       "      <td>759566828574212096</td>\n",
       "      <td>RT @dog_rates: This... is a Tyrannosaurus rex....</td>\n",
       "      <td>2016-07-31 01:50:18+00:00</td>\n",
       "      <td>None</td>\n",
       "      <td>nan</td>\n",
       "      <td>10</td>\n",
       "      <td>10</td>\n",
       "    </tr>\n",
       "  </tbody>\n",
       "</table>\n",
       "</div>"
      ],
      "text/plain": [
       "                tweet_id                                               text  \\\n",
       "362   829861396166877184  This is Mia. She already knows she's a good do...   \n",
       "1881  675334060156301312  Good morning here's a grass pupper. 12/10 http...   \n",
       "901   759566828574212096  RT @dog_rates: This... is a Tyrannosaurus rex....   \n",
       "\n",
       "                     timestamp  name dog_stage rating_numerator  \\\n",
       "362  2017-02-10 01:15:49+00:00   Mia       nan               12   \n",
       "1881 2015-12-11 15:19:21+00:00  None    pupper               12   \n",
       "901  2016-07-31 01:50:18+00:00  None       nan               10   \n",
       "\n",
       "      rating_denominator  \n",
       "362                   10  \n",
       "1881                  10  \n",
       "901                   10  "
      ]
     },
     "execution_count": 132,
     "metadata": {},
     "output_type": "execute_result"
    }
   ],
   "source": [
    "weRateDogs_clean = weRateDogs_clean[['tweet_id', 'text', 'timestamp', 'name', 'dog_stage', 'rating_numerator',\n",
    "                               'rating_denominator']]\n",
    "weRateDogs_clean.sample(3)"
   ]
  },
  {
   "cell_type": "markdown",
   "metadata": {},
   "source": [
    "`Reasoning for retaining my chosen columns:`\n",
    "\n",
    "- For all the DataFrames, tweet_id is kept in order to effectively merge the DataFrames together. \n",
    "- The other columns either held redundant information or would not be interesting enough for analysis."
   ]
  },
  {
   "cell_type": "code",
   "execution_count": 133,
   "metadata": {},
   "outputs": [
    {
     "data": {
      "text/html": [
       "<div>\n",
       "<style scoped>\n",
       "    .dataframe tbody tr th:only-of-type {\n",
       "        vertical-align: middle;\n",
       "    }\n",
       "\n",
       "    .dataframe tbody tr th {\n",
       "        vertical-align: top;\n",
       "    }\n",
       "\n",
       "    .dataframe thead th {\n",
       "        text-align: right;\n",
       "    }\n",
       "</style>\n",
       "<table border=\"1\" class=\"dataframe\">\n",
       "  <thead>\n",
       "    <tr style=\"text-align: right;\">\n",
       "      <th></th>\n",
       "      <th>tweet_id</th>\n",
       "      <th>retweet_count</th>\n",
       "      <th>favorite_count</th>\n",
       "    </tr>\n",
       "  </thead>\n",
       "  <tbody>\n",
       "    <tr>\n",
       "      <td>942</td>\n",
       "      <td>750383411068534784</td>\n",
       "      <td>1156</td>\n",
       "      <td>4595</td>\n",
       "    </tr>\n",
       "    <tr>\n",
       "      <td>1047</td>\n",
       "      <td>740214038584557568</td>\n",
       "      <td>1966</td>\n",
       "      <td>6701</td>\n",
       "    </tr>\n",
       "    <tr>\n",
       "      <td>959</td>\n",
       "      <td>749395845976588288</td>\n",
       "      <td>3460</td>\n",
       "      <td>8630</td>\n",
       "    </tr>\n",
       "  </tbody>\n",
       "</table>\n",
       "</div>"
      ],
      "text/plain": [
       "                tweet_id  retweet_count  favorite_count\n",
       "942   750383411068534784           1156            4595\n",
       "1047  740214038584557568           1966            6701\n",
       "959   749395845976588288           3460            8630"
      ]
     },
     "execution_count": 133,
     "metadata": {},
     "output_type": "execute_result"
    }
   ],
   "source": [
    "tweetInfo_clean = tweetInfo_clean[['tweet_id', 'retweet_count', 'favorite_count']]\n",
    "tweetInfo_clean.sample(3)"
   ]
  },
  {
   "cell_type": "markdown",
   "metadata": {},
   "source": [
    "`Reasoning for retaining my chosen columns:`\n",
    "\n",
    "- A lot of the other columns would have been interesting (such as the ones on location), but they:\n",
    "    - Are mostly empty\n",
    "    - A completely empty\n",
    "    - Contain essentially all the same values (English in the language column)\n",
    "- Other columns, such as favorited, are marked True if the user likes their own photo. Surprisingly, no one is that egotistical, so all values for that column are False. "
   ]
  },
  {
   "cell_type": "code",
   "execution_count": 134,
   "metadata": {},
   "outputs": [
    {
     "data": {
      "text/html": [
       "<div>\n",
       "<style scoped>\n",
       "    .dataframe tbody tr th:only-of-type {\n",
       "        vertical-align: middle;\n",
       "    }\n",
       "\n",
       "    .dataframe tbody tr th {\n",
       "        vertical-align: top;\n",
       "    }\n",
       "\n",
       "    .dataframe thead th {\n",
       "        text-align: right;\n",
       "    }\n",
       "</style>\n",
       "<table border=\"1\" class=\"dataframe\">\n",
       "  <thead>\n",
       "    <tr style=\"text-align: right;\">\n",
       "      <th></th>\n",
       "      <th>tweet_id</th>\n",
       "      <th>breed</th>\n",
       "      <th>confidence</th>\n",
       "      <th>dog_photo</th>\n",
       "      <th>jpg_url</th>\n",
       "    </tr>\n",
       "  </thead>\n",
       "  <tbody>\n",
       "    <tr>\n",
       "      <td>791</td>\n",
       "      <td>690690673629138944</td>\n",
       "      <td>bath_towel</td>\n",
       "      <td>0.194532</td>\n",
       "      <td>False</td>\n",
       "      <td>https://pbs.twimg.com/media/CZXTgKkWwAA5UZJ.jpg</td>\n",
       "    </tr>\n",
       "    <tr>\n",
       "      <td>1103</td>\n",
       "      <td>721503162398597120</td>\n",
       "      <td>Pomeranian</td>\n",
       "      <td>0.997750</td>\n",
       "      <td>True</td>\n",
       "      <td>https://pbs.twimg.com/media/CgNLS1PW8AAxWSN.jpg</td>\n",
       "    </tr>\n",
       "    <tr>\n",
       "      <td>1101</td>\n",
       "      <td>720785406564900865</td>\n",
       "      <td>Chihuahua</td>\n",
       "      <td>0.896422</td>\n",
       "      <td>True</td>\n",
       "      <td>https://pbs.twimg.com/media/CgC-gMCWcAAawUE.jpg</td>\n",
       "    </tr>\n",
       "  </tbody>\n",
       "</table>\n",
       "</div>"
      ],
      "text/plain": [
       "                tweet_id       breed  confidence  dog_photo  \\\n",
       "791   690690673629138944  bath_towel    0.194532      False   \n",
       "1103  721503162398597120  Pomeranian    0.997750       True   \n",
       "1101  720785406564900865   Chihuahua    0.896422       True   \n",
       "\n",
       "                                              jpg_url  \n",
       "791   https://pbs.twimg.com/media/CZXTgKkWwAA5UZJ.jpg  \n",
       "1103  https://pbs.twimg.com/media/CgNLS1PW8AAxWSN.jpg  \n",
       "1101  https://pbs.twimg.com/media/CgC-gMCWcAAawUE.jpg  "
      ]
     },
     "execution_count": 134,
     "metadata": {},
     "output_type": "execute_result"
    }
   ],
   "source": [
    "imagePredict_clean = imagePredict_clean[['tweet_id', 'breed', 'confidence', 'dog_photo', 'jpg_url']]\n",
    "imagePredict_clean.sample(3)"
   ]
  },
  {
   "cell_type": "markdown",
   "metadata": {},
   "source": [
    "`Reasoning for retaining my chosen columns:`\n",
    "\n",
    "- I only want to use the image's breed for analysis if the algorithm is relatively confident about its prediction. The algorithm is most confident about the first photo listed, so I discarded Photo 2 and 3 data. \n",
    "- The confidence and dog_photo columns are kept to query photos that are\n",
    "    1. in fact dogs\n",
    "    2. predicted to a relatively high degree of confidence\n",
    "- Keeping jpg_url will make it easier to check if I query correctly in later cleaning stages"
   ]
  },
  {
   "cell_type": "markdown",
   "metadata": {},
   "source": [
    "<a id='merge'></a>\n",
    "## Define"
   ]
  },
  {
   "cell_type": "markdown",
   "metadata": {},
   "source": [
    "Combine the weRateDogs, tweetInfo, and imagePredict DataFrames into a single DataFrame. \n",
    "- Merge onto the tweetInfo DataFrame because the weRateDogs and imagePredict DataFrames may contain information for tweets that have been deleted"
   ]
  },
  {
   "cell_type": "markdown",
   "metadata": {},
   "source": [
    "## Code"
   ]
  },
  {
   "cell_type": "code",
   "execution_count": 135,
   "metadata": {},
   "outputs": [],
   "source": [
    "# Merge weRateDogs onto tweetInfo\n",
    "test = tweetInfo_clean.merge(weRateDogs_clean, on = 'tweet_id')"
   ]
  },
  {
   "cell_type": "markdown",
   "metadata": {},
   "source": [
    "## Test"
   ]
  },
  {
   "cell_type": "code",
   "execution_count": 136,
   "metadata": {},
   "outputs": [
    {
     "data": {
      "text/html": [
       "<div>\n",
       "<style scoped>\n",
       "    .dataframe tbody tr th:only-of-type {\n",
       "        vertical-align: middle;\n",
       "    }\n",
       "\n",
       "    .dataframe tbody tr th {\n",
       "        vertical-align: top;\n",
       "    }\n",
       "\n",
       "    .dataframe thead th {\n",
       "        text-align: right;\n",
       "    }\n",
       "</style>\n",
       "<table border=\"1\" class=\"dataframe\">\n",
       "  <thead>\n",
       "    <tr style=\"text-align: right;\">\n",
       "      <th></th>\n",
       "      <th>tweet_id</th>\n",
       "      <th>retweet_count</th>\n",
       "      <th>favorite_count</th>\n",
       "    </tr>\n",
       "  </thead>\n",
       "  <tbody>\n",
       "    <tr>\n",
       "      <td>372</td>\n",
       "      <td>826598365270007810</td>\n",
       "      <td>2380</td>\n",
       "      <td>10182</td>\n",
       "    </tr>\n",
       "  </tbody>\n",
       "</table>\n",
       "</div>"
      ],
      "text/plain": [
       "               tweet_id  retweet_count  favorite_count\n",
       "372  826598365270007810           2380           10182"
      ]
     },
     "execution_count": 136,
     "metadata": {},
     "output_type": "execute_result"
    }
   ],
   "source": [
    "tweetInfo_clean.sample(1)"
   ]
  },
  {
   "cell_type": "code",
   "execution_count": 137,
   "metadata": {},
   "outputs": [
    {
     "data": {
      "text/plain": [
       "2168"
      ]
     },
     "execution_count": 137,
     "metadata": {},
     "output_type": "execute_result"
    }
   ],
   "source": [
    "# The maximum amount of observations we should have\n",
    "tweetInfo_clean.shape[0]"
   ]
  },
  {
   "cell_type": "code",
   "execution_count": 138,
   "metadata": {},
   "outputs": [
    {
     "data": {
      "text/html": [
       "<div>\n",
       "<style scoped>\n",
       "    .dataframe tbody tr th:only-of-type {\n",
       "        vertical-align: middle;\n",
       "    }\n",
       "\n",
       "    .dataframe tbody tr th {\n",
       "        vertical-align: top;\n",
       "    }\n",
       "\n",
       "    .dataframe thead th {\n",
       "        text-align: right;\n",
       "    }\n",
       "</style>\n",
       "<table border=\"1\" class=\"dataframe\">\n",
       "  <thead>\n",
       "    <tr style=\"text-align: right;\">\n",
       "      <th></th>\n",
       "      <th>tweet_id</th>\n",
       "      <th>text</th>\n",
       "      <th>timestamp</th>\n",
       "      <th>name</th>\n",
       "      <th>dog_stage</th>\n",
       "      <th>rating_numerator</th>\n",
       "      <th>rating_denominator</th>\n",
       "    </tr>\n",
       "  </thead>\n",
       "  <tbody>\n",
       "    <tr>\n",
       "      <td>941</td>\n",
       "      <td>754449512966619136</td>\n",
       "      <td>This is Dex. He can see into your past and fut...</td>\n",
       "      <td>2016-07-16 22:55:55+00:00</td>\n",
       "      <td>Dex</td>\n",
       "      <td>nan</td>\n",
       "      <td>11</td>\n",
       "      <td>10</td>\n",
       "    </tr>\n",
       "  </tbody>\n",
       "</table>\n",
       "</div>"
      ],
      "text/plain": [
       "               tweet_id                                               text  \\\n",
       "941  754449512966619136  This is Dex. He can see into your past and fut...   \n",
       "\n",
       "                    timestamp name dog_stage rating_numerator  \\\n",
       "941 2016-07-16 22:55:55+00:00  Dex       nan               11   \n",
       "\n",
       "     rating_denominator  \n",
       "941                  10  "
      ]
     },
     "execution_count": 138,
     "metadata": {},
     "output_type": "execute_result"
    }
   ],
   "source": [
    "weRateDogs_clean.sample(1)"
   ]
  },
  {
   "cell_type": "code",
   "execution_count": 139,
   "metadata": {},
   "outputs": [
    {
     "data": {
      "text/plain": [
       "2356"
      ]
     },
     "execution_count": 139,
     "metadata": {},
     "output_type": "execute_result"
    }
   ],
   "source": [
    "weRateDogs.shape[0]"
   ]
  },
  {
   "cell_type": "code",
   "execution_count": 140,
   "metadata": {},
   "outputs": [
    {
     "data": {
      "text/html": [
       "<div>\n",
       "<style scoped>\n",
       "    .dataframe tbody tr th:only-of-type {\n",
       "        vertical-align: middle;\n",
       "    }\n",
       "\n",
       "    .dataframe tbody tr th {\n",
       "        vertical-align: top;\n",
       "    }\n",
       "\n",
       "    .dataframe thead th {\n",
       "        text-align: right;\n",
       "    }\n",
       "</style>\n",
       "<table border=\"1\" class=\"dataframe\">\n",
       "  <thead>\n",
       "    <tr style=\"text-align: right;\">\n",
       "      <th></th>\n",
       "      <th>tweet_id</th>\n",
       "      <th>retweet_count</th>\n",
       "      <th>favorite_count</th>\n",
       "      <th>text</th>\n",
       "      <th>timestamp</th>\n",
       "      <th>name</th>\n",
       "      <th>dog_stage</th>\n",
       "      <th>rating_numerator</th>\n",
       "      <th>rating_denominator</th>\n",
       "    </tr>\n",
       "  </thead>\n",
       "  <tbody>\n",
       "    <tr>\n",
       "      <td>630</td>\n",
       "      <td>774639387460112384</td>\n",
       "      <td>1758</td>\n",
       "      <td>6860</td>\n",
       "      <td>This is Sprinkles. He's trapped in light jail....</td>\n",
       "      <td>2016-09-10 16:03:16+00:00</td>\n",
       "      <td>Sprinkles</td>\n",
       "      <td>nan</td>\n",
       "      <td>10</td>\n",
       "      <td>10</td>\n",
       "    </tr>\n",
       "  </tbody>\n",
       "</table>\n",
       "</div>"
      ],
      "text/plain": [
       "               tweet_id  retweet_count  favorite_count  \\\n",
       "630  774639387460112384           1758            6860   \n",
       "\n",
       "                                                  text  \\\n",
       "630  This is Sprinkles. He's trapped in light jail....   \n",
       "\n",
       "                    timestamp       name dog_stage rating_numerator  \\\n",
       "630 2016-09-10 16:03:16+00:00  Sprinkles       nan               10   \n",
       "\n",
       "     rating_denominator  \n",
       "630                  10  "
      ]
     },
     "execution_count": 140,
     "metadata": {},
     "output_type": "execute_result"
    }
   ],
   "source": [
    "test.sample(1)"
   ]
  },
  {
   "cell_type": "code",
   "execution_count": 141,
   "metadata": {},
   "outputs": [
    {
     "data": {
      "text/plain": [
       "2168"
      ]
     },
     "execution_count": 141,
     "metadata": {},
     "output_type": "execute_result"
    }
   ],
   "source": [
    "test.shape[0]"
   ]
  },
  {
   "cell_type": "markdown",
   "metadata": {},
   "source": [
    "## Code"
   ]
  },
  {
   "cell_type": "code",
   "execution_count": 143,
   "metadata": {},
   "outputs": [],
   "source": [
    "# Merge our newly merged weRateDogs and tweetInfo DataFrame (test) onto imagePredict\n",
    "test2 = test.merge(imagePredict_clean, on='tweet_id')"
   ]
  },
  {
   "cell_type": "markdown",
   "metadata": {},
   "source": [
    "## Test"
   ]
  },
  {
   "cell_type": "code",
   "execution_count": 144,
   "metadata": {},
   "outputs": [
    {
     "data": {
      "text/html": [
       "<div>\n",
       "<style scoped>\n",
       "    .dataframe tbody tr th:only-of-type {\n",
       "        vertical-align: middle;\n",
       "    }\n",
       "\n",
       "    .dataframe tbody tr th {\n",
       "        vertical-align: top;\n",
       "    }\n",
       "\n",
       "    .dataframe thead th {\n",
       "        text-align: right;\n",
       "    }\n",
       "</style>\n",
       "<table border=\"1\" class=\"dataframe\">\n",
       "  <thead>\n",
       "    <tr style=\"text-align: right;\">\n",
       "      <th></th>\n",
       "      <th>tweet_id</th>\n",
       "      <th>retweet_count</th>\n",
       "      <th>favorite_count</th>\n",
       "      <th>text</th>\n",
       "      <th>timestamp</th>\n",
       "      <th>name</th>\n",
       "      <th>dog_stage</th>\n",
       "      <th>rating_numerator</th>\n",
       "      <th>rating_denominator</th>\n",
       "      <th>breed</th>\n",
       "      <th>confidence</th>\n",
       "      <th>dog_photo</th>\n",
       "      <th>jpg_url</th>\n",
       "    </tr>\n",
       "  </thead>\n",
       "  <tbody>\n",
       "    <tr>\n",
       "      <td>1854</td>\n",
       "      <td>668484198282485761</td>\n",
       "      <td>225</td>\n",
       "      <td>411</td>\n",
       "      <td>Good teamwork between these dogs. One is on lo...</td>\n",
       "      <td>2015-11-22 17:40:27+00:00</td>\n",
       "      <td>None</td>\n",
       "      <td>nan</td>\n",
       "      <td>9</td>\n",
       "      <td>10</td>\n",
       "      <td>standard_poodle</td>\n",
       "      <td>0.587372</td>\n",
       "      <td>True</td>\n",
       "      <td>https://pbs.twimg.com/media/CUbu1GAWsAEH3E-.jpg</td>\n",
       "    </tr>\n",
       "  </tbody>\n",
       "</table>\n",
       "</div>"
      ],
      "text/plain": [
       "                tweet_id  retweet_count  favorite_count  \\\n",
       "1854  668484198282485761            225             411   \n",
       "\n",
       "                                                   text  \\\n",
       "1854  Good teamwork between these dogs. One is on lo...   \n",
       "\n",
       "                     timestamp  name dog_stage rating_numerator  \\\n",
       "1854 2015-11-22 17:40:27+00:00  None       nan                9   \n",
       "\n",
       "      rating_denominator            breed  confidence  dog_photo  \\\n",
       "1854                  10  standard_poodle    0.587372       True   \n",
       "\n",
       "                                              jpg_url  \n",
       "1854  https://pbs.twimg.com/media/CUbu1GAWsAEH3E-.jpg  "
      ]
     },
     "execution_count": 144,
     "metadata": {},
     "output_type": "execute_result"
    }
   ],
   "source": [
    "test2.sample()"
   ]
  },
  {
   "cell_type": "code",
   "execution_count": 145,
   "metadata": {},
   "outputs": [
    {
     "data": {
      "text/plain": [
       "1987"
      ]
     },
     "execution_count": 145,
     "metadata": {},
     "output_type": "execute_result"
    }
   ],
   "source": [
    "test2.shape[0]"
   ]
  },
  {
   "cell_type": "code",
   "execution_count": 146,
   "metadata": {},
   "outputs": [
    {
     "data": {
      "text/plain": [
       "2075"
      ]
     },
     "execution_count": 146,
     "metadata": {},
     "output_type": "execute_result"
    }
   ],
   "source": [
    "imagePredict_clean.shape[0]"
   ]
  },
  {
   "cell_type": "code",
   "execution_count": 147,
   "metadata": {},
   "outputs": [],
   "source": [
    "df = test2"
   ]
  },
  {
   "cell_type": "markdown",
   "metadata": {},
   "source": [
    "<a id='notDog'></a>\n",
    "## Define"
   ]
  },
  {
   "cell_type": "markdown",
   "metadata": {},
   "source": [
    "Remove photos where the subject is anything other than a dog"
   ]
  },
  {
   "cell_type": "markdown",
   "metadata": {},
   "source": [
    "## Code"
   ]
  },
  {
   "cell_type": "code",
   "execution_count": 79,
   "metadata": {},
   "outputs": [
    {
     "data": {
      "text/plain": [
       "True     1470\n",
       "False     517\n",
       "Name: dog_photo, dtype: int64"
      ]
     },
     "execution_count": 79,
     "metadata": {},
     "output_type": "execute_result"
    }
   ],
   "source": [
    "df.dog_photo.value_counts()"
   ]
  },
  {
   "cell_type": "code",
   "execution_count": 80,
   "metadata": {},
   "outputs": [
    {
     "data": {
      "text/html": [
       "<div>\n",
       "<style scoped>\n",
       "    .dataframe tbody tr th:only-of-type {\n",
       "        vertical-align: middle;\n",
       "    }\n",
       "\n",
       "    .dataframe tbody tr th {\n",
       "        vertical-align: top;\n",
       "    }\n",
       "\n",
       "    .dataframe thead th {\n",
       "        text-align: right;\n",
       "    }\n",
       "</style>\n",
       "<table border=\"1\" class=\"dataframe\">\n",
       "  <thead>\n",
       "    <tr style=\"text-align: right;\">\n",
       "      <th></th>\n",
       "      <th>tweet_id</th>\n",
       "      <th>retweet_count</th>\n",
       "      <th>favorite_count</th>\n",
       "      <th>text</th>\n",
       "      <th>timestamp</th>\n",
       "      <th>name</th>\n",
       "      <th>dog_stage</th>\n",
       "      <th>rating_numerator</th>\n",
       "      <th>rating_denominator</th>\n",
       "      <th>breed</th>\n",
       "      <th>confidence</th>\n",
       "      <th>dog_photo</th>\n",
       "      <th>jpg_url</th>\n",
       "    </tr>\n",
       "  </thead>\n",
       "  <tbody>\n",
       "    <tr>\n",
       "      <td>410</td>\n",
       "      <td>803380650405482500</td>\n",
       "      <td>1916</td>\n",
       "      <td>7970</td>\n",
       "      <td>Meet Sonny. He's an in-home movie critic. That...</td>\n",
       "      <td>2016-11-28 23:30:47+00:00</td>\n",
       "      <td>Sonny</td>\n",
       "      <td>nan</td>\n",
       "      <td>12</td>\n",
       "      <td>10</td>\n",
       "      <td>bookcase</td>\n",
       "      <td>0.890601</td>\n",
       "      <td>False</td>\n",
       "      <td>https://pbs.twimg.com/media/CyYub2kWEAEYdaq.jpg</td>\n",
       "    </tr>\n",
       "    <tr>\n",
       "      <td>1275</td>\n",
       "      <td>685532292383666176</td>\n",
       "      <td>1159</td>\n",
       "      <td>3030</td>\n",
       "      <td>For the last time, WE. DO. NOT. RATE. BULBASAU...</td>\n",
       "      <td>2016-01-08 18:43:29+00:00</td>\n",
       "      <td>None</td>\n",
       "      <td>nan</td>\n",
       "      <td>9</td>\n",
       "      <td>10</td>\n",
       "      <td>white_wolf</td>\n",
       "      <td>0.318524</td>\n",
       "      <td>False</td>\n",
       "      <td>https://pbs.twimg.com/media/CYN_-6iW8AQhPu2.jpg</td>\n",
       "    </tr>\n",
       "    <tr>\n",
       "      <td>1389</td>\n",
       "      <td>679729593985699840</td>\n",
       "      <td>818</td>\n",
       "      <td>2164</td>\n",
       "      <td>This is Hunter. He was playing with his ball m...</td>\n",
       "      <td>2015-12-23 18:25:38+00:00</td>\n",
       "      <td>Hunter</td>\n",
       "      <td>nan</td>\n",
       "      <td>8</td>\n",
       "      <td>10</td>\n",
       "      <td>wallaby</td>\n",
       "      <td>0.164215</td>\n",
       "      <td>False</td>\n",
       "      <td>https://pbs.twimg.com/media/CW7iddWUsAElUC0.jpg</td>\n",
       "    </tr>\n",
       "    <tr>\n",
       "      <td>679</td>\n",
       "      <td>754747087846248448</td>\n",
       "      <td>527</td>\n",
       "      <td>2612</td>\n",
       "      <td>This is Keith. He's pursuing a more 2D lifesty...</td>\n",
       "      <td>2016-07-17 18:38:22+00:00</td>\n",
       "      <td>Keith</td>\n",
       "      <td>nan</td>\n",
       "      <td>12</td>\n",
       "      <td>10</td>\n",
       "      <td>rotisserie</td>\n",
       "      <td>0.471493</td>\n",
       "      <td>False</td>\n",
       "      <td>https://pbs.twimg.com/media/CnlmeL3WgAA4c84.jpg</td>\n",
       "    </tr>\n",
       "    <tr>\n",
       "      <td>1542</td>\n",
       "      <td>674664755118911488</td>\n",
       "      <td>245</td>\n",
       "      <td>894</td>\n",
       "      <td>This is Rodman. He's getting destroyed by the ...</td>\n",
       "      <td>2015-12-09 18:59:46+00:00</td>\n",
       "      <td>Rodman</td>\n",
       "      <td>nan</td>\n",
       "      <td>10</td>\n",
       "      <td>10</td>\n",
       "      <td>African_crocodile</td>\n",
       "      <td>0.330625</td>\n",
       "      <td>False</td>\n",
       "      <td>https://pbs.twimg.com/media/CVzkA7-WsAAcXz6.jpg</td>\n",
       "    </tr>\n",
       "  </tbody>\n",
       "</table>\n",
       "</div>"
      ],
      "text/plain": [
       "                tweet_id  retweet_count  favorite_count  \\\n",
       "410   803380650405482500           1916            7970   \n",
       "1275  685532292383666176           1159            3030   \n",
       "1389  679729593985699840            818            2164   \n",
       "679   754747087846248448            527            2612   \n",
       "1542  674664755118911488            245             894   \n",
       "\n",
       "                                                   text  \\\n",
       "410   Meet Sonny. He's an in-home movie critic. That...   \n",
       "1275  For the last time, WE. DO. NOT. RATE. BULBASAU...   \n",
       "1389  This is Hunter. He was playing with his ball m...   \n",
       "679   This is Keith. He's pursuing a more 2D lifesty...   \n",
       "1542  This is Rodman. He's getting destroyed by the ...   \n",
       "\n",
       "                     timestamp    name dog_stage rating_numerator  \\\n",
       "410  2016-11-28 23:30:47+00:00   Sonny       nan               12   \n",
       "1275 2016-01-08 18:43:29+00:00    None       nan                9   \n",
       "1389 2015-12-23 18:25:38+00:00  Hunter       nan                8   \n",
       "679  2016-07-17 18:38:22+00:00   Keith       nan               12   \n",
       "1542 2015-12-09 18:59:46+00:00  Rodman       nan               10   \n",
       "\n",
       "      rating_denominator              breed  confidence  dog_photo  \\\n",
       "410                   10           bookcase    0.890601      False   \n",
       "1275                  10         white_wolf    0.318524      False   \n",
       "1389                  10            wallaby    0.164215      False   \n",
       "679                   10         rotisserie    0.471493      False   \n",
       "1542                  10  African_crocodile    0.330625      False   \n",
       "\n",
       "                                              jpg_url  \n",
       "410   https://pbs.twimg.com/media/CyYub2kWEAEYdaq.jpg  \n",
       "1275  https://pbs.twimg.com/media/CYN_-6iW8AQhPu2.jpg  \n",
       "1389  https://pbs.twimg.com/media/CW7iddWUsAElUC0.jpg  \n",
       "679   https://pbs.twimg.com/media/CnlmeL3WgAA4c84.jpg  \n",
       "1542  https://pbs.twimg.com/media/CVzkA7-WsAAcXz6.jpg  "
      ]
     },
     "execution_count": 80,
     "metadata": {},
     "output_type": "execute_result"
    }
   ],
   "source": [
    "df[df.dog_photo == False].sample(5)"
   ]
  },
  {
   "cell_type": "markdown",
   "metadata": {},
   "source": [
    "If you pull up the urls for any one of these, you'll quickly find that **the algorithm generated quite a few false negatives**. \n",
    "\n",
    "You'll also see a pattern that, when the algorithm predicts the photo to be of an animal other than a dog, it's often correct. However, when it predicts that the subject is an object, like a shopping cart, for instance, the photo is actually of a dog in a shopping cart. \n",
    "\n",
    "We could maybe get a little closer to filtering out non-dog images by removing observations in which:\n",
    "- dog_photo is False \n",
    "- name is 'None'"
   ]
  },
  {
   "cell_type": "code",
   "execution_count": 81,
   "metadata": {},
   "outputs": [
    {
     "data": {
      "text/html": [
       "<div>\n",
       "<style scoped>\n",
       "    .dataframe tbody tr th:only-of-type {\n",
       "        vertical-align: middle;\n",
       "    }\n",
       "\n",
       "    .dataframe tbody tr th {\n",
       "        vertical-align: top;\n",
       "    }\n",
       "\n",
       "    .dataframe thead th {\n",
       "        text-align: right;\n",
       "    }\n",
       "</style>\n",
       "<table border=\"1\" class=\"dataframe\">\n",
       "  <thead>\n",
       "    <tr style=\"text-align: right;\">\n",
       "      <th></th>\n",
       "      <th>tweet_id</th>\n",
       "      <th>retweet_count</th>\n",
       "      <th>favorite_count</th>\n",
       "      <th>text</th>\n",
       "      <th>timestamp</th>\n",
       "      <th>name</th>\n",
       "      <th>dog_stage</th>\n",
       "      <th>rating_numerator</th>\n",
       "      <th>rating_denominator</th>\n",
       "      <th>breed</th>\n",
       "      <th>confidence</th>\n",
       "      <th>dog_photo</th>\n",
       "      <th>jpg_url</th>\n",
       "    </tr>\n",
       "  </thead>\n",
       "  <tbody>\n",
       "    <tr>\n",
       "      <td>479</td>\n",
       "      <td>790581949425475584</td>\n",
       "      <td>7363</td>\n",
       "      <td>21161</td>\n",
       "      <td>This is Duke. He sneaks into the fridge someti...</td>\n",
       "      <td>2016-10-24 15:53:19+00:00</td>\n",
       "      <td>Duke</td>\n",
       "      <td>nan</td>\n",
       "      <td>11</td>\n",
       "      <td>10</td>\n",
       "      <td>refrigerator</td>\n",
       "      <td>0.998886</td>\n",
       "      <td>False</td>\n",
       "      <td>https://pbs.twimg.com/media/Cvi2FiKWgAAif1u.jpg</td>\n",
       "    </tr>\n",
       "  </tbody>\n",
       "</table>\n",
       "</div>"
      ],
      "text/plain": [
       "               tweet_id  retweet_count  favorite_count  \\\n",
       "479  790581949425475584           7363           21161   \n",
       "\n",
       "                                                  text  \\\n",
       "479  This is Duke. He sneaks into the fridge someti...   \n",
       "\n",
       "                    timestamp  name dog_stage rating_numerator  \\\n",
       "479 2016-10-24 15:53:19+00:00  Duke       nan               11   \n",
       "\n",
       "     rating_denominator         breed  confidence  dog_photo  \\\n",
       "479                  10  refrigerator    0.998886      False   \n",
       "\n",
       "                                             jpg_url  \n",
       "479  https://pbs.twimg.com/media/Cvi2FiKWgAAif1u.jpg  "
      ]
     },
     "execution_count": 81,
     "metadata": {},
     "output_type": "execute_result"
    }
   ],
   "source": [
    "# Take a sample of photos under these conditions\n",
    "df[(df.dog_photo == False) & (df.name != 'None')].sample(1)"
   ]
  },
  {
   "cell_type": "markdown",
   "metadata": {},
   "source": [
    "Even after querying under additional conditions, it is still difficult to ensure that the files we pull are false negatives. \n",
    "\n",
    "Thus, we'll just drop all photos where dog_photo = False."
   ]
  },
  {
   "cell_type": "code",
   "execution_count": 148,
   "metadata": {},
   "outputs": [],
   "source": [
    "df = df[df.dog_photo == True]"
   ]
  },
  {
   "cell_type": "markdown",
   "metadata": {},
   "source": [
    "## Test"
   ]
  },
  {
   "cell_type": "code",
   "execution_count": 149,
   "metadata": {},
   "outputs": [
    {
     "data": {
      "text/plain": [
       "True    1470\n",
       "Name: dog_photo, dtype: int64"
      ]
     },
     "execution_count": 149,
     "metadata": {},
     "output_type": "execute_result"
    }
   ],
   "source": [
    "df.dog_photo.value_counts()"
   ]
  },
  {
   "cell_type": "code",
   "execution_count": 150,
   "metadata": {},
   "outputs": [
    {
     "name": "stderr",
     "output_type": "stream",
     "text": [
      "/Users/adrienneterrado/opt/anaconda3/lib/python3.7/site-packages/pandas/core/frame.py:4102: SettingWithCopyWarning: \n",
      "A value is trying to be set on a copy of a slice from a DataFrame\n",
      "\n",
      "See the caveats in the documentation: http://pandas.pydata.org/pandas-docs/stable/user_guide/indexing.html#returning-a-view-versus-a-copy\n",
      "  errors=errors,\n"
     ]
    }
   ],
   "source": [
    "# Not technically a test, but I want to drop this column, and it wouldn't make sense to test value_counts on a column\n",
    "# that doesn't exist\n",
    "df.drop('dog_photo', axis=1, inplace=True)"
   ]
  },
  {
   "cell_type": "markdown",
   "metadata": {},
   "source": [
    "<a id='lowConf'></a>\n",
    "#### \\*Notes"
   ]
  },
  {
   "cell_type": "markdown",
   "metadata": {},
   "source": [
    "The DataFrame still contains very low confidence breed predictions, but for the sake of retaining as much dog photo data as we can, `we'll keep those observations.` However, we should not include low-confidence predictions in any of our analyses that involve comparing dog breeds."
   ]
  },
  {
   "cell_type": "markdown",
   "metadata": {},
   "source": [
    "<a id='store'></a>\n",
    "## Store DataFrame as a CSV file"
   ]
  },
  {
   "cell_type": "code",
   "execution_count": 85,
   "metadata": {},
   "outputs": [],
   "source": [
    "df.to_csv('twitter_archive_master.csv', index=False)"
   ]
  },
  {
   "cell_type": "code",
   "execution_count": 86,
   "metadata": {},
   "outputs": [
    {
     "data": {
      "text/html": [
       "<div>\n",
       "<style scoped>\n",
       "    .dataframe tbody tr th:only-of-type {\n",
       "        vertical-align: middle;\n",
       "    }\n",
       "\n",
       "    .dataframe tbody tr th {\n",
       "        vertical-align: top;\n",
       "    }\n",
       "\n",
       "    .dataframe thead th {\n",
       "        text-align: right;\n",
       "    }\n",
       "</style>\n",
       "<table border=\"1\" class=\"dataframe\">\n",
       "  <thead>\n",
       "    <tr style=\"text-align: right;\">\n",
       "      <th></th>\n",
       "      <th>tweet_id</th>\n",
       "      <th>retweet_count</th>\n",
       "      <th>favorite_count</th>\n",
       "      <th>text</th>\n",
       "      <th>timestamp</th>\n",
       "      <th>name</th>\n",
       "      <th>dog_stage</th>\n",
       "      <th>rating_numerator</th>\n",
       "      <th>rating_denominator</th>\n",
       "      <th>breed</th>\n",
       "      <th>confidence</th>\n",
       "      <th>jpg_url</th>\n",
       "    </tr>\n",
       "  </thead>\n",
       "  <tbody>\n",
       "    <tr>\n",
       "      <td>726</td>\n",
       "      <td>716080869887381504</td>\n",
       "      <td>1902</td>\n",
       "      <td>6731</td>\n",
       "      <td>Here's a super majestic doggo and a sunset 11/...</td>\n",
       "      <td>2016-04-02 01:52:38+00:00</td>\n",
       "      <td>None</td>\n",
       "      <td>doggo</td>\n",
       "      <td>11.0</td>\n",
       "      <td>10</td>\n",
       "      <td>golden_retriever</td>\n",
       "      <td>0.638625</td>\n",
       "      <td>https://pbs.twimg.com/media/CfAHv83UMAIEQYx.jpg</td>\n",
       "    </tr>\n",
       "  </tbody>\n",
       "</table>\n",
       "</div>"
      ],
      "text/plain": [
       "               tweet_id  retweet_count  favorite_count  \\\n",
       "726  716080869887381504           1902            6731   \n",
       "\n",
       "                                                  text  \\\n",
       "726  Here's a super majestic doggo and a sunset 11/...   \n",
       "\n",
       "                     timestamp  name dog_stage  rating_numerator  \\\n",
       "726  2016-04-02 01:52:38+00:00  None     doggo              11.0   \n",
       "\n",
       "     rating_denominator             breed  confidence  \\\n",
       "726                  10  golden_retriever    0.638625   \n",
       "\n",
       "                                             jpg_url  \n",
       "726  https://pbs.twimg.com/media/CfAHv83UMAIEQYx.jpg  "
      ]
     },
     "execution_count": 86,
     "metadata": {},
     "output_type": "execute_result"
    }
   ],
   "source": [
    "pd.read_csv('twitter_archive_master.csv').sample(1)"
   ]
  },
  {
   "cell_type": "markdown",
   "metadata": {},
   "source": [
    "<a id='analysis'></a>\n",
    "## Analysis"
   ]
  },
  {
   "cell_type": "markdown",
   "metadata": {},
   "source": [
    "`Goals:`\n",
    "- Plot retweet_count by favorite_count as a sanity check. Should be linear.\n",
    "- Plot the relationship between dog ratings and retweet count\n",
    "- See if the site had gotten more or less popular over the course of when the data was collected:\n",
    " - In terms of the number of tweets posted to the site\n",
    " - In terms of general traffic\n",
    "- Observe relationship between dog breeds and popularity\n",
    "- Observe relationship between dog stage and popularity"
   ]
  },
  {
   "cell_type": "code",
   "execution_count": 151,
   "metadata": {},
   "outputs": [
    {
     "data": {
      "text/plain": [
       "<matplotlib.axes._subplots.AxesSubplot at 0x1a23e04b10>"
      ]
     },
     "execution_count": 151,
     "metadata": {},
     "output_type": "execute_result"
    },
    {
     "data": {
      "image/png": "[encoded data removed]",
      "text/plain": [
       "<Figure size 432x288 with 1 Axes>"
      ]
     },
     "metadata": {
      "needs_background": "light"
     },
     "output_type": "display_data"
    }
   ],
   "source": [
    "sn.scatterplot(data=df, x='favorite_count', y='retweet_count')"
   ]
  },
  {
   "cell_type": "markdown",
   "metadata": {},
   "source": [
    ">Linear. Makes sense."
   ]
  },
  {
   "cell_type": "code",
   "execution_count": 162,
   "metadata": {},
   "outputs": [],
   "source": [
    "df.rating_numerator = df.rating_numerator.astype(float)\n",
    "\n",
    "df['rating_prop'] = df.loc[:, 'rating_numerator'] / df.loc[:, 'rating_denominator']"
   ]
  },
  {
   "cell_type": "code",
   "execution_count": 186,
   "metadata": {},
   "outputs": [
    {
     "data": {
      "image/png": "[encoded data removed]",
      "text/plain": [
       "<Figure size 1080x360 with 2 Axes>"
      ]
     },
     "metadata": {
      "needs_background": "light"
     },
     "output_type": "display_data"
    }
   ],
   "source": [
    "f, ax = plt.subplots(1, 2, figsize=(15, 5))\n",
    "sn.scatterplot(data=df, x='rating_prop', y='retweet_count', ax=ax[0], alpha = 0.2)\n",
    "sn.scatterplot(data=df, x='rating_prop', y='favorite_count', ax=ax[1], alpha = 0.2)\n",
    "for i in (0,1):\n",
    "    ax[i].set_xlabel(\"Dog Rating\")"
   ]
  },
  {
   "cell_type": "markdown",
   "metadata": {},
   "source": [
    "> Dog ratings were calculated by dividing rating numerators by their denominators. There is a positive correlation between dog ratings and both retweet and favourite counts. However, the general public did not share the same sentiment with that one user who rated their dog absurdly highly. "
   ]
  },
  {
   "cell_type": "code",
   "execution_count": 214,
   "metadata": {},
   "outputs": [
    {
     "data": {
      "text/plain": [
       "tweet_id                                             810984652412424192\n",
       "retweet_count                                                      1470\n",
       "favorite_count                                                     5467\n",
       "text                  Meet Sam. She smiles 24/7 &amp; secretly aspir...\n",
       "timestamp                                     2016-12-19 23:06:23+00:00\n",
       "name                                                                Sam\n",
       "dog_stage                                                           nan\n",
       "rating_numerator                                                     24\n",
       "rating_denominator                                                    7\n",
       "breed                                                  golden_retriever\n",
       "confidence                                                     0.871342\n",
       "jpg_url                 https://pbs.twimg.com/media/C0EyPZbXAAAceSc.jpg\n",
       "rating_prop                                                     3.42857\n",
       "Name: 381, dtype: object"
      ]
     },
     "execution_count": 214,
     "metadata": {},
     "output_type": "execute_result"
    }
   ],
   "source": [
    "# That tweet\n",
    "df.sort_values('rating_prop', ascending = False).iloc[0]"
   ]
  },
  {
   "cell_type": "markdown",
   "metadata": {},
   "source": [
    "> Honestly, that photo isn't that great. 10/10 wouldn't retweet or favorite. "
   ]
  },
  {
   "cell_type": "code",
   "execution_count": 88,
   "metadata": {},
   "outputs": [
    {
     "name": "stderr",
     "output_type": "stream",
     "text": [
      "/Users/adrienneterrado/opt/anaconda3/lib/python3.7/site-packages/pandas/plotting/_matplotlib/converter.py:103: FutureWarning: Using an implicitly registered datetime converter for a matplotlib plotting method. The converter was registered by pandas on import. Future versions of pandas will require you to explicitly register matplotlib converters.\n",
      "\n",
      "To register the converters:\n",
      "\t>>> from pandas.plotting import register_matplotlib_converters\n",
      "\t>>> register_matplotlib_converters()\n",
      "  warnings.warn(msg, FutureWarning)\n"
     ]
    },
    {
     "data": {
      "image/png": "[encoded data removed]",
      "text/plain": [
       "<Figure size 432x288 with 1 Axes>"
      ]
     },
     "metadata": {
      "needs_background": "light"
     },
     "output_type": "display_data"
    }
   ],
   "source": [
    "sn.scatterplot(data=df, x=df.timestamp.dt.date, y='retweet_count')\n",
    "plt.xlim(xmin='2015-11-15', xmax='2017-08-01')\n",
    "plt.xticks(rotation='vertical')\n",
    "plt.show()"
   ]
  },
  {
   "cell_type": "markdown",
   "metadata": {},
   "source": [
    "> Not too interesting. Let's try to find a different way to view this data"
   ]
  },
  {
   "cell_type": "markdown",
   "metadata": {},
   "source": [
    "<a id='rttime'></a>\n",
    "## WeRateDogs User Traffic"
   ]
  },
  {
   "cell_type": "code",
   "execution_count": 188,
   "metadata": {},
   "outputs": [
    {
     "data": {
      "text/html": [
       "<div>\n",
       "<style scoped>\n",
       "    .dataframe tbody tr th:only-of-type {\n",
       "        vertical-align: middle;\n",
       "    }\n",
       "\n",
       "    .dataframe tbody tr th {\n",
       "        vertical-align: top;\n",
       "    }\n",
       "\n",
       "    .dataframe thead th {\n",
       "        text-align: right;\n",
       "    }\n",
       "</style>\n",
       "<table border=\"1\" class=\"dataframe\">\n",
       "  <thead>\n",
       "    <tr style=\"text-align: right;\">\n",
       "      <th></th>\n",
       "      <th></th>\n",
       "      <th>number_of_tweets</th>\n",
       "    </tr>\n",
       "    <tr>\n",
       "      <th>timestamp</th>\n",
       "      <th>timestamp</th>\n",
       "      <th></th>\n",
       "    </tr>\n",
       "  </thead>\n",
       "  <tbody>\n",
       "    <tr>\n",
       "      <td rowspan=\"2\" valign=\"top\">2015</td>\n",
       "      <td>11</td>\n",
       "      <td>192</td>\n",
       "    </tr>\n",
       "    <tr>\n",
       "      <td>12</td>\n",
       "      <td>245</td>\n",
       "    </tr>\n",
       "    <tr>\n",
       "      <td rowspan=\"12\" valign=\"top\">2016</td>\n",
       "      <td>1</td>\n",
       "      <td>127</td>\n",
       "    </tr>\n",
       "    <tr>\n",
       "      <td>2</td>\n",
       "      <td>84</td>\n",
       "    </tr>\n",
       "    <tr>\n",
       "      <td>3</td>\n",
       "      <td>92</td>\n",
       "    </tr>\n",
       "    <tr>\n",
       "      <td>4</td>\n",
       "      <td>45</td>\n",
       "    </tr>\n",
       "    <tr>\n",
       "      <td>5</td>\n",
       "      <td>40</td>\n",
       "    </tr>\n",
       "    <tr>\n",
       "      <td>6</td>\n",
       "      <td>61</td>\n",
       "    </tr>\n",
       "    <tr>\n",
       "      <td>7</td>\n",
       "      <td>67</td>\n",
       "    </tr>\n",
       "    <tr>\n",
       "      <td>8</td>\n",
       "      <td>44</td>\n",
       "    </tr>\n",
       "    <tr>\n",
       "      <td>9</td>\n",
       "      <td>49</td>\n",
       "    </tr>\n",
       "    <tr>\n",
       "      <td>10</td>\n",
       "      <td>49</td>\n",
       "    </tr>\n",
       "    <tr>\n",
       "      <td>11</td>\n",
       "      <td>44</td>\n",
       "    </tr>\n",
       "    <tr>\n",
       "      <td>12</td>\n",
       "      <td>46</td>\n",
       "    </tr>\n",
       "    <tr>\n",
       "      <td rowspan=\"8\" valign=\"top\">2017</td>\n",
       "      <td>1</td>\n",
       "      <td>52</td>\n",
       "    </tr>\n",
       "    <tr>\n",
       "      <td>2</td>\n",
       "      <td>51</td>\n",
       "    </tr>\n",
       "    <tr>\n",
       "      <td>3</td>\n",
       "      <td>35</td>\n",
       "    </tr>\n",
       "    <tr>\n",
       "      <td>4</td>\n",
       "      <td>31</td>\n",
       "    </tr>\n",
       "    <tr>\n",
       "      <td>5</td>\n",
       "      <td>33</td>\n",
       "    </tr>\n",
       "    <tr>\n",
       "      <td>6</td>\n",
       "      <td>38</td>\n",
       "    </tr>\n",
       "    <tr>\n",
       "      <td>7</td>\n",
       "      <td>44</td>\n",
       "    </tr>\n",
       "    <tr>\n",
       "      <td>8</td>\n",
       "      <td>1</td>\n",
       "    </tr>\n",
       "  </tbody>\n",
       "</table>\n",
       "</div>"
      ],
      "text/plain": [
       "                     number_of_tweets\n",
       "timestamp timestamp                  \n",
       "2015      11                      192\n",
       "          12                      245\n",
       "2016      1                       127\n",
       "          2                        84\n",
       "          3                        92\n",
       "          4                        45\n",
       "          5                        40\n",
       "          6                        61\n",
       "          7                        67\n",
       "          8                        44\n",
       "          9                        49\n",
       "          10                       49\n",
       "          11                       44\n",
       "          12                       46\n",
       "2017      1                        52\n",
       "          2                        51\n",
       "          3                        35\n",
       "          4                        31\n",
       "          5                        33\n",
       "          6                        38\n",
       "          7                        44\n",
       "          8                         1"
      ]
     },
     "execution_count": 188,
     "metadata": {},
     "output_type": "execute_result"
    }
   ],
   "source": [
    "# The count function counts the number of observations associated with each index. In this case, 192 in the first row\n",
    "# means that 192 users tweeted to WeRateDogs in November of 2015. \n",
    "tweetsPerMonth = df[['tweet_id']].groupby(by=[df.timestamp.dt.year, df.timestamp.dt.month]).count()\n",
    "tweetsPerMonth.columns = ['number_of_tweets']\n",
    "tweetsPerMonth"
   ]
  },
  {
   "cell_type": "code",
   "execution_count": 217,
   "metadata": {},
   "outputs": [
    {
     "data": {
      "image/png": "[encoded data removed]",
      "text/plain": [
       "<Figure size 720x216 with 1 Axes>"
      ]
     },
     "metadata": {
      "needs_background": "light"
     },
     "output_type": "display_data"
    }
   ],
   "source": [
    "plt.figure(figsize=(10,3))\n",
    "sn.barplot(x=tweetsPerMonth.index, y=tweetsPerMonth.number_of_tweets, palette = 'Blues_r')\n",
    "plt.xticks(rotation='vertical')\n",
    "plt.xlabel('Date (Year, Month)')\n",
    "plt.ylabel('Number of Tweets')\n",
    "plt.savefig('tweetsPerMonth.jpg', dpi = 1200, bbox_inches='tight')"
   ]
  },
  {
   "cell_type": "markdown",
   "metadata": {},
   "source": [
    ">Based on the number of tweets to WeRateDogs, it appears that `WeRateDogs decreased in popularity` over the course of time when this data was collected."
   ]
  },
  {
   "cell_type": "code",
   "execution_count": 190,
   "metadata": {},
   "outputs": [
    {
     "data": {
      "text/html": [
       "<div>\n",
       "<style scoped>\n",
       "    .dataframe tbody tr th:only-of-type {\n",
       "        vertical-align: middle;\n",
       "    }\n",
       "\n",
       "    .dataframe tbody tr th {\n",
       "        vertical-align: top;\n",
       "    }\n",
       "\n",
       "    .dataframe thead th {\n",
       "        text-align: right;\n",
       "    }\n",
       "</style>\n",
       "<table border=\"1\" class=\"dataframe\">\n",
       "  <thead>\n",
       "    <tr style=\"text-align: right;\">\n",
       "      <th></th>\n",
       "      <th></th>\n",
       "      <th>retweet_count</th>\n",
       "    </tr>\n",
       "    <tr>\n",
       "      <th>timestamp</th>\n",
       "      <th>timestamp</th>\n",
       "      <th></th>\n",
       "    </tr>\n",
       "  </thead>\n",
       "  <tbody>\n",
       "    <tr>\n",
       "      <td rowspan=\"2\" valign=\"top\">2015</td>\n",
       "      <td>11</td>\n",
       "      <td>81918</td>\n",
       "    </tr>\n",
       "    <tr>\n",
       "      <td>12</td>\n",
       "      <td>285288</td>\n",
       "    </tr>\n",
       "    <tr>\n",
       "      <td rowspan=\"12\" valign=\"top\">2016</td>\n",
       "      <td>1</td>\n",
       "      <td>144221</td>\n",
       "    </tr>\n",
       "    <tr>\n",
       "      <td>2</td>\n",
       "      <td>110157</td>\n",
       "    </tr>\n",
       "    <tr>\n",
       "      <td>3</td>\n",
       "      <td>124025</td>\n",
       "    </tr>\n",
       "    <tr>\n",
       "      <td>4</td>\n",
       "      <td>64706</td>\n",
       "    </tr>\n",
       "    <tr>\n",
       "      <td>5</td>\n",
       "      <td>78485</td>\n",
       "    </tr>\n",
       "    <tr>\n",
       "      <td>6</td>\n",
       "      <td>271634</td>\n",
       "    </tr>\n",
       "    <tr>\n",
       "      <td>7</td>\n",
       "      <td>134697</td>\n",
       "    </tr>\n",
       "    <tr>\n",
       "      <td>8</td>\n",
       "      <td>121622</td>\n",
       "    </tr>\n",
       "    <tr>\n",
       "      <td>9</td>\n",
       "      <td>145551</td>\n",
       "    </tr>\n",
       "    <tr>\n",
       "      <td>10</td>\n",
       "      <td>169982</td>\n",
       "    </tr>\n",
       "    <tr>\n",
       "      <td>11</td>\n",
       "      <td>174769</td>\n",
       "    </tr>\n",
       "    <tr>\n",
       "      <td>12</td>\n",
       "      <td>215698</td>\n",
       "    </tr>\n",
       "    <tr>\n",
       "      <td rowspan=\"8\" valign=\"top\">2017</td>\n",
       "      <td>1</td>\n",
       "      <td>293955</td>\n",
       "    </tr>\n",
       "    <tr>\n",
       "      <td>2</td>\n",
       "      <td>200697</td>\n",
       "    </tr>\n",
       "    <tr>\n",
       "      <td>3</td>\n",
       "      <td>154993</td>\n",
       "    </tr>\n",
       "    <tr>\n",
       "      <td>4</td>\n",
       "      <td>158177</td>\n",
       "    </tr>\n",
       "    <tr>\n",
       "      <td>5</td>\n",
       "      <td>202794</td>\n",
       "    </tr>\n",
       "    <tr>\n",
       "      <td>6</td>\n",
       "      <td>228374</td>\n",
       "    </tr>\n",
       "    <tr>\n",
       "      <td>7</td>\n",
       "      <td>269475</td>\n",
       "    </tr>\n",
       "    <tr>\n",
       "      <td>8</td>\n",
       "      <td>5730</td>\n",
       "    </tr>\n",
       "  </tbody>\n",
       "</table>\n",
       "</div>"
      ],
      "text/plain": [
       "                     retweet_count\n",
       "timestamp timestamp               \n",
       "2015      11                 81918\n",
       "          12                285288\n",
       "2016      1                 144221\n",
       "          2                 110157\n",
       "          3                 124025\n",
       "          4                  64706\n",
       "          5                  78485\n",
       "          6                 271634\n",
       "          7                 134697\n",
       "          8                 121622\n",
       "          9                 145551\n",
       "          10                169982\n",
       "          11                174769\n",
       "          12                215698\n",
       "2017      1                 293955\n",
       "          2                 200697\n",
       "          3                 154993\n",
       "          4                 158177\n",
       "          5                 202794\n",
       "          6                 228374\n",
       "          7                 269475\n",
       "          8                   5730"
      ]
     },
     "execution_count": 190,
     "metadata": {},
     "output_type": "execute_result"
    }
   ],
   "source": [
    "# The sum function sums the values associated with each index. For instance, the 81918 column means that 81918 users\n",
    "# retweeted posts from WeRateDogs in November of 2015.\n",
    "retweetsPerMonth = df[['tweet_id', 'retweet_count']].groupby(by=[df.timestamp.dt.year, df.timestamp.dt.month]).sum()\n",
    "retweetsPerMonth"
   ]
  },
  {
   "cell_type": "code",
   "execution_count": 191,
   "metadata": {},
   "outputs": [
    {
     "data": {
      "text/html": [
       "<div>\n",
       "<style scoped>\n",
       "    .dataframe tbody tr th:only-of-type {\n",
       "        vertical-align: middle;\n",
       "    }\n",
       "\n",
       "    .dataframe tbody tr th {\n",
       "        vertical-align: top;\n",
       "    }\n",
       "\n",
       "    .dataframe thead th {\n",
       "        text-align: right;\n",
       "    }\n",
       "</style>\n",
       "<table border=\"1\" class=\"dataframe\">\n",
       "  <thead>\n",
       "    <tr style=\"text-align: right;\">\n",
       "      <th></th>\n",
       "      <th></th>\n",
       "      <th>number_of_tweets</th>\n",
       "      <th>retweet_count</th>\n",
       "      <th>normalized_retweet_count</th>\n",
       "    </tr>\n",
       "    <tr>\n",
       "      <th>timestamp</th>\n",
       "      <th>timestamp</th>\n",
       "      <th></th>\n",
       "      <th></th>\n",
       "      <th></th>\n",
       "    </tr>\n",
       "  </thead>\n",
       "  <tbody>\n",
       "    <tr>\n",
       "      <td rowspan=\"2\" valign=\"top\">2015</td>\n",
       "      <td>11</td>\n",
       "      <td>192</td>\n",
       "      <td>81918</td>\n",
       "      <td>426.656250</td>\n",
       "    </tr>\n",
       "    <tr>\n",
       "      <td>12</td>\n",
       "      <td>245</td>\n",
       "      <td>285288</td>\n",
       "      <td>1164.440816</td>\n",
       "    </tr>\n",
       "    <tr>\n",
       "      <td rowspan=\"12\" valign=\"top\">2016</td>\n",
       "      <td>1</td>\n",
       "      <td>127</td>\n",
       "      <td>144221</td>\n",
       "      <td>1135.598425</td>\n",
       "    </tr>\n",
       "    <tr>\n",
       "      <td>2</td>\n",
       "      <td>84</td>\n",
       "      <td>110157</td>\n",
       "      <td>1311.392857</td>\n",
       "    </tr>\n",
       "    <tr>\n",
       "      <td>3</td>\n",
       "      <td>92</td>\n",
       "      <td>124025</td>\n",
       "      <td>1348.097826</td>\n",
       "    </tr>\n",
       "    <tr>\n",
       "      <td>4</td>\n",
       "      <td>45</td>\n",
       "      <td>64706</td>\n",
       "      <td>1437.911111</td>\n",
       "    </tr>\n",
       "    <tr>\n",
       "      <td>5</td>\n",
       "      <td>40</td>\n",
       "      <td>78485</td>\n",
       "      <td>1962.125000</td>\n",
       "    </tr>\n",
       "    <tr>\n",
       "      <td>6</td>\n",
       "      <td>61</td>\n",
       "      <td>271634</td>\n",
       "      <td>4453.016393</td>\n",
       "    </tr>\n",
       "    <tr>\n",
       "      <td>7</td>\n",
       "      <td>67</td>\n",
       "      <td>134697</td>\n",
       "      <td>2010.402985</td>\n",
       "    </tr>\n",
       "    <tr>\n",
       "      <td>8</td>\n",
       "      <td>44</td>\n",
       "      <td>121622</td>\n",
       "      <td>2764.136364</td>\n",
       "    </tr>\n",
       "    <tr>\n",
       "      <td>9</td>\n",
       "      <td>49</td>\n",
       "      <td>145551</td>\n",
       "      <td>2970.428571</td>\n",
       "    </tr>\n",
       "    <tr>\n",
       "      <td>10</td>\n",
       "      <td>49</td>\n",
       "      <td>169982</td>\n",
       "      <td>3469.020408</td>\n",
       "    </tr>\n",
       "    <tr>\n",
       "      <td>11</td>\n",
       "      <td>44</td>\n",
       "      <td>174769</td>\n",
       "      <td>3972.022727</td>\n",
       "    </tr>\n",
       "    <tr>\n",
       "      <td>12</td>\n",
       "      <td>46</td>\n",
       "      <td>215698</td>\n",
       "      <td>4689.086957</td>\n",
       "    </tr>\n",
       "    <tr>\n",
       "      <td rowspan=\"8\" valign=\"top\">2017</td>\n",
       "      <td>1</td>\n",
       "      <td>52</td>\n",
       "      <td>293955</td>\n",
       "      <td>5652.980769</td>\n",
       "    </tr>\n",
       "    <tr>\n",
       "      <td>2</td>\n",
       "      <td>51</td>\n",
       "      <td>200697</td>\n",
       "      <td>3935.235294</td>\n",
       "    </tr>\n",
       "    <tr>\n",
       "      <td>3</td>\n",
       "      <td>35</td>\n",
       "      <td>154993</td>\n",
       "      <td>4428.371429</td>\n",
       "    </tr>\n",
       "    <tr>\n",
       "      <td>4</td>\n",
       "      <td>31</td>\n",
       "      <td>158177</td>\n",
       "      <td>5102.483871</td>\n",
       "    </tr>\n",
       "    <tr>\n",
       "      <td>5</td>\n",
       "      <td>33</td>\n",
       "      <td>202794</td>\n",
       "      <td>6145.272727</td>\n",
       "    </tr>\n",
       "    <tr>\n",
       "      <td>6</td>\n",
       "      <td>38</td>\n",
       "      <td>228374</td>\n",
       "      <td>6009.842105</td>\n",
       "    </tr>\n",
       "    <tr>\n",
       "      <td>7</td>\n",
       "      <td>44</td>\n",
       "      <td>269475</td>\n",
       "      <td>6124.431818</td>\n",
       "    </tr>\n",
       "    <tr>\n",
       "      <td>8</td>\n",
       "      <td>1</td>\n",
       "      <td>5730</td>\n",
       "      <td>5730.000000</td>\n",
       "    </tr>\n",
       "  </tbody>\n",
       "</table>\n",
       "</div>"
      ],
      "text/plain": [
       "                     number_of_tweets  retweet_count  normalized_retweet_count\n",
       "timestamp timestamp                                                           \n",
       "2015      11                      192          81918                426.656250\n",
       "          12                      245         285288               1164.440816\n",
       "2016      1                       127         144221               1135.598425\n",
       "          2                        84         110157               1311.392857\n",
       "          3                        92         124025               1348.097826\n",
       "          4                        45          64706               1437.911111\n",
       "          5                        40          78485               1962.125000\n",
       "          6                        61         271634               4453.016393\n",
       "          7                        67         134697               2010.402985\n",
       "          8                        44         121622               2764.136364\n",
       "          9                        49         145551               2970.428571\n",
       "          10                       49         169982               3469.020408\n",
       "          11                       44         174769               3972.022727\n",
       "          12                       46         215698               4689.086957\n",
       "2017      1                        52         293955               5652.980769\n",
       "          2                        51         200697               3935.235294\n",
       "          3                        35         154993               4428.371429\n",
       "          4                        31         158177               5102.483871\n",
       "          5                        33         202794               6145.272727\n",
       "          6                        38         228374               6009.842105\n",
       "          7                        44         269475               6124.431818\n",
       "          8                         1           5730               5730.000000"
      ]
     },
     "execution_count": 191,
     "metadata": {},
     "output_type": "execute_result"
    }
   ],
   "source": [
    "tweetsPerMonth['retweet_count'] = retweetsPerMonth['retweet_count']\n",
    "tweetsPerMonth['normalized_retweet_count'] = tweetsPerMonth['retweet_count'] / tweetsPerMonth['number_of_tweets']\n",
    "tweetsPerMonth"
   ]
  },
  {
   "cell_type": "code",
   "execution_count": 216,
   "metadata": {},
   "outputs": [
    {
     "data": {
      "image/png": "[encoded data removed]",
      "text/plain": [
       "<Figure size 720x216 with 1 Axes>"
      ]
     },
     "metadata": {
      "needs_background": "light"
     },
     "output_type": "display_data"
    }
   ],
   "source": [
    "plt.figure(figsize=(10,3))\n",
    "sn.barplot(x=tweetsPerMonth.index, y=tweetsPerMonth.normalized_retweet_count, palette = 'Blues_r')\n",
    "plt.xticks(rotation='vertical')\n",
    "plt.xlabel('Date (Year, Month)')\n",
    "plt.ylabel('Normalized Retweet Count')\n",
    "plt.savefig('retweetsPerMonth.jpg', dpi = 1200, bbox_inches='tight')"
   ]
  },
  {
   "cell_type": "markdown",
   "metadata": {},
   "source": [
    ">Judging by retweets, it seems that the website actually gets `similar levels of traffic` (as measured by retweets) `per month` and even gets `more traffic per post`."
   ]
  },
  {
   "cell_type": "markdown",
   "metadata": {},
   "source": [
    "<a id='rtbreed'></a>\n",
    "## Breed Popularity"
   ]
  },
  {
   "cell_type": "code",
   "execution_count": 193,
   "metadata": {},
   "outputs": [
    {
     "data": {
      "text/html": [
       "<div>\n",
       "<style scoped>\n",
       "    .dataframe tbody tr th:only-of-type {\n",
       "        vertical-align: middle;\n",
       "    }\n",
       "\n",
       "    .dataframe tbody tr th {\n",
       "        vertical-align: top;\n",
       "    }\n",
       "\n",
       "    .dataframe thead th {\n",
       "        text-align: right;\n",
       "    }\n",
       "</style>\n",
       "<table border=\"1\" class=\"dataframe\">\n",
       "  <thead>\n",
       "    <tr style=\"text-align: right;\">\n",
       "      <th></th>\n",
       "      <th>number_of_tweets</th>\n",
       "    </tr>\n",
       "    <tr>\n",
       "      <th>breed</th>\n",
       "      <th></th>\n",
       "    </tr>\n",
       "  </thead>\n",
       "  <tbody>\n",
       "    <tr>\n",
       "      <td>Afghan_hound</td>\n",
       "      <td>1</td>\n",
       "    </tr>\n",
       "    <tr>\n",
       "      <td>Airedale</td>\n",
       "      <td>4</td>\n",
       "    </tr>\n",
       "    <tr>\n",
       "      <td>American_Staffordshire_terrier</td>\n",
       "      <td>5</td>\n",
       "    </tr>\n",
       "    <tr>\n",
       "      <td>Appenzeller</td>\n",
       "      <td>1</td>\n",
       "    </tr>\n",
       "    <tr>\n",
       "      <td>Bernese_mountain_dog</td>\n",
       "      <td>8</td>\n",
       "    </tr>\n",
       "    <tr>\n",
       "      <td>...</td>\n",
       "      <td>...</td>\n",
       "    </tr>\n",
       "    <tr>\n",
       "      <td>standard_poodle</td>\n",
       "      <td>1</td>\n",
       "    </tr>\n",
       "    <tr>\n",
       "      <td>toy_poodle</td>\n",
       "      <td>20</td>\n",
       "    </tr>\n",
       "    <tr>\n",
       "      <td>toy_terrier</td>\n",
       "      <td>1</td>\n",
       "    </tr>\n",
       "    <tr>\n",
       "      <td>vizsla</td>\n",
       "      <td>9</td>\n",
       "    </tr>\n",
       "    <tr>\n",
       "      <td>whippet</td>\n",
       "      <td>4</td>\n",
       "    </tr>\n",
       "  </tbody>\n",
       "</table>\n",
       "<p>94 rows × 1 columns</p>\n",
       "</div>"
      ],
      "text/plain": [
       "                                number_of_tweets\n",
       "breed                                           \n",
       "Afghan_hound                                   1\n",
       "Airedale                                       4\n",
       "American_Staffordshire_terrier                 5\n",
       "Appenzeller                                    1\n",
       "Bernese_mountain_dog                           8\n",
       "...                                          ...\n",
       "standard_poodle                                1\n",
       "toy_poodle                                    20\n",
       "toy_terrier                                    1\n",
       "vizsla                                         9\n",
       "whippet                                        4\n",
       "\n",
       "[94 rows x 1 columns]"
      ]
     },
     "execution_count": 193,
     "metadata": {},
     "output_type": "execute_result"
    }
   ],
   "source": [
    "tweetsPerDog = df[df.confidence > df.confidence.median()].groupby('breed')[['tweet_id']].count()\n",
    "tweetsPerDog.columns = ['number_of_tweets']\n",
    "tweetsPerDog"
   ]
  },
  {
   "cell_type": "code",
   "execution_count": 194,
   "metadata": {},
   "outputs": [
    {
     "data": {
      "text/html": [
       "<div>\n",
       "<style scoped>\n",
       "    .dataframe tbody tr th:only-of-type {\n",
       "        vertical-align: middle;\n",
       "    }\n",
       "\n",
       "    .dataframe tbody tr th {\n",
       "        vertical-align: top;\n",
       "    }\n",
       "\n",
       "    .dataframe thead th {\n",
       "        text-align: right;\n",
       "    }\n",
       "</style>\n",
       "<table border=\"1\" class=\"dataframe\">\n",
       "  <thead>\n",
       "    <tr style=\"text-align: right;\">\n",
       "      <th></th>\n",
       "      <th>retweet_count</th>\n",
       "    </tr>\n",
       "    <tr>\n",
       "      <th>breed</th>\n",
       "      <th></th>\n",
       "    </tr>\n",
       "  </thead>\n",
       "  <tbody>\n",
       "    <tr>\n",
       "      <td>Afghan_hound</td>\n",
       "      <td>4651</td>\n",
       "    </tr>\n",
       "    <tr>\n",
       "      <td>Airedale</td>\n",
       "      <td>3369</td>\n",
       "    </tr>\n",
       "    <tr>\n",
       "      <td>American_Staffordshire_terrier</td>\n",
       "      <td>10602</td>\n",
       "    </tr>\n",
       "    <tr>\n",
       "      <td>Appenzeller</td>\n",
       "      <td>675</td>\n",
       "    </tr>\n",
       "    <tr>\n",
       "      <td>Bernese_mountain_dog</td>\n",
       "      <td>9277</td>\n",
       "    </tr>\n",
       "    <tr>\n",
       "      <td>...</td>\n",
       "      <td>...</td>\n",
       "    </tr>\n",
       "    <tr>\n",
       "      <td>standard_poodle</td>\n",
       "      <td>1096</td>\n",
       "    </tr>\n",
       "    <tr>\n",
       "      <td>toy_poodle</td>\n",
       "      <td>42724</td>\n",
       "    </tr>\n",
       "    <tr>\n",
       "      <td>toy_terrier</td>\n",
       "      <td>2002</td>\n",
       "    </tr>\n",
       "    <tr>\n",
       "      <td>vizsla</td>\n",
       "      <td>13752</td>\n",
       "    </tr>\n",
       "    <tr>\n",
       "      <td>whippet</td>\n",
       "      <td>8698</td>\n",
       "    </tr>\n",
       "  </tbody>\n",
       "</table>\n",
       "<p>94 rows × 1 columns</p>\n",
       "</div>"
      ],
      "text/plain": [
       "                                retweet_count\n",
       "breed                                        \n",
       "Afghan_hound                             4651\n",
       "Airedale                                 3369\n",
       "American_Staffordshire_terrier          10602\n",
       "Appenzeller                               675\n",
       "Bernese_mountain_dog                     9277\n",
       "...                                       ...\n",
       "standard_poodle                          1096\n",
       "toy_poodle                              42724\n",
       "toy_terrier                              2002\n",
       "vizsla                                  13752\n",
       "whippet                                  8698\n",
       "\n",
       "[94 rows x 1 columns]"
      ]
     },
     "execution_count": 194,
     "metadata": {},
     "output_type": "execute_result"
    }
   ],
   "source": [
    "retweetsPerDog = df[df.confidence > df.confidence.median()][['tweet_id', 'retweet_count']].groupby(by=[df[df.confidence > df.confidence.median()].breed]).sum()\n",
    "retweetsPerDog"
   ]
  },
  {
   "cell_type": "code",
   "execution_count": 195,
   "metadata": {},
   "outputs": [
    {
     "data": {
      "text/html": [
       "<div>\n",
       "<style scoped>\n",
       "    .dataframe tbody tr th:only-of-type {\n",
       "        vertical-align: middle;\n",
       "    }\n",
       "\n",
       "    .dataframe tbody tr th {\n",
       "        vertical-align: top;\n",
       "    }\n",
       "\n",
       "    .dataframe thead th {\n",
       "        text-align: right;\n",
       "    }\n",
       "</style>\n",
       "<table border=\"1\" class=\"dataframe\">\n",
       "  <thead>\n",
       "    <tr style=\"text-align: right;\">\n",
       "      <th></th>\n",
       "      <th>breed</th>\n",
       "      <th>number_of_tweets</th>\n",
       "      <th>retweet_count</th>\n",
       "      <th>retweet_count_normalized</th>\n",
       "    </tr>\n",
       "  </thead>\n",
       "  <tbody>\n",
       "    <tr>\n",
       "      <td>0</td>\n",
       "      <td>Cardigan</td>\n",
       "      <td>6</td>\n",
       "      <td>30227</td>\n",
       "      <td>5037.833333</td>\n",
       "    </tr>\n",
       "    <tr>\n",
       "      <td>1</td>\n",
       "      <td>Great_Pyrenees</td>\n",
       "      <td>9</td>\n",
       "      <td>42055</td>\n",
       "      <td>4672.777778</td>\n",
       "    </tr>\n",
       "    <tr>\n",
       "      <td>2</td>\n",
       "      <td>French_bulldog</td>\n",
       "      <td>21</td>\n",
       "      <td>95881</td>\n",
       "      <td>4565.761905</td>\n",
       "    </tr>\n",
       "    <tr>\n",
       "      <td>3</td>\n",
       "      <td>Labrador_retriever</td>\n",
       "      <td>55</td>\n",
       "      <td>245629</td>\n",
       "      <td>4465.981818</td>\n",
       "    </tr>\n",
       "    <tr>\n",
       "      <td>4</td>\n",
       "      <td>Chesapeake_Bay_retriever</td>\n",
       "      <td>9</td>\n",
       "      <td>34556</td>\n",
       "      <td>3839.555556</td>\n",
       "    </tr>\n",
       "    <tr>\n",
       "      <td>...</td>\n",
       "      <td>...</td>\n",
       "      <td>...</td>\n",
       "      <td>...</td>\n",
       "      <td>...</td>\n",
       "    </tr>\n",
       "    <tr>\n",
       "      <td>64</td>\n",
       "      <td>boxer</td>\n",
       "      <td>6</td>\n",
       "      <td>4103</td>\n",
       "      <td>683.833333</td>\n",
       "    </tr>\n",
       "    <tr>\n",
       "      <td>65</td>\n",
       "      <td>Lakeland_terrier</td>\n",
       "      <td>5</td>\n",
       "      <td>2842</td>\n",
       "      <td>568.400000</td>\n",
       "    </tr>\n",
       "    <tr>\n",
       "      <td>66</td>\n",
       "      <td>Irish_terrier</td>\n",
       "      <td>2</td>\n",
       "      <td>1062</td>\n",
       "      <td>531.000000</td>\n",
       "    </tr>\n",
       "    <tr>\n",
       "      <td>67</td>\n",
       "      <td>kuvasz</td>\n",
       "      <td>2</td>\n",
       "      <td>947</td>\n",
       "      <td>473.500000</td>\n",
       "    </tr>\n",
       "    <tr>\n",
       "      <td>68</td>\n",
       "      <td>English_springer</td>\n",
       "      <td>2</td>\n",
       "      <td>352</td>\n",
       "      <td>176.000000</td>\n",
       "    </tr>\n",
       "  </tbody>\n",
       "</table>\n",
       "<p>69 rows × 4 columns</p>\n",
       "</div>"
      ],
      "text/plain": [
       "                       breed  number_of_tweets  retweet_count  \\\n",
       "0                   Cardigan                 6          30227   \n",
       "1             Great_Pyrenees                 9          42055   \n",
       "2             French_bulldog                21          95881   \n",
       "3         Labrador_retriever                55         245629   \n",
       "4   Chesapeake_Bay_retriever                 9          34556   \n",
       "..                       ...               ...            ...   \n",
       "64                     boxer                 6           4103   \n",
       "65          Lakeland_terrier                 5           2842   \n",
       "66             Irish_terrier                 2           1062   \n",
       "67                    kuvasz                 2            947   \n",
       "68          English_springer                 2            352   \n",
       "\n",
       "    retweet_count_normalized  \n",
       "0                5037.833333  \n",
       "1                4672.777778  \n",
       "2                4565.761905  \n",
       "3                4465.981818  \n",
       "4                3839.555556  \n",
       "..                       ...  \n",
       "64                683.833333  \n",
       "65                568.400000  \n",
       "66                531.000000  \n",
       "67                473.500000  \n",
       "68                176.000000  \n",
       "\n",
       "[69 rows x 4 columns]"
      ]
     },
     "execution_count": 195,
     "metadata": {},
     "output_type": "execute_result"
    }
   ],
   "source": [
    "dogTrends = tweetsPerDog.merge(retweetsPerDog, on='breed')\n",
    "dogTrends['retweet_count_normalized'] = dogTrends.retweet_count / dogTrends.number_of_tweets\n",
    "# Only include breeds that are posted more than once. That should take care of any 'one hit wonders'\n",
    "dogTrends = dogTrends[dogTrends.number_of_tweets >=2].sort_values('retweet_count_normalized', ascending=False).reset_index()\n",
    "dogTrends"
   ]
  },
  {
   "cell_type": "code",
   "execution_count": 199,
   "metadata": {},
   "outputs": [
    {
     "data": {
      "image/png": "[encoded data removed]",
      "text/plain": [
       "<Figure size 576x1080 with 1 Axes>"
      ]
     },
     "metadata": {
      "needs_background": "light"
     },
     "output_type": "display_data"
    }
   ],
   "source": [
    "plt.figure(figsize=(8, 15))\n",
    "sn.barplot(x=dogTrends.retweet_count_normalized, y=dogTrends.breed, palette = 'Blues_d')\n",
    "plt.xlabel('Normalized Retweet Count')\n",
    "plt.ylabel('Dog Breeds')\n",
    "plt.savefig('retweetsPerBreed.jpg', dpi = 1200, bbox_inches='tight')"
   ]
  },
  {
   "cell_type": "code",
   "execution_count": 98,
   "metadata": {},
   "outputs": [
    {
     "data": {
      "text/html": [
       "<div>\n",
       "<style scoped>\n",
       "    .dataframe tbody tr th:only-of-type {\n",
       "        vertical-align: middle;\n",
       "    }\n",
       "\n",
       "    .dataframe tbody tr th {\n",
       "        vertical-align: top;\n",
       "    }\n",
       "\n",
       "    .dataframe thead th {\n",
       "        text-align: right;\n",
       "    }\n",
       "</style>\n",
       "<table border=\"1\" class=\"dataframe\">\n",
       "  <thead>\n",
       "    <tr style=\"text-align: right;\">\n",
       "      <th></th>\n",
       "      <th>breed</th>\n",
       "      <th>retweet_count_normalized</th>\n",
       "    </tr>\n",
       "  </thead>\n",
       "  <tbody>\n",
       "    <tr>\n",
       "      <td>0</td>\n",
       "      <td>Cardigan</td>\n",
       "      <td>5037.833333</td>\n",
       "    </tr>\n",
       "    <tr>\n",
       "      <td>1</td>\n",
       "      <td>Great_Pyrenees</td>\n",
       "      <td>4672.777778</td>\n",
       "    </tr>\n",
       "    <tr>\n",
       "      <td>2</td>\n",
       "      <td>French_bulldog</td>\n",
       "      <td>4565.761905</td>\n",
       "    </tr>\n",
       "    <tr>\n",
       "      <td>3</td>\n",
       "      <td>Labrador_retriever</td>\n",
       "      <td>4465.981818</td>\n",
       "    </tr>\n",
       "    <tr>\n",
       "      <td>4</td>\n",
       "      <td>Chesapeake_Bay_retriever</td>\n",
       "      <td>3839.555556</td>\n",
       "    </tr>\n",
       "    <tr>\n",
       "      <td>5</td>\n",
       "      <td>Samoyed</td>\n",
       "      <td>3832.400000</td>\n",
       "    </tr>\n",
       "    <tr>\n",
       "      <td>6</td>\n",
       "      <td>Rottweiler</td>\n",
       "      <td>3673.166667</td>\n",
       "    </tr>\n",
       "    <tr>\n",
       "      <td>7</td>\n",
       "      <td>bloodhound</td>\n",
       "      <td>3570.000000</td>\n",
       "    </tr>\n",
       "    <tr>\n",
       "      <td>8</td>\n",
       "      <td>Pembroke</td>\n",
       "      <td>3428.576271</td>\n",
       "    </tr>\n",
       "    <tr>\n",
       "      <td>9</td>\n",
       "      <td>miniature_pinscher</td>\n",
       "      <td>3323.857143</td>\n",
       "    </tr>\n",
       "  </tbody>\n",
       "</table>\n",
       "</div>"
      ],
      "text/plain": [
       "                      breed  retweet_count_normalized\n",
       "0                  Cardigan               5037.833333\n",
       "1            Great_Pyrenees               4672.777778\n",
       "2            French_bulldog               4565.761905\n",
       "3        Labrador_retriever               4465.981818\n",
       "4  Chesapeake_Bay_retriever               3839.555556\n",
       "5                   Samoyed               3832.400000\n",
       "6                Rottweiler               3673.166667\n",
       "7                bloodhound               3570.000000\n",
       "8                  Pembroke               3428.576271\n",
       "9        miniature_pinscher               3323.857143"
      ]
     },
     "execution_count": 98,
     "metadata": {},
     "output_type": "execute_result"
    }
   ],
   "source": [
    "# The top ten most popular dog breeds by retweet count\n",
    "# And no, Cardigan does not refer to that nice piece of clothing. It's basically a Corgi.\n",
    "dogTrends[['breed', 'retweet_count_normalized']].loc[0:9]"
   ]
  },
  {
   "cell_type": "code",
   "execution_count": 203,
   "metadata": {},
   "outputs": [
    {
     "data": {
      "image/png": "[encoded data removed]",
      "text/plain": [
       "<Figure size 360x216 with 1 Axes>"
      ]
     },
     "metadata": {
      "needs_background": "light"
     },
     "output_type": "display_data"
    }
   ],
   "source": [
    "# Distribution of retweet counts per dog\n",
    "plt.figure(figsize=(5,3))\n",
    "sn.distplot(dogTrends[dogTrends.number_of_tweets >=2]['retweet_count_normalized'])\n",
    "plt.axvline(dogTrends[dogTrends.number_of_tweets >=2]['retweet_count_normalized'].median(), color = 'r')\n",
    "plt.xlim(0, 5000)\n",
    "plt.savefig('breedRetweetDistribution.jpg', dpi = 1200)"
   ]
  },
  {
   "cell_type": "markdown",
   "metadata": {},
   "source": [
    "## Retweets by Dog Stage"
   ]
  },
  {
   "cell_type": "code",
   "execution_count": 100,
   "metadata": {},
   "outputs": [
    {
     "data": {
      "text/html": [
       "<div>\n",
       "<style scoped>\n",
       "    .dataframe tbody tr th:only-of-type {\n",
       "        vertical-align: middle;\n",
       "    }\n",
       "\n",
       "    .dataframe tbody tr th {\n",
       "        vertical-align: top;\n",
       "    }\n",
       "\n",
       "    .dataframe thead th {\n",
       "        text-align: right;\n",
       "    }\n",
       "</style>\n",
       "<table border=\"1\" class=\"dataframe\">\n",
       "  <thead>\n",
       "    <tr style=\"text-align: right;\">\n",
       "      <th></th>\n",
       "      <th>retweet_count_normalized</th>\n",
       "    </tr>\n",
       "    <tr>\n",
       "      <th>dog_stage</th>\n",
       "      <th></th>\n",
       "    </tr>\n",
       "  </thead>\n",
       "  <tbody>\n",
       "    <tr>\n",
       "      <td>doggo</td>\n",
       "      <td>7076.361702</td>\n",
       "    </tr>\n",
       "    <tr>\n",
       "      <td>floofer</td>\n",
       "      <td>4376.142857</td>\n",
       "    </tr>\n",
       "    <tr>\n",
       "      <td>multiple</td>\n",
       "      <td>5207.500000</td>\n",
       "    </tr>\n",
       "    <tr>\n",
       "      <td>nan</td>\n",
       "      <td>2237.032180</td>\n",
       "    </tr>\n",
       "    <tr>\n",
       "      <td>pupper</td>\n",
       "      <td>2277.569444</td>\n",
       "    </tr>\n",
       "    <tr>\n",
       "      <td>puppo</td>\n",
       "      <td>5950.000000</td>\n",
       "    </tr>\n",
       "  </tbody>\n",
       "</table>\n",
       "</div>"
      ],
      "text/plain": [
       "           retweet_count_normalized\n",
       "dog_stage                          \n",
       "doggo                   7076.361702\n",
       "floofer                 4376.142857\n",
       "multiple                5207.500000\n",
       "nan                     2237.032180\n",
       "pupper                  2277.569444\n",
       "puppo                   5950.000000"
      ]
     },
     "execution_count": 100,
     "metadata": {},
     "output_type": "execute_result"
    }
   ],
   "source": [
    "# The raw number of retweets per dog stage\n",
    "retweetsByStage = pd.DataFrame(df.groupby('dog_stage')['retweet_count'].sum())\n",
    "\n",
    "# The number of tweets per dog stage\n",
    "tweetsByStage = pd.DataFrame(df.groupby('dog_stage')['tweet_id'].count())\n",
    "tweetsByStage.columns = ['number_of_tweets']\n",
    "tweetsByStage['retweet_count'] = retweetsByStage.retweet_count\n",
    "\n",
    "# The number of retweets per dog stage normalized by the number of tweets\n",
    "tweetsByStage['retweet_count_normalized'] = tweetsByStage['retweet_count'] / tweetsByStage['number_of_tweets']\n",
    "tweetsByStage[['retweet_count_normalized']]"
   ]
  },
  {
   "cell_type": "markdown",
   "metadata": {},
   "source": [
    "```\n",
    "```"
   ]
  }
 ],
 "metadata": {
  "kernelspec": {
   "display_name": "Python 3",
   "language": "python",
   "name": "python3"
  },
  "language_info": {
   "codemirror_mode": {
    "name": "ipython",
    "version": 3
   },
   "file_extension": ".py",
   "mimetype": "text/x-python",
   "name": "python",
   "nbconvert_exporter": "python",
   "pygments_lexer": "ipython3",
   "version": "3.7.4"
  }
 },
 "nbformat": 4,
 "nbformat_minor": 2
}
